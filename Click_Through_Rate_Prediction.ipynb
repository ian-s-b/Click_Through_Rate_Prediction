{
 "cells": [
  {
   "cell_type": "markdown",
   "id": "ea305a5e-9c50-47ab-979b-dd11cad73c7a",
   "metadata": {
    "tags": []
   },
   "source": [
    "# Click-Through Rate Prediction :\n",
    "#### Predict whether a mobile ad will be clicked using tensorflow random forests algorithms."
   ]
  },
  {
   "cell_type": "markdown",
   "id": "38c6deb7-c009-4fbd-9b69-f5d8b2bb2c7b",
   "metadata": {},
   "source": [
    "By **Ian SOBRAL**"
   ]
  },
  {
   "cell_type": "markdown",
   "id": "f15dd955-e8f0-4752-9b4d-208901b5d659",
   "metadata": {
    "tags": []
   },
   "source": [
    "## Table of Contents"
   ]
  },
  {
   "cell_type": "markdown",
   "id": "b92bcd57-fdf6-470a-9f93-1e1073a66300",
   "metadata": {
    "jp-MarkdownHeadingCollapsed": true,
    "tags": []
   },
   "source": [
    "* [1. Introduction](#1)\n",
    "* [2. Initial kaggle configurations](#2)\n",
    "* [3. Libraries used in the project](#3)\n",
    "* [4. Data visualization](#4)\n",
    "* [5. Most influential factors](#5)\n",
    "* [6. Data sets creation](#6)\n",
    "* [7. Simple model](#7)\n",
    "* [8. Complete model](#8)\n",
    "* [9. Predictions on test dataset](#9)\n",
    "* [10. Conclusions](#10)"
   ]
  },
  {
   "cell_type": "markdown",
   "id": "9ab3f2c5-e551-49e2-ba07-788ee36b8f33",
   "metadata": {
    "jp-MarkdownHeadingCollapsed": true,
    "tags": []
   },
   "source": [
    "## 1. Introduction <a id=\"1\"></a>"
   ]
  },
  {
   "cell_type": "markdown",
   "id": "3f19ad62-0e17-4fb3-95b0-7a4551f208a9",
   "metadata": {},
   "source": [
    "Click-through rate (CTR) is a very common way to predict if a certain ad will be clicked or not. This metric is the relationship between users who clicked on the ad and all users (taking into account those who clicked and those who did not). This way we can have a good visibility on whether an advertisement is effective or not.\n",
    "\n",
    "The objectif of this project is to build a predicting model for CTR based on the following Avazu's data set, available on the kaggle website: https://www.kaggle.com/c/avazu-ctr-prediction/data.\n",
    "\n",
    "In other words, we want to predict the probability that an user is going to clik or not on a given advertisement."
   ]
  },
  {
   "cell_type": "markdown",
   "id": "8804b4e5-237b-44e7-bf39-b695b054bfcd",
   "metadata": {
    "jp-MarkdownHeadingCollapsed": true,
    "tags": []
   },
   "source": [
    "## 2. Initial kaggle configurations <a id=\"2\"></a>"
   ]
  },
  {
   "cell_type": "markdown",
   "id": "e01684d8-fe8f-4ee3-bc9e-7b8288752037",
   "metadata": {},
   "source": [
    "Install \"kaggle\" library and configure the \"kaggle.json\" file to have access to the dataset if necessary:"
   ]
  },
  {
   "cell_type": "code",
   "execution_count": 2,
   "id": "ad408814-5374-49c0-a835-76643c2cb261",
   "metadata": {},
   "outputs": [],
   "source": [
    "#!pip install kaggle"
   ]
  },
  {
   "cell_type": "code",
   "execution_count": 3,
   "id": "d72b31c1-9a53-4ea1-96c6-d8b398c31c69",
   "metadata": {},
   "outputs": [],
   "source": [
    "#!mkdir ~/.kaggle"
   ]
  },
  {
   "cell_type": "code",
   "execution_count": 4,
   "id": "7b3dd12e-5482-4df2-b462-f1a47f23c8c1",
   "metadata": {},
   "outputs": [],
   "source": [
    "#!cp kaggle.json ~/.kaggle"
   ]
  },
  {
   "cell_type": "markdown",
   "id": "25da23ac-48c2-4a19-8e3a-26c77a6bf778",
   "metadata": {},
   "source": [
    "Download the dataset:"
   ]
  },
  {
   "cell_type": "code",
   "execution_count": 5,
   "id": "e52f3538-2cc3-4b0d-9e60-a7556ecb12dd",
   "metadata": {},
   "outputs": [],
   "source": [
    "#!kaggle competitions download -c avazu-ctr-prediction"
   ]
  },
  {
   "cell_type": "markdown",
   "id": "40b3a89a-679f-49e7-b418-0c64c5717a38",
   "metadata": {
    "jp-MarkdownHeadingCollapsed": true,
    "tags": []
   },
   "source": [
    "## 3. Libraries used in the project <a id=\"3\"></a>"
   ]
  },
  {
   "cell_type": "markdown",
   "id": "4c450294-6db5-4791-8b50-a6838d68a2d7",
   "metadata": {},
   "source": [
    "You will find down below all the libraries used in the project:"
   ]
  },
  {
   "cell_type": "code",
   "execution_count": 76,
   "id": "39ce17aa-8522-4a1e-be30-89e79f6dd1b4",
   "metadata": {},
   "outputs": [],
   "source": [
    "import pandas as pd\n",
    "pd.set_option(\"display.max_columns\", None)\n",
    "#import zipfile\n",
    "import gzip\n",
    "import random\n",
    "import numpy as np\n",
    "import matplotlib.pyplot as plt\n",
    "import copy\n",
    "import tensorflow_decision_forests as tfdf"
   ]
  },
  {
   "cell_type": "markdown",
   "id": "60ef6d7b-17aa-4db8-a017-a4b4d526b927",
   "metadata": {
    "jp-MarkdownHeadingCollapsed": true,
    "tags": []
   },
   "source": [
    "## 4. Data visualization<a id=\"4\"></a>"
   ]
  },
  {
   "cell_type": "markdown",
   "id": "ebd18f8c-827d-4058-ab74-c37194641d55",
   "metadata": {},
   "source": [
    "Extracting the .zip file :"
   ]
  },
  {
   "cell_type": "code",
   "execution_count": 7,
   "id": "7edf1bc1-831b-4d4f-a921-27030ab60964",
   "metadata": {},
   "outputs": [],
   "source": [
    "# with zipfile.ZipFile(\"avazu-ctr-prediction.zip\", 'r') as z:\n",
    "#     z.extractall()"
   ]
  },
  {
   "cell_type": "markdown",
   "id": "e7ef4aee-0f41-417d-862a-dcac3a887e09",
   "metadata": {},
   "source": [
    "The extracted files are the following (the description was retrieved from the kaggle competition) :\n",
    "\n",
    "- **train.gz** : Training set. 10 days of click-through data, ordered chronologically. Non-clicks and clicks are subsampled according to different strategies\n",
    "\n",
    "- **test.gz** : Test set. 1 day of ads to for testing your model predictions\n",
    "\n",
    "- **sampleSubmission.gz** : Sample submission file in the correct format."
   ]
  },
  {
   "cell_type": "markdown",
   "id": "9f38ebf3-2e4f-49e1-b77a-b7d8f27dde3b",
   "metadata": {},
   "source": [
    "On this data set, we have more than 40 million entries! In order to train the model faster, we will randomly take about 5% of this data set, which represents about 2 million rows to create the train set. \n",
    "\n",
    "To create the cross-validation (cv) set, we will take 1% of 2 million which is 200 thousand.\n",
    "\n",
    "The test set will be used for the submission to the kaggle website at the end of the project."
   ]
  },
  {
   "cell_type": "code",
   "execution_count": 8,
   "id": "245927b2-8edf-491d-ae89-2f5fe3e0c057",
   "metadata": {},
   "outputs": [],
   "source": [
    "n = 40428967 #number of rows in \"train.gz\"\n",
    "s = 2200000 #sample size to be splitted on train and cv datasets\n",
    "\n",
    "skiprows = sorted(random.sample(range(1,n+1),n-s))"
   ]
  },
  {
   "cell_type": "markdown",
   "id": "b990b9f3-8bd2-4c8e-84fb-5b4562ad1927",
   "metadata": {},
   "source": [
    "To be able to read and to work with the data, we will need to do the following:"
   ]
  },
  {
   "cell_type": "markdown",
   "id": "78611d9b-962e-46e9-908a-e07aa4be2462",
   "metadata": {},
   "source": [
    "- Convert the data types to more user-friendly ones :"
   ]
  },
  {
   "cell_type": "code",
   "execution_count": 9,
   "id": "1633b317-879f-4063-bef6-16c7df0c3323",
   "metadata": {},
   "outputs": [],
   "source": [
    "dtypes_converter = {\n",
    "    'id': np.dtype(int),\n",
    "    'click': np.dtype(int),\n",
    "    'hour': str,\n",
    "    'C1': np.dtype(int),\n",
    "    'banner_pos': np.dtype(int),\n",
    "    'site_id': np.dtype(str),\n",
    "    'site_domain': np.dtype(str), \n",
    "    'site_category': np.dtype(str),\n",
    "    'app_id': np.dtype(str),\n",
    "    'app_domain': np.dtype(str),\n",
    "    'app_category': np.dtype(str),\n",
    "    'device_id': np.dtype(str),\n",
    "    'device_ip': np.dtype(str),\n",
    "    'device_model': np.dtype(str),\n",
    "    'device_type': np.dtype(int),\n",
    "    'device_conn_type': np.dtype(int),\n",
    "    'C14': np.dtype(int),\n",
    "    'C15': np.dtype(int),\n",
    "    'C16': np.dtype(int),\n",
    "    'C17': np.dtype(int),\n",
    "    'C18': np.dtype(int),\n",
    "    'C19': np.dtype(int),\n",
    "    'C20': np.dtype(int),\n",
    "    'C21': np.dtype(int)\n",
    "}"
   ]
  },
  {
   "cell_type": "markdown",
   "id": "95fb71d5-0b07-4651-88ba-0ce045ff4791",
   "metadata": {},
   "source": [
    "- Convert the timestamp from the \"hour\" column to a \"date-time\" format :"
   ]
  },
  {
   "cell_type": "code",
   "execution_count": 10,
   "id": "681ea05f-522d-4c12-a537-3cdcd8440dfc",
   "metadata": {},
   "outputs": [],
   "source": [
    "dparser = lambda val : pd.datetime.strptime(val, '%y%m%d%H')"
   ]
  },
  {
   "cell_type": "markdown",
   "id": "619d77b4-091c-4d42-9645-e129c329dfb1",
   "metadata": {},
   "source": [
    "Finally, we can open the 'train.gz' file :"
   ]
  },
  {
   "cell_type": "code",
   "execution_count": null,
   "id": "eca384b5-58fd-43af-aa30-fe35994e19a7",
   "metadata": {},
   "outputs": [],
   "source": [
    "with gzip.open('train.gz') as f:\n",
    "    df = pd.read_csv(f, parse_dates=[\"hour\"], date_parser=dparser, dtype=dtypes_converter, skiprows=skiprows)"
   ]
  },
  {
   "cell_type": "markdown",
   "id": "7811d68c-cc85-4711-af47-cdcb16527914",
   "metadata": {},
   "source": [
    "Check the size of the data set:"
   ]
  },
  {
   "cell_type": "code",
   "execution_count": 12,
   "id": "099c004a-1f01-4d1b-b7fb-d6f452fcd6c4",
   "metadata": {},
   "outputs": [
    {
     "data": {
      "text/plain": [
       "(2200000, 24)"
      ]
     },
     "execution_count": 12,
     "metadata": {},
     "output_type": "execute_result"
    }
   ],
   "source": [
    "df.shape"
   ]
  },
  {
   "cell_type": "markdown",
   "id": "cbffcebc-5d55-4c44-8dc4-f746edb02f29",
   "metadata": {},
   "source": [
    "Visualize the data:"
   ]
  },
  {
   "cell_type": "code",
   "execution_count": 13,
   "id": "124f1f77-5f8b-47af-afc2-d0e0b625ce61",
   "metadata": {},
   "outputs": [
    {
     "data": {
      "text/html": [
       "<div>\n",
       "<style scoped>\n",
       "    .dataframe tbody tr th:only-of-type {\n",
       "        vertical-align: middle;\n",
       "    }\n",
       "\n",
       "    .dataframe tbody tr th {\n",
       "        vertical-align: top;\n",
       "    }\n",
       "\n",
       "    .dataframe thead th {\n",
       "        text-align: right;\n",
       "    }\n",
       "</style>\n",
       "<table border=\"1\" class=\"dataframe\">\n",
       "  <thead>\n",
       "    <tr style=\"text-align: right;\">\n",
       "      <th></th>\n",
       "      <th>id</th>\n",
       "      <th>click</th>\n",
       "      <th>hour</th>\n",
       "      <th>C1</th>\n",
       "      <th>banner_pos</th>\n",
       "      <th>site_id</th>\n",
       "      <th>site_domain</th>\n",
       "      <th>site_category</th>\n",
       "      <th>app_id</th>\n",
       "      <th>app_domain</th>\n",
       "      <th>app_category</th>\n",
       "      <th>device_id</th>\n",
       "      <th>device_ip</th>\n",
       "      <th>device_model</th>\n",
       "      <th>device_type</th>\n",
       "      <th>device_conn_type</th>\n",
       "      <th>C14</th>\n",
       "      <th>C15</th>\n",
       "      <th>C16</th>\n",
       "      <th>C17</th>\n",
       "      <th>C18</th>\n",
       "      <th>C19</th>\n",
       "      <th>C20</th>\n",
       "      <th>C21</th>\n",
       "    </tr>\n",
       "  </thead>\n",
       "  <tbody>\n",
       "    <tr>\n",
       "      <th>0</th>\n",
       "      <td>10004181428767727519</td>\n",
       "      <td>0</td>\n",
       "      <td>2014-10-21</td>\n",
       "      <td>1005</td>\n",
       "      <td>1</td>\n",
       "      <td>0c2fe9d6</td>\n",
       "      <td>27e3c518</td>\n",
       "      <td>28905ebd</td>\n",
       "      <td>ecad2386</td>\n",
       "      <td>7801e8d9</td>\n",
       "      <td>07d7df22</td>\n",
       "      <td>a99f214a</td>\n",
       "      <td>b7a69808</td>\n",
       "      <td>158e4944</td>\n",
       "      <td>1</td>\n",
       "      <td>0</td>\n",
       "      <td>6558</td>\n",
       "      <td>320</td>\n",
       "      <td>50</td>\n",
       "      <td>571</td>\n",
       "      <td>2</td>\n",
       "      <td>39</td>\n",
       "      <td>-1</td>\n",
       "      <td>32</td>\n",
       "    </tr>\n",
       "    <tr>\n",
       "      <th>1</th>\n",
       "      <td>10006557235872316145</td>\n",
       "      <td>0</td>\n",
       "      <td>2014-10-21</td>\n",
       "      <td>1005</td>\n",
       "      <td>0</td>\n",
       "      <td>1fbe01fe</td>\n",
       "      <td>f3845767</td>\n",
       "      <td>28905ebd</td>\n",
       "      <td>ecad2386</td>\n",
       "      <td>7801e8d9</td>\n",
       "      <td>07d7df22</td>\n",
       "      <td>a99f214a</td>\n",
       "      <td>ac77b71a</td>\n",
       "      <td>d787e91b</td>\n",
       "      <td>1</td>\n",
       "      <td>0</td>\n",
       "      <td>15699</td>\n",
       "      <td>320</td>\n",
       "      <td>50</td>\n",
       "      <td>1722</td>\n",
       "      <td>0</td>\n",
       "      <td>35</td>\n",
       "      <td>-1</td>\n",
       "      <td>79</td>\n",
       "    </tr>\n",
       "    <tr>\n",
       "      <th>2</th>\n",
       "      <td>1001082718558099372</td>\n",
       "      <td>0</td>\n",
       "      <td>2014-10-21</td>\n",
       "      <td>1005</td>\n",
       "      <td>0</td>\n",
       "      <td>85f751fd</td>\n",
       "      <td>c4e18dd6</td>\n",
       "      <td>50e219e0</td>\n",
       "      <td>1779deee</td>\n",
       "      <td>2347f47a</td>\n",
       "      <td>f95efa07</td>\n",
       "      <td>a99f214a</td>\n",
       "      <td>5a96d22e</td>\n",
       "      <td>9e3836ff</td>\n",
       "      <td>1</td>\n",
       "      <td>0</td>\n",
       "      <td>18993</td>\n",
       "      <td>320</td>\n",
       "      <td>50</td>\n",
       "      <td>2161</td>\n",
       "      <td>0</td>\n",
       "      <td>35</td>\n",
       "      <td>-1</td>\n",
       "      <td>157</td>\n",
       "    </tr>\n",
       "    <tr>\n",
       "      <th>3</th>\n",
       "      <td>1001179289293608710</td>\n",
       "      <td>0</td>\n",
       "      <td>2014-10-21</td>\n",
       "      <td>1005</td>\n",
       "      <td>1</td>\n",
       "      <td>e023ba3e</td>\n",
       "      <td>75f9ddc3</td>\n",
       "      <td>f028772b</td>\n",
       "      <td>ecad2386</td>\n",
       "      <td>7801e8d9</td>\n",
       "      <td>07d7df22</td>\n",
       "      <td>a99f214a</td>\n",
       "      <td>f7c9ee04</td>\n",
       "      <td>56f254f5</td>\n",
       "      <td>1</td>\n",
       "      <td>0</td>\n",
       "      <td>17914</td>\n",
       "      <td>320</td>\n",
       "      <td>50</td>\n",
       "      <td>2043</td>\n",
       "      <td>2</td>\n",
       "      <td>39</td>\n",
       "      <td>-1</td>\n",
       "      <td>32</td>\n",
       "    </tr>\n",
       "    <tr>\n",
       "      <th>4</th>\n",
       "      <td>10014630626523032142</td>\n",
       "      <td>0</td>\n",
       "      <td>2014-10-21</td>\n",
       "      <td>1005</td>\n",
       "      <td>0</td>\n",
       "      <td>1fbe01fe</td>\n",
       "      <td>f3845767</td>\n",
       "      <td>28905ebd</td>\n",
       "      <td>ecad2386</td>\n",
       "      <td>7801e8d9</td>\n",
       "      <td>07d7df22</td>\n",
       "      <td>a99f214a</td>\n",
       "      <td>0345a137</td>\n",
       "      <td>3bd9e8e7</td>\n",
       "      <td>1</td>\n",
       "      <td>0</td>\n",
       "      <td>15702</td>\n",
       "      <td>320</td>\n",
       "      <td>50</td>\n",
       "      <td>1722</td>\n",
       "      <td>0</td>\n",
       "      <td>35</td>\n",
       "      <td>100083</td>\n",
       "      <td>79</td>\n",
       "    </tr>\n",
       "  </tbody>\n",
       "</table>\n",
       "</div>"
      ],
      "text/plain": [
       "                     id  click       hour    C1  banner_pos   site_id  \\\n",
       "0  10004181428767727519      0 2014-10-21  1005           1  0c2fe9d6   \n",
       "1  10006557235872316145      0 2014-10-21  1005           0  1fbe01fe   \n",
       "2   1001082718558099372      0 2014-10-21  1005           0  85f751fd   \n",
       "3   1001179289293608710      0 2014-10-21  1005           1  e023ba3e   \n",
       "4  10014630626523032142      0 2014-10-21  1005           0  1fbe01fe   \n",
       "\n",
       "  site_domain site_category    app_id app_domain app_category device_id  \\\n",
       "0    27e3c518      28905ebd  ecad2386   7801e8d9     07d7df22  a99f214a   \n",
       "1    f3845767      28905ebd  ecad2386   7801e8d9     07d7df22  a99f214a   \n",
       "2    c4e18dd6      50e219e0  1779deee   2347f47a     f95efa07  a99f214a   \n",
       "3    75f9ddc3      f028772b  ecad2386   7801e8d9     07d7df22  a99f214a   \n",
       "4    f3845767      28905ebd  ecad2386   7801e8d9     07d7df22  a99f214a   \n",
       "\n",
       "  device_ip device_model  device_type  device_conn_type    C14  C15  C16  \\\n",
       "0  b7a69808     158e4944            1                 0   6558  320   50   \n",
       "1  ac77b71a     d787e91b            1                 0  15699  320   50   \n",
       "2  5a96d22e     9e3836ff            1                 0  18993  320   50   \n",
       "3  f7c9ee04     56f254f5            1                 0  17914  320   50   \n",
       "4  0345a137     3bd9e8e7            1                 0  15702  320   50   \n",
       "\n",
       "    C17  C18  C19     C20  C21  \n",
       "0   571    2   39      -1   32  \n",
       "1  1722    0   35      -1   79  \n",
       "2  2161    0   35      -1  157  \n",
       "3  2043    2   39      -1   32  \n",
       "4  1722    0   35  100083   79  "
      ]
     },
     "execution_count": 13,
     "metadata": {},
     "output_type": "execute_result"
    }
   ],
   "source": [
    "df.head()"
   ]
  },
  {
   "cell_type": "markdown",
   "id": "a27e00e0-c319-4c18-ae9c-2a0ef89521b0",
   "metadata": {},
   "source": [
    "We can see that some data do not make sense, the reason is that they have been encrypted by Avazu for privacy reasons."
   ]
  },
  {
   "cell_type": "markdown",
   "id": "df7d80a1-ad5d-4ad0-b73b-a4769313ce03",
   "metadata": {},
   "source": [
    "Furthermore, since the hour and the time are displayed together on the \"hour\" parameter, we can separe them into two new columns : \"actual_hour\" and \"weekday\". \n",
    "\n",
    "We will take the day of the week as a parameter rather than the actual date, because since the goal of the model is to predict clicks for future dates, days of the week seem to be much more useful"
   ]
  },
  {
   "cell_type": "code",
   "execution_count": 11,
   "id": "2d330113-58a9-478c-bd89-aeb7524dfa12",
   "metadata": {},
   "outputs": [],
   "source": [
    "def split_hour_week(df):\n",
    "    df[\"actual_hour\"]=df[\"hour\"].dt.hour\n",
    "    df[\"weekday\"]=df[\"hour\"].dt.weekday\n",
    "    df.drop('hour', axis=1, inplace=True)"
   ]
  },
  {
   "cell_type": "code",
   "execution_count": null,
   "id": "96b522d0-e169-4a53-b112-d46c46cc709b",
   "metadata": {},
   "outputs": [],
   "source": [
    "split_hour_week(df)"
   ]
  },
  {
   "cell_type": "code",
   "execution_count": 16,
   "id": "25391273-f2b2-4e21-82f6-b7011916cb39",
   "metadata": {},
   "outputs": [
    {
     "data": {
      "text/html": [
       "<div>\n",
       "<style scoped>\n",
       "    .dataframe tbody tr th:only-of-type {\n",
       "        vertical-align: middle;\n",
       "    }\n",
       "\n",
       "    .dataframe tbody tr th {\n",
       "        vertical-align: top;\n",
       "    }\n",
       "\n",
       "    .dataframe thead th {\n",
       "        text-align: right;\n",
       "    }\n",
       "</style>\n",
       "<table border=\"1\" class=\"dataframe\">\n",
       "  <thead>\n",
       "    <tr style=\"text-align: right;\">\n",
       "      <th></th>\n",
       "      <th>id</th>\n",
       "      <th>click</th>\n",
       "      <th>C1</th>\n",
       "      <th>banner_pos</th>\n",
       "      <th>site_id</th>\n",
       "      <th>site_domain</th>\n",
       "      <th>site_category</th>\n",
       "      <th>app_id</th>\n",
       "      <th>app_domain</th>\n",
       "      <th>app_category</th>\n",
       "      <th>device_id</th>\n",
       "      <th>device_ip</th>\n",
       "      <th>device_model</th>\n",
       "      <th>device_type</th>\n",
       "      <th>device_conn_type</th>\n",
       "      <th>C14</th>\n",
       "      <th>C15</th>\n",
       "      <th>C16</th>\n",
       "      <th>C17</th>\n",
       "      <th>C18</th>\n",
       "      <th>C19</th>\n",
       "      <th>C20</th>\n",
       "      <th>C21</th>\n",
       "      <th>actual_hour</th>\n",
       "      <th>weekday</th>\n",
       "    </tr>\n",
       "  </thead>\n",
       "  <tbody>\n",
       "    <tr>\n",
       "      <th>0</th>\n",
       "      <td>10004181428767727519</td>\n",
       "      <td>0</td>\n",
       "      <td>1005</td>\n",
       "      <td>1</td>\n",
       "      <td>0c2fe9d6</td>\n",
       "      <td>27e3c518</td>\n",
       "      <td>28905ebd</td>\n",
       "      <td>ecad2386</td>\n",
       "      <td>7801e8d9</td>\n",
       "      <td>07d7df22</td>\n",
       "      <td>a99f214a</td>\n",
       "      <td>b7a69808</td>\n",
       "      <td>158e4944</td>\n",
       "      <td>1</td>\n",
       "      <td>0</td>\n",
       "      <td>6558</td>\n",
       "      <td>320</td>\n",
       "      <td>50</td>\n",
       "      <td>571</td>\n",
       "      <td>2</td>\n",
       "      <td>39</td>\n",
       "      <td>-1</td>\n",
       "      <td>32</td>\n",
       "      <td>0</td>\n",
       "      <td>1</td>\n",
       "    </tr>\n",
       "    <tr>\n",
       "      <th>1</th>\n",
       "      <td>10006557235872316145</td>\n",
       "      <td>0</td>\n",
       "      <td>1005</td>\n",
       "      <td>0</td>\n",
       "      <td>1fbe01fe</td>\n",
       "      <td>f3845767</td>\n",
       "      <td>28905ebd</td>\n",
       "      <td>ecad2386</td>\n",
       "      <td>7801e8d9</td>\n",
       "      <td>07d7df22</td>\n",
       "      <td>a99f214a</td>\n",
       "      <td>ac77b71a</td>\n",
       "      <td>d787e91b</td>\n",
       "      <td>1</td>\n",
       "      <td>0</td>\n",
       "      <td>15699</td>\n",
       "      <td>320</td>\n",
       "      <td>50</td>\n",
       "      <td>1722</td>\n",
       "      <td>0</td>\n",
       "      <td>35</td>\n",
       "      <td>-1</td>\n",
       "      <td>79</td>\n",
       "      <td>0</td>\n",
       "      <td>1</td>\n",
       "    </tr>\n",
       "    <tr>\n",
       "      <th>2</th>\n",
       "      <td>1001082718558099372</td>\n",
       "      <td>0</td>\n",
       "      <td>1005</td>\n",
       "      <td>0</td>\n",
       "      <td>85f751fd</td>\n",
       "      <td>c4e18dd6</td>\n",
       "      <td>50e219e0</td>\n",
       "      <td>1779deee</td>\n",
       "      <td>2347f47a</td>\n",
       "      <td>f95efa07</td>\n",
       "      <td>a99f214a</td>\n",
       "      <td>5a96d22e</td>\n",
       "      <td>9e3836ff</td>\n",
       "      <td>1</td>\n",
       "      <td>0</td>\n",
       "      <td>18993</td>\n",
       "      <td>320</td>\n",
       "      <td>50</td>\n",
       "      <td>2161</td>\n",
       "      <td>0</td>\n",
       "      <td>35</td>\n",
       "      <td>-1</td>\n",
       "      <td>157</td>\n",
       "      <td>0</td>\n",
       "      <td>1</td>\n",
       "    </tr>\n",
       "    <tr>\n",
       "      <th>3</th>\n",
       "      <td>1001179289293608710</td>\n",
       "      <td>0</td>\n",
       "      <td>1005</td>\n",
       "      <td>1</td>\n",
       "      <td>e023ba3e</td>\n",
       "      <td>75f9ddc3</td>\n",
       "      <td>f028772b</td>\n",
       "      <td>ecad2386</td>\n",
       "      <td>7801e8d9</td>\n",
       "      <td>07d7df22</td>\n",
       "      <td>a99f214a</td>\n",
       "      <td>f7c9ee04</td>\n",
       "      <td>56f254f5</td>\n",
       "      <td>1</td>\n",
       "      <td>0</td>\n",
       "      <td>17914</td>\n",
       "      <td>320</td>\n",
       "      <td>50</td>\n",
       "      <td>2043</td>\n",
       "      <td>2</td>\n",
       "      <td>39</td>\n",
       "      <td>-1</td>\n",
       "      <td>32</td>\n",
       "      <td>0</td>\n",
       "      <td>1</td>\n",
       "    </tr>\n",
       "    <tr>\n",
       "      <th>4</th>\n",
       "      <td>10014630626523032142</td>\n",
       "      <td>0</td>\n",
       "      <td>1005</td>\n",
       "      <td>0</td>\n",
       "      <td>1fbe01fe</td>\n",
       "      <td>f3845767</td>\n",
       "      <td>28905ebd</td>\n",
       "      <td>ecad2386</td>\n",
       "      <td>7801e8d9</td>\n",
       "      <td>07d7df22</td>\n",
       "      <td>a99f214a</td>\n",
       "      <td>0345a137</td>\n",
       "      <td>3bd9e8e7</td>\n",
       "      <td>1</td>\n",
       "      <td>0</td>\n",
       "      <td>15702</td>\n",
       "      <td>320</td>\n",
       "      <td>50</td>\n",
       "      <td>1722</td>\n",
       "      <td>0</td>\n",
       "      <td>35</td>\n",
       "      <td>100083</td>\n",
       "      <td>79</td>\n",
       "      <td>0</td>\n",
       "      <td>1</td>\n",
       "    </tr>\n",
       "  </tbody>\n",
       "</table>\n",
       "</div>"
      ],
      "text/plain": [
       "                     id  click    C1  banner_pos   site_id site_domain  \\\n",
       "0  10004181428767727519      0  1005           1  0c2fe9d6    27e3c518   \n",
       "1  10006557235872316145      0  1005           0  1fbe01fe    f3845767   \n",
       "2   1001082718558099372      0  1005           0  85f751fd    c4e18dd6   \n",
       "3   1001179289293608710      0  1005           1  e023ba3e    75f9ddc3   \n",
       "4  10014630626523032142      0  1005           0  1fbe01fe    f3845767   \n",
       "\n",
       "  site_category    app_id app_domain app_category device_id device_ip  \\\n",
       "0      28905ebd  ecad2386   7801e8d9     07d7df22  a99f214a  b7a69808   \n",
       "1      28905ebd  ecad2386   7801e8d9     07d7df22  a99f214a  ac77b71a   \n",
       "2      50e219e0  1779deee   2347f47a     f95efa07  a99f214a  5a96d22e   \n",
       "3      f028772b  ecad2386   7801e8d9     07d7df22  a99f214a  f7c9ee04   \n",
       "4      28905ebd  ecad2386   7801e8d9     07d7df22  a99f214a  0345a137   \n",
       "\n",
       "  device_model  device_type  device_conn_type    C14  C15  C16   C17  C18  \\\n",
       "0     158e4944            1                 0   6558  320   50   571    2   \n",
       "1     d787e91b            1                 0  15699  320   50  1722    0   \n",
       "2     9e3836ff            1                 0  18993  320   50  2161    0   \n",
       "3     56f254f5            1                 0  17914  320   50  2043    2   \n",
       "4     3bd9e8e7            1                 0  15702  320   50  1722    0   \n",
       "\n",
       "   C19     C20  C21  actual_hour  weekday  \n",
       "0   39      -1   32            0        1  \n",
       "1   35      -1   79            0        1  \n",
       "2   35      -1  157            0        1  \n",
       "3   39      -1   32            0        1  \n",
       "4   35  100083   79            0        1  "
      ]
     },
     "execution_count": 16,
     "metadata": {},
     "output_type": "execute_result"
    }
   ],
   "source": [
    "df.head()"
   ]
  },
  {
   "cell_type": "markdown",
   "id": "43d055b8-3e28-46c4-8044-844ffe1b7077",
   "metadata": {},
   "source": [
    "Looking at the data types :"
   ]
  },
  {
   "cell_type": "code",
   "execution_count": 17,
   "id": "eeae415c-313a-443e-8a29-adff9ab40ca1",
   "metadata": {},
   "outputs": [
    {
     "data": {
      "text/plain": [
       "id                  uint64\n",
       "click                int64\n",
       "C1                   int64\n",
       "banner_pos           int64\n",
       "site_id             object\n",
       "site_domain         object\n",
       "site_category       object\n",
       "app_id              object\n",
       "app_domain          object\n",
       "app_category        object\n",
       "device_id           object\n",
       "device_ip           object\n",
       "device_model        object\n",
       "device_type          int64\n",
       "device_conn_type     int64\n",
       "C14                  int64\n",
       "C15                  int64\n",
       "C16                  int64\n",
       "C17                  int64\n",
       "C18                  int64\n",
       "C19                  int64\n",
       "C20                  int64\n",
       "C21                  int64\n",
       "actual_hour          int64\n",
       "weekday              int64\n",
       "dtype: object"
      ]
     },
     "execution_count": 17,
     "metadata": {},
     "output_type": "execute_result"
    }
   ],
   "source": [
    "df.dtypes"
   ]
  },
  {
   "cell_type": "markdown",
   "id": "f02e6bc5-5ea6-4739-8a38-713b7776beb9",
   "metadata": {},
   "source": [
    "We would like to convert the data that are objects to integers with Python's built-in hash function so that we can train the model more easily. Doing so:"
   ]
  },
  {
   "cell_type": "code",
   "execution_count": 12,
   "id": "be400702-d6c9-40ab-a18b-1f7e77723b75",
   "metadata": {},
   "outputs": [],
   "source": [
    "def hash_converter(df):\n",
    "    for feat in df.columns:\n",
    "        if df[feat].dtypes == object:\n",
    "            df[feat]=df[feat].apply(lambda x : hash(x) % (10 ** 8))"
   ]
  },
  {
   "cell_type": "code",
   "execution_count": 19,
   "id": "fa4fcb34-a5fa-4b85-8dce-4092731937db",
   "metadata": {},
   "outputs": [],
   "source": [
    "hash_converter(df)"
   ]
  },
  {
   "cell_type": "code",
   "execution_count": 20,
   "id": "a87c8874-270b-4bd5-b3f1-1bf68a1e89f3",
   "metadata": {},
   "outputs": [
    {
     "data": {
      "text/html": [
       "<div>\n",
       "<style scoped>\n",
       "    .dataframe tbody tr th:only-of-type {\n",
       "        vertical-align: middle;\n",
       "    }\n",
       "\n",
       "    .dataframe tbody tr th {\n",
       "        vertical-align: top;\n",
       "    }\n",
       "\n",
       "    .dataframe thead th {\n",
       "        text-align: right;\n",
       "    }\n",
       "</style>\n",
       "<table border=\"1\" class=\"dataframe\">\n",
       "  <thead>\n",
       "    <tr style=\"text-align: right;\">\n",
       "      <th></th>\n",
       "      <th>id</th>\n",
       "      <th>click</th>\n",
       "      <th>C1</th>\n",
       "      <th>banner_pos</th>\n",
       "      <th>site_id</th>\n",
       "      <th>site_domain</th>\n",
       "      <th>site_category</th>\n",
       "      <th>app_id</th>\n",
       "      <th>app_domain</th>\n",
       "      <th>app_category</th>\n",
       "      <th>device_id</th>\n",
       "      <th>device_ip</th>\n",
       "      <th>device_model</th>\n",
       "      <th>device_type</th>\n",
       "      <th>device_conn_type</th>\n",
       "      <th>C14</th>\n",
       "      <th>C15</th>\n",
       "      <th>C16</th>\n",
       "      <th>C17</th>\n",
       "      <th>C18</th>\n",
       "      <th>C19</th>\n",
       "      <th>C20</th>\n",
       "      <th>C21</th>\n",
       "      <th>actual_hour</th>\n",
       "      <th>weekday</th>\n",
       "    </tr>\n",
       "  </thead>\n",
       "  <tbody>\n",
       "    <tr>\n",
       "      <th>0</th>\n",
       "      <td>10004181428767727519</td>\n",
       "      <td>0</td>\n",
       "      <td>1005</td>\n",
       "      <td>1</td>\n",
       "      <td>16871230</td>\n",
       "      <td>278783</td>\n",
       "      <td>68987348</td>\n",
       "      <td>21296553</td>\n",
       "      <td>19803410</td>\n",
       "      <td>54082361</td>\n",
       "      <td>10247907</td>\n",
       "      <td>23766115</td>\n",
       "      <td>53303355</td>\n",
       "      <td>1</td>\n",
       "      <td>0</td>\n",
       "      <td>6558</td>\n",
       "      <td>320</td>\n",
       "      <td>50</td>\n",
       "      <td>571</td>\n",
       "      <td>2</td>\n",
       "      <td>39</td>\n",
       "      <td>-1</td>\n",
       "      <td>32</td>\n",
       "      <td>0</td>\n",
       "      <td>1</td>\n",
       "    </tr>\n",
       "    <tr>\n",
       "      <th>1</th>\n",
       "      <td>10006557235872316145</td>\n",
       "      <td>0</td>\n",
       "      <td>1005</td>\n",
       "      <td>0</td>\n",
       "      <td>77416566</td>\n",
       "      <td>45450440</td>\n",
       "      <td>68987348</td>\n",
       "      <td>21296553</td>\n",
       "      <td>19803410</td>\n",
       "      <td>54082361</td>\n",
       "      <td>10247907</td>\n",
       "      <td>22171795</td>\n",
       "      <td>39340179</td>\n",
       "      <td>1</td>\n",
       "      <td>0</td>\n",
       "      <td>15699</td>\n",
       "      <td>320</td>\n",
       "      <td>50</td>\n",
       "      <td>1722</td>\n",
       "      <td>0</td>\n",
       "      <td>35</td>\n",
       "      <td>-1</td>\n",
       "      <td>79</td>\n",
       "      <td>0</td>\n",
       "      <td>1</td>\n",
       "    </tr>\n",
       "    <tr>\n",
       "      <th>2</th>\n",
       "      <td>1001082718558099372</td>\n",
       "      <td>0</td>\n",
       "      <td>1005</td>\n",
       "      <td>0</td>\n",
       "      <td>58871977</td>\n",
       "      <td>47101692</td>\n",
       "      <td>34961570</td>\n",
       "      <td>28512083</td>\n",
       "      <td>52117907</td>\n",
       "      <td>3237031</td>\n",
       "      <td>10247907</td>\n",
       "      <td>45897290</td>\n",
       "      <td>21967382</td>\n",
       "      <td>1</td>\n",
       "      <td>0</td>\n",
       "      <td>18993</td>\n",
       "      <td>320</td>\n",
       "      <td>50</td>\n",
       "      <td>2161</td>\n",
       "      <td>0</td>\n",
       "      <td>35</td>\n",
       "      <td>-1</td>\n",
       "      <td>157</td>\n",
       "      <td>0</td>\n",
       "      <td>1</td>\n",
       "    </tr>\n",
       "    <tr>\n",
       "      <th>3</th>\n",
       "      <td>1001179289293608710</td>\n",
       "      <td>0</td>\n",
       "      <td>1005</td>\n",
       "      <td>1</td>\n",
       "      <td>38174238</td>\n",
       "      <td>22481631</td>\n",
       "      <td>38489621</td>\n",
       "      <td>21296553</td>\n",
       "      <td>19803410</td>\n",
       "      <td>54082361</td>\n",
       "      <td>10247907</td>\n",
       "      <td>46375993</td>\n",
       "      <td>79552073</td>\n",
       "      <td>1</td>\n",
       "      <td>0</td>\n",
       "      <td>17914</td>\n",
       "      <td>320</td>\n",
       "      <td>50</td>\n",
       "      <td>2043</td>\n",
       "      <td>2</td>\n",
       "      <td>39</td>\n",
       "      <td>-1</td>\n",
       "      <td>32</td>\n",
       "      <td>0</td>\n",
       "      <td>1</td>\n",
       "    </tr>\n",
       "    <tr>\n",
       "      <th>4</th>\n",
       "      <td>10014630626523032142</td>\n",
       "      <td>0</td>\n",
       "      <td>1005</td>\n",
       "      <td>0</td>\n",
       "      <td>77416566</td>\n",
       "      <td>45450440</td>\n",
       "      <td>68987348</td>\n",
       "      <td>21296553</td>\n",
       "      <td>19803410</td>\n",
       "      <td>54082361</td>\n",
       "      <td>10247907</td>\n",
       "      <td>30617252</td>\n",
       "      <td>51475712</td>\n",
       "      <td>1</td>\n",
       "      <td>0</td>\n",
       "      <td>15702</td>\n",
       "      <td>320</td>\n",
       "      <td>50</td>\n",
       "      <td>1722</td>\n",
       "      <td>0</td>\n",
       "      <td>35</td>\n",
       "      <td>100083</td>\n",
       "      <td>79</td>\n",
       "      <td>0</td>\n",
       "      <td>1</td>\n",
       "    </tr>\n",
       "  </tbody>\n",
       "</table>\n",
       "</div>"
      ],
      "text/plain": [
       "                     id  click    C1  banner_pos   site_id  site_domain  \\\n",
       "0  10004181428767727519      0  1005           1  16871230       278783   \n",
       "1  10006557235872316145      0  1005           0  77416566     45450440   \n",
       "2   1001082718558099372      0  1005           0  58871977     47101692   \n",
       "3   1001179289293608710      0  1005           1  38174238     22481631   \n",
       "4  10014630626523032142      0  1005           0  77416566     45450440   \n",
       "\n",
       "   site_category    app_id  app_domain  app_category  device_id  device_ip  \\\n",
       "0       68987348  21296553    19803410      54082361   10247907   23766115   \n",
       "1       68987348  21296553    19803410      54082361   10247907   22171795   \n",
       "2       34961570  28512083    52117907       3237031   10247907   45897290   \n",
       "3       38489621  21296553    19803410      54082361   10247907   46375993   \n",
       "4       68987348  21296553    19803410      54082361   10247907   30617252   \n",
       "\n",
       "   device_model  device_type  device_conn_type    C14  C15  C16   C17  C18  \\\n",
       "0      53303355            1                 0   6558  320   50   571    2   \n",
       "1      39340179            1                 0  15699  320   50  1722    0   \n",
       "2      21967382            1                 0  18993  320   50  2161    0   \n",
       "3      79552073            1                 0  17914  320   50  2043    2   \n",
       "4      51475712            1                 0  15702  320   50  1722    0   \n",
       "\n",
       "   C19     C20  C21  actual_hour  weekday  \n",
       "0   39      -1   32            0        1  \n",
       "1   35      -1   79            0        1  \n",
       "2   35      -1  157            0        1  \n",
       "3   39      -1   32            0        1  \n",
       "4   35  100083   79            0        1  "
      ]
     },
     "execution_count": 20,
     "metadata": {},
     "output_type": "execute_result"
    }
   ],
   "source": [
    "df.head()"
   ]
  },
  {
   "cell_type": "markdown",
   "id": "177a4a8e-68a9-423a-a2b2-20cc754de4a2",
   "metadata": {
    "jp-MarkdownHeadingCollapsed": true,
    "tags": []
   },
   "source": [
    "## 5. Most influential factors<a id=\"5\"></a>"
   ]
  },
  {
   "cell_type": "markdown",
   "id": "755a4a26-7db2-445e-b981-fa74efd35e5d",
   "metadata": {},
   "source": [
    "Now we are going to search the factors that are most influetial regarding the \"click\" feature."
   ]
  },
  {
   "cell_type": "markdown",
   "id": "07f94266-cc63-4ecb-a820-65faccc214b8",
   "metadata": {},
   "source": [
    "First, we are going to check the overall click percentage of all cases:"
   ]
  },
  {
   "cell_type": "code",
   "execution_count": 21,
   "id": "104f4616-8597-426c-934d-8f406cca1eb7",
   "metadata": {},
   "outputs": [
    {
     "data": {
      "text/plain": [
       "0    0.830238\n",
       "1    0.169762\n",
       "Name: click, dtype: float64"
      ]
     },
     "execution_count": 21,
     "metadata": {},
     "output_type": "execute_result"
    }
   ],
   "source": [
    "df['click'].value_counts()/len(df)"
   ]
  },
  {
   "cell_type": "markdown",
   "id": "4861e99e-1b46-4ae4-90b1-94621a8a9283",
   "metadata": {},
   "source": [
    "With this result we can observe that our click through rate (CTR) of the entire dataset is approximately : 83% of \"non\" clicks ans 17% of clicks"
   ]
  },
  {
   "cell_type": "markdown",
   "id": "dd84b4c1-bffe-404a-95d9-ddd804de1b77",
   "metadata": {},
   "source": [
    "Furthermore, some functions were created to evaluate the features individually:"
   ]
  },
  {
   "cell_type": "markdown",
   "id": "65798e06-cc3b-4f3c-9f37-79156d0ccf75",
   "metadata": {},
   "source": [
    "- Bar graph of the number of clicks per feature"
   ]
  },
  {
   "cell_type": "code",
   "execution_count": 22,
   "id": "95e8fbd8-4be5-4fcb-998d-7d7c9408e3f7",
   "metadata": {},
   "outputs": [],
   "source": [
    "def plotClicks(feat, df,size):\n",
    "    df.groupby(feat).agg({'click':'sum'}).plot(xlabel=feat,ylabel='clicks',kind='bar',figsize=size)"
   ]
  },
  {
   "cell_type": "markdown",
   "id": "92f5bada-3822-429c-85b9-697081dafd6b",
   "metadata": {},
   "source": [
    "- CTR by feature:"
   ]
  },
  {
   "cell_type": "code",
   "execution_count": 23,
   "id": "034a5f0d-ce6e-4a76-bfce-dda675159a15",
   "metadata": {},
   "outputs": [],
   "source": [
    "def CTR(feat,df):\n",
    "    number_of_clicks=df.groupby(feat).sum()\n",
    "    number_of_users=df.groupby(feat).size().to_frame()\n",
    "    return (number_of_clicks['click']/number_of_users[0]).to_frame()"
   ]
  },
  {
   "cell_type": "markdown",
   "id": "b4b3ec77-e4c3-42de-9e81-bffbd8b66864",
   "metadata": {},
   "source": [
    "- Bar graph of the CTR by feature:"
   ]
  },
  {
   "cell_type": "code",
   "execution_count": 24,
   "id": "6304a74f-9ff5-4a5d-9aae-08a757785520",
   "metadata": {},
   "outputs": [],
   "source": [
    "def plotCTR(feat,df,size):\n",
    "    return CTR(feat,df).plot(xlabel=feat,ylabel='CTR',kind='bar',figsize=size, legend=False)"
   ]
  },
  {
   "cell_type": "markdown",
   "id": "e52bd0f8-468f-4241-9c27-fe9e73f5aca0",
   "metadata": {},
   "source": [
    "- Impressions percentage:"
   ]
  },
  {
   "cell_type": "code",
   "execution_count": 25,
   "id": "ea123007-e33c-40df-80d4-9ad23c2b18d5",
   "metadata": {},
   "outputs": [],
   "source": [
    "def imp_p(feat,df):\n",
    "    return df[feat].value_counts(normalize=True)*100"
   ]
  },
  {
   "cell_type": "markdown",
   "id": "71a45da0-6ca6-4cc5-a160-8dcc40472ff6",
   "metadata": {},
   "source": [
    "- Informations about the impressions:"
   ]
  },
  {
   "cell_type": "code",
   "execution_count": 26,
   "id": "2f795bea-8117-4ce8-a835-2b75486726fb",
   "metadata": {},
   "outputs": [],
   "source": [
    "def imp_info(feat,df):\n",
    "    max_imp=round(max(imp_p(feat,df)),2)\n",
    "    nfeat=df[feat].nunique()\n",
    "    info1=f\"The total number of {feat} features is {nfeat}.\"\n",
    "    info2=f\"The max percentage impression of an individual feature is {max_imp}%.\"\n",
    "    return info1+\"\\n\"+info2"
   ]
  },
  {
   "cell_type": "markdown",
   "id": "e23bd7fc-6946-4463-961c-1084cb0ecf0d",
   "metadata": {},
   "source": [
    "Now we are going to check the influence of each parameter regarding if the user clicked or not on the ad."
   ]
  },
  {
   "cell_type": "markdown",
   "id": "426937fd-2d2a-4dac-8143-85220f49bfd4",
   "metadata": {
    "jp-MarkdownHeadingCollapsed": true,
    "tags": []
   },
   "source": [
    "### 5.1. Actual Hour<a id=\"5.1.\"></a>"
   ]
  },
  {
   "cell_type": "code",
   "execution_count": 27,
   "id": "b606fad1-e374-4771-9b56-1a4e645b9b7b",
   "metadata": {},
   "outputs": [
    {
     "data": {
      "image/png": "[encoded data removed]",
      "text/plain": [
       "<Figure size 864x360 with 1 Axes>"
      ]
     },
     "metadata": {
      "needs_background": "light"
     },
     "output_type": "display_data"
    }
   ],
   "source": [
    "plotClicks(\"actual_hour\", df,(12,5))"
   ]
  },
  {
   "cell_type": "markdown",
   "id": "0aa2d322-6c8c-4cd3-a97e-4e92e8fe15a5",
   "metadata": {},
   "source": [
    "The most of clicks happened between 12:00 and 14:00 and the less of clicks happened between 23:00 and 01:00.\n",
    "\n",
    "We can observe that the \"actual_hour\" parameter can be useful for our estimation"
   ]
  },
  {
   "cell_type": "markdown",
   "id": "01071eb7-97b9-4f64-9159-b164dfde7593",
   "metadata": {},
   "source": [
    "Now we are going to display this feature in a bar graph against the CTR:"
   ]
  },
  {
   "cell_type": "code",
   "execution_count": 28,
   "id": "99f7205b-1a09-451e-8c48-3779b26b74f2",
   "metadata": {},
   "outputs": [
    {
     "data": {
      "text/plain": [
       "<AxesSubplot:xlabel='actual_hour', ylabel='CTR'>"
      ]
     },
     "execution_count": 28,
     "metadata": {},
     "output_type": "execute_result"
    },
    {
     "data": {
      "image/png": "[encoded data removed]",
      "text/plain": [
       "<Figure size 864x360 with 1 Axes>"
      ]
     },
     "metadata": {
      "needs_background": "light"
     },
     "output_type": "display_data"
    }
   ],
   "source": [
    "plotCTR(\"actual_hour\",df,(12,5))"
   ]
  },
  {
   "cell_type": "markdown",
   "id": "76e69f03-4dc7-4d4b-b2e2-c4392c438c82",
   "metadata": {},
   "source": [
    "Viewing the data in this way, we see that the CTR is not highest between 12:00 and 14:00, as we could have expected."
   ]
  },
  {
   "cell_type": "markdown",
   "id": "eafc676e-99e2-4062-9416-21befedc0fd2",
   "metadata": {},
   "source": [
    "Now we can visualize the impressions and other properties :"
   ]
  },
  {
   "cell_type": "code",
   "execution_count": 29,
   "id": "716d6f02-6668-407d-b405-7967f1948590",
   "metadata": {},
   "outputs": [
    {
     "name": "stdout",
     "output_type": "stream",
     "text": [
      "The total number of actual_hour features is 24.\n",
      "The max percentage impression of an individual feature is 5.92%.\n",
      "Features by percentage:\n"
     ]
    },
    {
     "data": {
      "text/plain": [
       "13    5.915273\n",
       "9     5.603182\n",
       "12    5.516455\n",
       "14    5.455955\n",
       "10    5.349727\n",
       "8     5.195773\n",
       "15    5.127818\n",
       "16    5.068500\n",
       "11    5.058364\n",
       "17    5.034045\n",
       "5     4.928864\n",
       "4     4.700364\n",
       "7     4.589636\n",
       "6     4.378500\n",
       "18    4.344227\n",
       "3     3.455000\n",
       "19    3.257864\n",
       "2     3.007364\n",
       "20    2.760182\n",
       "21    2.444182\n",
       "1     2.439727\n",
       "22    2.252955\n",
       "0     2.100182\n",
       "23    2.015864\n",
       "Name: actual_hour, dtype: float64"
      ]
     },
     "execution_count": 29,
     "metadata": {},
     "output_type": "execute_result"
    }
   ],
   "source": [
    "print(imp_info(\"actual_hour\",df))\n",
    "print(\"Features by percentage:\")\n",
    "imp_p(\"actual_hour\",df)"
   ]
  },
  {
   "cell_type": "markdown",
   "id": "ce1d4868-1cea-4135-bfc2-dfe625c86539",
   "metadata": {},
   "source": [
    "The impressions are almost equaly divided by feature."
   ]
  },
  {
   "cell_type": "markdown",
   "id": "0f05ce87-160f-4dc4-b7c2-08c30210f46c",
   "metadata": {
    "jp-MarkdownHeadingCollapsed": true,
    "tags": []
   },
   "source": [
    "### 5.2. Weekday<a id=\"5.2\"></a>"
   ]
  },
  {
   "cell_type": "markdown",
   "id": "2470f872-1ce9-4080-8865-ab393b9a5351",
   "metadata": {},
   "source": [
    "Doing the same as we did to the \"actual_hour\" feature:"
   ]
  },
  {
   "cell_type": "code",
   "execution_count": 30,
   "id": "c3ebb579-1911-459f-b71d-43e128edf626",
   "metadata": {},
   "outputs": [
    {
     "data": {
      "image/png": "[encoded data removed]",
      "text/plain": [
       "<Figure size 864x360 with 1 Axes>"
      ]
     },
     "metadata": {
      "needs_background": "light"
     },
     "output_type": "display_data"
    }
   ],
   "source": [
    "plotClicks(\"weekday\", df, (12,5))"
   ]
  },
  {
   "cell_type": "code",
   "execution_count": 31,
   "id": "e549288c-e782-4626-a3c0-70f388048dda",
   "metadata": {},
   "outputs": [
    {
     "data": {
      "text/plain": [
       "<AxesSubplot:xlabel='weekday', ylabel='CTR'>"
      ]
     },
     "execution_count": 31,
     "metadata": {},
     "output_type": "execute_result"
    },
    {
     "data": {
      "image/png": "[encoded data removed]",
      "text/plain": [
       "<Figure size 864x360 with 1 Axes>"
      ]
     },
     "metadata": {
      "needs_background": "light"
     },
     "output_type": "display_data"
    }
   ],
   "source": [
    "plotCTR(\"weekday\",df, (12,5))"
   ]
  },
  {
   "cell_type": "markdown",
   "id": "55deb1c3-3ea9-45a6-bed3-a462059c814a",
   "metadata": {},
   "source": [
    "From these graphs, we have : Monday=0, Tuesday=1, Wednesday=2, Thursday=3, Friday=4, Saturday=5 and Sunday=6.\n",
    "\n",
    "The highest CTR takes place on weekends."
   ]
  },
  {
   "cell_type": "markdown",
   "id": "a09a4b2c-3275-4610-9faf-ed5b793ae322",
   "metadata": {},
   "source": [
    "Now, visualizing the impressions:"
   ]
  },
  {
   "cell_type": "code",
   "execution_count": 32,
   "id": "b7b79a02-10dd-4eb5-8541-b69d7f142d8a",
   "metadata": {},
   "outputs": [
    {
     "name": "stdout",
     "output_type": "stream",
     "text": [
      "The total number of weekday features is 7.\n",
      "The max percentage impression of an individual feature is 23.3%.\n",
      "Features impression by percentage:\n"
     ]
    },
    {
     "data": {
      "text/plain": [
       "1    23.303273\n",
       "2    22.657955\n",
       "3    19.985227\n",
       "6     9.501591\n",
       "5     8.311318\n",
       "4     8.260455\n",
       "0     7.980182\n",
       "Name: weekday, dtype: float64"
      ]
     },
     "execution_count": 32,
     "metadata": {},
     "output_type": "execute_result"
    }
   ],
   "source": [
    "feat = \"weekday\"\n",
    "print(imp_info(feat,df))\n",
    "print(\"Features impression by percentage:\")\n",
    "imp_p(feat,df)"
   ]
  },
  {
   "cell_type": "markdown",
   "id": "36e4085c-c4dc-4847-9be0-d1762c36aee3",
   "metadata": {
    "jp-MarkdownHeadingCollapsed": true,
    "tags": []
   },
   "source": [
    "### 5.3. Hidden features<a id=\"5.3\"></a>"
   ]
  },
  {
   "cell_type": "markdown",
   "id": "acd54ecc-b698-4480-a11d-ec53f5c65373",
   "metadata": {},
   "source": [
    "We can see that the name of some features is displayed with the letter \"C\" and a number. The reason for this is that they have been hidden by Avazu for privacy reasons, as we have already mentioned. We will call them \"Hidden features\"."
   ]
  },
  {
   "cell_type": "markdown",
   "id": "e86624ef-83b5-46d6-a5ea-a0aa4c6ed24d",
   "metadata": {
    "tags": []
   },
   "source": [
    "#### Feature \"C1\":"
   ]
  },
  {
   "cell_type": "code",
   "execution_count": 33,
   "id": "62b065b7-3c9f-439c-8e54-421794de3f3f",
   "metadata": {},
   "outputs": [
    {
     "name": "stdout",
     "output_type": "stream",
     "text": [
      "The total number of C1 features is 7.\n",
      "The max percentage impression of an individual feature is 91.87%.\n",
      "Features impression by percentage:\n"
     ]
    },
    {
     "data": {
      "text/plain": [
       "1005    91.867045\n",
       "1002     5.499636\n",
       "1010     2.224818\n",
       "1012     0.286000\n",
       "1007     0.084864\n",
       "1001     0.023000\n",
       "1008     0.014636\n",
       "Name: C1, dtype: float64"
      ]
     },
     "execution_count": 33,
     "metadata": {},
     "output_type": "execute_result"
    },
    {
     "data": {
      "image/png": "[encoded data removed]",
      "text/plain": [
       "<Figure size 720x360 with 1 Axes>"
      ]
     },
     "metadata": {
      "needs_background": "light"
     },
     "output_type": "display_data"
    }
   ],
   "source": [
    "feat = \"C1\"\n",
    "plotCTR(feat,df,(10,5))\n",
    "print(imp_info(feat,df))\n",
    "print(\"Features impression by percentage:\")\n",
    "imp_p(feat,df)"
   ]
  },
  {
   "cell_type": "markdown",
   "id": "e554f7c6-1dd9-4a3d-a04b-2ec90904fcf7",
   "metadata": {
    "tags": []
   },
   "source": [
    "#### Feature \"C14\":"
   ]
  },
  {
   "cell_type": "code",
   "execution_count": 34,
   "id": "6a6e71d1-c669-431a-837a-f201e8e053b3",
   "metadata": {},
   "outputs": [
    {
     "name": "stdout",
     "output_type": "stream",
     "text": [
      "The total number of C14 features is 2390.\n",
      "The max percentage impression of an individual feature is 2.35%.\n",
      "Top 5 features impression by percentage:\n"
     ]
    },
    {
     "data": {
      "text/plain": [
       "4687     2.351000\n",
       "21611    2.248864\n",
       "21191    1.893545\n",
       "21189    1.892455\n",
       "19772    1.820045\n",
       "Name: C14, dtype: float64"
      ]
     },
     "execution_count": 34,
     "metadata": {},
     "output_type": "execute_result"
    },
    {
     "data": {
      "image/png": "[encoded data removed]",
      "text/plain": [
       "<Figure size 720x360 with 1 Axes>"
      ]
     },
     "metadata": {
      "needs_background": "light"
     },
     "output_type": "display_data"
    }
   ],
   "source": [
    "feat = \"C14\"\n",
    "plotCTR(feat,df,(10,5)).locator_params(nbins=20)\n",
    "print(imp_info(feat,df))\n",
    "print(\"Top 5 features impression by percentage:\")\n",
    "imp_p(feat,df)[0:5]"
   ]
  },
  {
   "cell_type": "markdown",
   "id": "f834d795-98b3-405d-b226-a882c9bb224e",
   "metadata": {
    "tags": []
   },
   "source": [
    "#### Feature \"C15\":"
   ]
  },
  {
   "cell_type": "code",
   "execution_count": 35,
   "id": "14c03359-f602-4879-9e51-12b104e92753",
   "metadata": {},
   "outputs": [
    {
     "name": "stdout",
     "output_type": "stream",
     "text": [
      "The total number of C15 features is 8.\n",
      "The max percentage impression of an individual feature is 93.29%.\n",
      "Features impression by percentage:\n"
     ]
    },
    {
     "data": {
      "text/plain": [
       "320     93.292227\n",
       "300      5.766409\n",
       "216      0.734409\n",
       "728      0.184091\n",
       "120      0.007545\n",
       "1024     0.006545\n",
       "480      0.005227\n",
       "768      0.003545\n",
       "Name: C15, dtype: float64"
      ]
     },
     "execution_count": 35,
     "metadata": {},
     "output_type": "execute_result"
    },
    {
     "data": {
      "image/png": "[encoded data removed]",
      "text/plain": [
       "<Figure size 720x360 with 1 Axes>"
      ]
     },
     "metadata": {
      "needs_background": "light"
     },
     "output_type": "display_data"
    }
   ],
   "source": [
    "feat = \"C15\"\n",
    "plotCTR(feat,df,(10,5))\n",
    "print(imp_info(feat,df))\n",
    "print(\"Features impression by percentage:\")\n",
    "imp_p(feat,df)"
   ]
  },
  {
   "cell_type": "markdown",
   "id": "0e971bb6-f2f2-4d72-8e74-87e8198adcc4",
   "metadata": {
    "tags": []
   },
   "source": [
    "#### Feature \"C16\":"
   ]
  },
  {
   "cell_type": "code",
   "execution_count": 36,
   "id": "85734d1d-6711-4403-8f76-ffc89e5e7c69",
   "metadata": {},
   "outputs": [
    {
     "name": "stdout",
     "output_type": "stream",
     "text": [
      "The total number of C16 features is 9.\n",
      "The max percentage impression of an individual feature is 94.34%.\n",
      "Features impression by percentage:\n"
     ]
    },
    {
     "data": {
      "text/plain": [
       "50      94.338591\n",
       "250      4.462182\n",
       "36       0.734409\n",
       "480      0.257864\n",
       "90       0.184091\n",
       "20       0.007545\n",
       "768      0.006545\n",
       "320      0.005227\n",
       "1024     0.003545\n",
       "Name: C16, dtype: float64"
      ]
     },
     "execution_count": 36,
     "metadata": {},
     "output_type": "execute_result"
    },
    {
     "data": {
      "image/png": "[encoded data removed]",
      "text/plain": [
       "<Figure size 720x360 with 1 Axes>"
      ]
     },
     "metadata": {
      "needs_background": "light"
     },
     "output_type": "display_data"
    }
   ],
   "source": [
    "feat = \"C16\"\n",
    "plotCTR(feat,df,(10,5))\n",
    "print(imp_info(feat,df))\n",
    "print(\"Features impression by percentage:\")\n",
    "imp_p(feat,df)"
   ]
  },
  {
   "cell_type": "markdown",
   "id": "2bb9c25c-748c-4fcd-af1e-1f1c31c3fdd6",
   "metadata": {
    "tags": []
   },
   "source": [
    "#### Feature \"C17\":"
   ]
  },
  {
   "cell_type": "code",
   "execution_count": 37,
   "id": "7d4e215d-e7b8-40c0-b15c-046d08018fd7",
   "metadata": {},
   "outputs": [
    {
     "name": "stdout",
     "output_type": "stream",
     "text": [
      "The total number of C17 features is 425.\n",
      "The max percentage impression of an individual feature is 11.17%.\n",
      "Top 5 features impression by percentage:\n"
     ]
    },
    {
     "data": {
      "text/plain": [
       "1722    11.165045\n",
       "2424     3.786000\n",
       "2227     3.663818\n",
       "1800     2.961727\n",
       "423      2.351000\n",
       "Name: C17, dtype: float64"
      ]
     },
     "execution_count": 37,
     "metadata": {},
     "output_type": "execute_result"
    },
    {
     "data": {
      "image/png": "[encoded data removed]",
      "text/plain": [
       "<Figure size 720x360 with 1 Axes>"
      ]
     },
     "metadata": {
      "needs_background": "light"
     },
     "output_type": "display_data"
    }
   ],
   "source": [
    "feat = \"C17\"\n",
    "plotCTR(feat,df,(10,5)).locator_params(nbins=20)\n",
    "print(imp_info(feat,df))\n",
    "print(\"Top 5 features impression by percentage:\")\n",
    "imp_p(feat,df)[0:5]"
   ]
  },
  {
   "cell_type": "markdown",
   "id": "76c57d82-cd21-4660-adb0-ddc36a07e685",
   "metadata": {
    "tags": []
   },
   "source": [
    "#### Feature \"C18\":"
   ]
  },
  {
   "cell_type": "code",
   "execution_count": 38,
   "id": "f4745e53-dcbb-4e24-b79a-fe6c0f45abb3",
   "metadata": {},
   "outputs": [
    {
     "name": "stdout",
     "output_type": "stream",
     "text": [
      "The total number of C18 features is 4.\n",
      "The max percentage impression of an individual feature is 41.89%.\n",
      "Features impression by percentage:\n"
     ]
    },
    {
     "data": {
      "text/plain": [
       "0    41.892773\n",
       "3    33.787045\n",
       "2    17.590409\n",
       "1     6.729773\n",
       "Name: C18, dtype: float64"
      ]
     },
     "execution_count": 38,
     "metadata": {},
     "output_type": "execute_result"
    },
    {
     "data": {
      "image/png": "[encoded data removed]",
      "text/plain": [
       "<Figure size 720x360 with 1 Axes>"
      ]
     },
     "metadata": {
      "needs_background": "light"
     },
     "output_type": "display_data"
    }
   ],
   "source": [
    "feat = \"C18\"\n",
    "plotCTR(feat,df,(10,5))\n",
    "print(imp_info(feat,df))\n",
    "print(\"Features impression by percentage:\")\n",
    "imp_p(feat,df)"
   ]
  },
  {
   "cell_type": "markdown",
   "id": "595c5a0f-a1f6-43bf-9412-c32ba69d41d8",
   "metadata": {
    "tags": []
   },
   "source": [
    "#### Feature \"C19\":"
   ]
  },
  {
   "cell_type": "code",
   "execution_count": 39,
   "id": "0fb88269-d99d-4d5d-b7e9-178e0adb7516",
   "metadata": {},
   "outputs": [
    {
     "name": "stdout",
     "output_type": "stream",
     "text": [
      "The total number of C19 features is 66.\n",
      "The max percentage impression of an individual feature is 30.05%.\n",
      "Top 5 features impression by percentage:\n"
     ]
    },
    {
     "data": {
      "text/plain": [
       "35     30.050136\n",
       "39     21.909545\n",
       "167     7.805182\n",
       "161     3.926227\n",
       "47      3.572864\n",
       "Name: C19, dtype: float64"
      ]
     },
     "execution_count": 39,
     "metadata": {},
     "output_type": "execute_result"
    },
    {
     "data": {
      "image/png": "[encoded data removed]",
      "text/plain": [
       "<Figure size 720x360 with 1 Axes>"
      ]
     },
     "metadata": {
      "needs_background": "light"
     },
     "output_type": "display_data"
    }
   ],
   "source": [
    "feat = \"C19\"\n",
    "plotCTR(feat,df,(10,5)).locator_params(nbins=20)\n",
    "print(imp_info(feat,df))\n",
    "print(\"Top 5 features impression by percentage:\")\n",
    "imp_p(feat,df)[0:5]"
   ]
  },
  {
   "cell_type": "markdown",
   "id": "b3cbfa76-5feb-49e9-abc7-9bf631b3f791",
   "metadata": {
    "tags": []
   },
   "source": [
    "#### Feature \"C20\":"
   ]
  },
  {
   "cell_type": "code",
   "execution_count": 40,
   "id": "101c6607-8aa7-41e0-9d4d-417eddbbd6b2",
   "metadata": {},
   "outputs": [
    {
     "name": "stdout",
     "output_type": "stream",
     "text": [
      "The total number of C20 features is 164.\n",
      "The max percentage impression of an individual feature is 46.87%.\n",
      "Top 5 features impression by percentage:\n"
     ]
    },
    {
     "data": {
      "text/plain": [
       "-1         46.872000\n",
       " 100084     6.006045\n",
       " 100148     4.455273\n",
       " 100111     4.241182\n",
       " 100077     3.888500\n",
       "Name: C20, dtype: float64"
      ]
     },
     "execution_count": 40,
     "metadata": {},
     "output_type": "execute_result"
    },
    {
     "data": {
      "image/png": "[encoded data removed]",
      "text/plain": [
       "<Figure size 720x360 with 1 Axes>"
      ]
     },
     "metadata": {
      "needs_background": "light"
     },
     "output_type": "display_data"
    }
   ],
   "source": [
    "feat = \"C20\"\n",
    "plotCTR(feat,df,(10,5)).locator_params(nbins=20)\n",
    "print(imp_info(feat,df))\n",
    "print(\"Top 5 features impression by percentage:\")\n",
    "imp_p(feat,df)[0:5]"
   ]
  },
  {
   "cell_type": "markdown",
   "id": "a66b0dd1-3fb3-49fe-8b78-857c68f4eff3",
   "metadata": {
    "tags": []
   },
   "source": [
    "#### Feature \"C21\":"
   ]
  },
  {
   "cell_type": "code",
   "execution_count": 41,
   "id": "d47df71c-0d5e-46d5-8305-1366970d6d35",
   "metadata": {},
   "outputs": [
    {
     "name": "stdout",
     "output_type": "stream",
     "text": [
      "The total number of C21 features is 60.\n",
      "The max percentage impression of an individual feature is 22.01%.\n",
      "Top 5 features impression by percentage:\n"
     ]
    },
    {
     "data": {
      "text/plain": [
       "23     22.010955\n",
       "221    12.481909\n",
       "79     11.417000\n",
       "48      5.363227\n",
       "71      5.210409\n",
       "Name: C21, dtype: float64"
      ]
     },
     "execution_count": 41,
     "metadata": {},
     "output_type": "execute_result"
    },
    {
     "data": {
      "image/png": "[encoded data removed]",
      "text/plain": [
       "<Figure size 720x360 with 1 Axes>"
      ]
     },
     "metadata": {
      "needs_background": "light"
     },
     "output_type": "display_data"
    }
   ],
   "source": [
    "feat = \"C21\"\n",
    "plotCTR(feat,df,(10,5)).locator_params(nbins=20)\n",
    "print(imp_info(feat,df))\n",
    "print(\"Top 5 features impression by percentage:\")\n",
    "imp_p(feat,df)[0:5]"
   ]
  },
  {
   "cell_type": "markdown",
   "id": "381971cc-623e-4b6e-ac8d-e5d5685609f0",
   "metadata": {
    "jp-MarkdownHeadingCollapsed": true,
    "tags": []
   },
   "source": [
    "### 5.4. Banner position<a id=\"5.4\"></a>"
   ]
  },
  {
   "cell_type": "code",
   "execution_count": 42,
   "id": "d5843d24-d43c-4b3f-bb94-972a625f0537",
   "metadata": {},
   "outputs": [
    {
     "name": "stdout",
     "output_type": "stream",
     "text": [
      "The total number of banner_pos features is 7.\n",
      "The max percentage impression of an individual feature is 72.01%.\n",
      "Features impression by percentage:\n"
     ]
    },
    {
     "data": {
      "text/plain": [
       "0    72.012045\n",
       "1    27.810227\n",
       "7     0.106136\n",
       "2     0.032682\n",
       "4     0.018864\n",
       "5     0.014636\n",
       "3     0.005409\n",
       "Name: banner_pos, dtype: float64"
      ]
     },
     "execution_count": 42,
     "metadata": {},
     "output_type": "execute_result"
    },
    {
     "data": {
      "image/png": "[encoded data removed]",
      "text/plain": [
       "<Figure size 720x360 with 1 Axes>"
      ]
     },
     "metadata": {
      "needs_background": "light"
     },
     "output_type": "display_data"
    }
   ],
   "source": [
    "feat = \"banner_pos\"\n",
    "plotCTR(feat,df,(10,5))\n",
    "print(imp_info(feat,df))\n",
    "print(\"Features impression by percentage:\")\n",
    "imp_p(feat,df)"
   ]
  },
  {
   "cell_type": "markdown",
   "id": "7fe2baa7-f448-41ba-8375-591ae4508941",
   "metadata": {},
   "source": [
    "The banner positions 0 and 1 are the most frequent, but the position 7 has the highest CTR."
   ]
  },
  {
   "cell_type": "markdown",
   "id": "fbac54cb-1945-4c81-b241-29bb9d603df7",
   "metadata": {
    "jp-MarkdownHeadingCollapsed": true,
    "tags": []
   },
   "source": [
    "### 5.5. Site features<a id=\"5.5\"></a>"
   ]
  },
  {
   "cell_type": "markdown",
   "id": "9dc05065-a916-45d9-863a-4306fc2a2484",
   "metadata": {},
   "source": [
    "The site features are the following:"
   ]
  },
  {
   "cell_type": "markdown",
   "id": "120c1976-9cf7-4f4d-86d7-0249c5113a7d",
   "metadata": {
    "tags": []
   },
   "source": [
    "#### site_id:"
   ]
  },
  {
   "cell_type": "code",
   "execution_count": 43,
   "id": "b72a85a7-fb44-480a-b661-073e7662f72b",
   "metadata": {},
   "outputs": [
    {
     "name": "stdout",
     "output_type": "stream",
     "text": [
      "The total number of site_id features is 3078.\n",
      "The max percentage impression of an individual feature is 36.11%.\n",
      "Top 5 features impression by percentage:\n"
     ]
    },
    {
     "data": {
      "text/plain": [
       "58871977    36.109273\n",
       "77416566    16.037182\n",
       "69663027     6.528636\n",
       "47868311     2.367909\n",
       "47499721     2.254591\n",
       "Name: site_id, dtype: float64"
      ]
     },
     "execution_count": 43,
     "metadata": {},
     "output_type": "execute_result"
    },
    {
     "data": {
      "image/png": "[encoded data removed]",
      "text/plain": [
       "<Figure size 720x360 with 1 Axes>"
      ]
     },
     "metadata": {
      "needs_background": "light"
     },
     "output_type": "display_data"
    }
   ],
   "source": [
    "feat = \"site_id\"\n",
    "plotCTR(feat,df,(10,5)).locator_params(nbins=20)\n",
    "print(imp_info(feat,df))\n",
    "print(\"Top 5 features impression by percentage:\")\n",
    "imp_p(feat,df)[0:5]"
   ]
  },
  {
   "cell_type": "markdown",
   "id": "f7058de3-395d-4e8a-b0c7-b050068d9ba3",
   "metadata": {
    "tags": []
   },
   "source": [
    "#### site_domain:"
   ]
  },
  {
   "cell_type": "code",
   "execution_count": 44,
   "id": "987dce01-0912-4536-92e9-ab6c7056c4a7",
   "metadata": {},
   "outputs": [
    {
     "name": "stdout",
     "output_type": "stream",
     "text": [
      "The total number of site_domain features is 3578.\n",
      "The max percentage impression of an individual feature is 37.44%.\n",
      "Top 5 features impression by percentage:\n"
     ]
    },
    {
     "data": {
      "text/plain": [
       "47101692    37.439545\n",
       "45450440    16.037182\n",
       "92132807     8.233818\n",
       "68438688     3.184955\n",
       "81576619     2.450636\n",
       "Name: site_domain, dtype: float64"
      ]
     },
     "execution_count": 44,
     "metadata": {},
     "output_type": "execute_result"
    },
    {
     "data": {
      "image/png": "[encoded data removed]",
      "text/plain": [
       "<Figure size 720x360 with 1 Axes>"
      ]
     },
     "metadata": {
      "needs_background": "light"
     },
     "output_type": "display_data"
    }
   ],
   "source": [
    "feat = \"site_domain\"\n",
    "plotCTR(feat,df,(10,5)).locator_params(nbins=20)\n",
    "print(imp_info(feat,df))\n",
    "print(\"Top 5 features impression by percentage:\")\n",
    "imp_p(feat,df)[0:5]"
   ]
  },
  {
   "cell_type": "markdown",
   "id": "6a030c30-ce39-43a3-9d57-9ef9bcd5f3eb",
   "metadata": {
    "tags": []
   },
   "source": [
    "#### site_category:"
   ]
  },
  {
   "cell_type": "code",
   "execution_count": 45,
   "id": "9695f23d-f4f9-46a7-98b1-e10e0ab28d3f",
   "metadata": {},
   "outputs": [
    {
     "name": "stdout",
     "output_type": "stream",
     "text": [
      "The total number of site_category features is 21.\n",
      "The max percentage impression of an individual feature is 40.91%.\n",
      "Top 5 features impression by percentage:\n"
     ]
    },
    {
     "data": {
      "text/plain": [
       "34961570    40.906682\n",
       "38489621    31.290136\n",
       "68987348    18.228591\n",
       "85396418     7.551091\n",
       "76012494     0.626364\n",
       "Name: site_category, dtype: float64"
      ]
     },
     "execution_count": 45,
     "metadata": {},
     "output_type": "execute_result"
    },
    {
     "data": {
      "image/png": "[encoded data removed]",
      "text/plain": [
       "<Figure size 720x360 with 1 Axes>"
      ]
     },
     "metadata": {
      "needs_background": "light"
     },
     "output_type": "display_data"
    }
   ],
   "source": [
    "feat = \"site_category\"\n",
    "plotCTR(feat,df,(10,5)).locator_params(nbins=20)\n",
    "print(imp_info(feat,df))\n",
    "print(\"Top 5 features impression by percentage:\")\n",
    "imp_p(feat,df)[0:5]"
   ]
  },
  {
   "cell_type": "markdown",
   "id": "a32ff1c0-8601-418c-b77d-159ed980384c",
   "metadata": {
    "jp-MarkdownHeadingCollapsed": true,
    "tags": []
   },
   "source": [
    "### 5.6. App features<a id=\"5.6\"></a>"
   ]
  },
  {
   "cell_type": "markdown",
   "id": "1f9fb264-4a90-48cc-8431-8ef3239949b2",
   "metadata": {},
   "source": [
    "The app features are the following:"
   ]
  },
  {
   "cell_type": "markdown",
   "id": "78db12fb-c5c0-479e-a81b-9cb82d83eb4c",
   "metadata": {
    "tags": []
   },
   "source": [
    "#### app_id:"
   ]
  },
  {
   "cell_type": "code",
   "execution_count": 46,
   "id": "bd1a0549-cba1-4fc8-b8ae-e1881dbbf696",
   "metadata": {},
   "outputs": [
    {
     "name": "stdout",
     "output_type": "stream",
     "text": [
      "The total number of app_id features is 4062.\n",
      "The max percentage impression of an individual feature is 63.89%.\n",
      "Top 5 features impression by percentage:\n"
     ]
    },
    {
     "data": {
      "text/plain": [
       "21296553    63.890727\n",
       "67221166     3.841909\n",
       "14726820     2.793000\n",
       "6779498      1.890182\n",
       "82374827     1.873409\n",
       "Name: app_id, dtype: float64"
      ]
     },
     "execution_count": 46,
     "metadata": {},
     "output_type": "execute_result"
    },
    {
     "data": {
      "image/png": "[encoded data removed]",
      "text/plain": [
       "<Figure size 720x360 with 1 Axes>"
      ]
     },
     "metadata": {
      "needs_background": "light"
     },
     "output_type": "display_data"
    }
   ],
   "source": [
    "feat = \"app_id\"\n",
    "plotCTR(feat,df,(10,5)).locator_params(nbins=20)\n",
    "print(imp_info(feat,df))\n",
    "print(\"Top 5 features impression by percentage:\")\n",
    "imp_p(feat,df)[0:5]"
   ]
  },
  {
   "cell_type": "markdown",
   "id": "aafee9f7-6270-41b5-867b-7ebff9f1a3d7",
   "metadata": {
    "tags": []
   },
   "source": [
    "#### app_domain:"
   ]
  },
  {
   "cell_type": "code",
   "execution_count": 47,
   "id": "f9a7a6bb-816e-4d6e-893b-c8c97a0c57c9",
   "metadata": {},
   "outputs": [
    {
     "name": "stdout",
     "output_type": "stream",
     "text": [
      "The total number of app_domain features is 253.\n",
      "The max percentage impression of an individual feature is 67.36%.\n",
      "Top 5 features impression by percentage:\n"
     ]
    },
    {
     "data": {
      "text/plain": [
       "19803410    67.365000\n",
       "52117907    12.921227\n",
       "62945929     4.648318\n",
       "3119132      2.793409\n",
       "95913759     1.890318\n",
       "Name: app_domain, dtype: float64"
      ]
     },
     "execution_count": 47,
     "metadata": {},
     "output_type": "execute_result"
    },
    {
     "data": {
      "image/png": "[encoded data removed]",
      "text/plain": [
       "<Figure size 720x360 with 1 Axes>"
      ]
     },
     "metadata": {
      "needs_background": "light"
     },
     "output_type": "display_data"
    }
   ],
   "source": [
    "feat = \"app_domain\"\n",
    "plotCTR(feat,df,(10,5)).locator_params(nbins=20)\n",
    "print(imp_info(feat,df))\n",
    "print(\"Top 5 features impression by percentage:\")\n",
    "imp_p(feat,df)[0:5]"
   ]
  },
  {
   "cell_type": "markdown",
   "id": "a5267656-be8d-4dca-8a53-20d53658c43c",
   "metadata": {
    "tags": []
   },
   "source": [
    "#### app_category:"
   ]
  },
  {
   "cell_type": "code",
   "execution_count": 48,
   "id": "6bbd64a3-7201-4045-b62b-ca9015efc243",
   "metadata": {},
   "outputs": [
    {
     "name": "stdout",
     "output_type": "stream",
     "text": [
      "The total number of app_category features is 28.\n",
      "The max percentage impression of an individual feature is 64.72%.\n",
      "Top 5 features impression by percentage:\n"
     ]
    },
    {
     "data": {
      "text/plain": [
       "54082361    64.723864\n",
       "77290787    23.631045\n",
       "17669737     4.316591\n",
       "559247       3.616091\n",
       "3237031      2.824500\n",
       "Name: app_category, dtype: float64"
      ]
     },
     "execution_count": 48,
     "metadata": {},
     "output_type": "execute_result"
    },
    {
     "data": {
      "image/png": "[encoded data removed]",
      "text/plain": [
       "<Figure size 720x360 with 1 Axes>"
      ]
     },
     "metadata": {
      "needs_background": "light"
     },
     "output_type": "display_data"
    }
   ],
   "source": [
    "feat = \"app_category\"\n",
    "plotCTR(feat,df,(10,5)).locator_params(nbins=20)\n",
    "print(imp_info(feat,df))\n",
    "print(\"Top 5 features impression by percentage:\")\n",
    "imp_p(feat,df)[0:5]"
   ]
  },
  {
   "cell_type": "markdown",
   "id": "84bd3c36-a028-446a-a958-9e8365f7e473",
   "metadata": {
    "jp-MarkdownHeadingCollapsed": true,
    "tags": []
   },
   "source": [
    "### 5.7. Device features<a id=\"5.7\"></a>"
   ]
  },
  {
   "cell_type": "markdown",
   "id": "696ccfa3-ef54-49b6-89d0-96aebf0fa1de",
   "metadata": {},
   "source": [
    "The device features are the following:"
   ]
  },
  {
   "cell_type": "markdown",
   "id": "0382c47c-b7d3-4d1e-9be7-6806ddc0f610",
   "metadata": {
    "tags": []
   },
   "source": [
    "#### device_id:"
   ]
  },
  {
   "cell_type": "code",
   "execution_count": 49,
   "id": "11139111-d343-4fce-b8d7-7903f260fa89",
   "metadata": {},
   "outputs": [
    {
     "name": "stdout",
     "output_type": "stream",
     "text": [
      "The total number of device_id features is 300876.\n",
      "The max percentage impression of an individual feature is 82.56%.\n",
      "Top 5 features impression by percentage:\n"
     ]
    },
    {
     "data": {
      "text/plain": [
       "10247907    82.561545\n",
       "46536917     0.053545\n",
       "98726390     0.049773\n",
       "10968229     0.035182\n",
       "22936040     0.024227\n",
       "Name: device_id, dtype: float64"
      ]
     },
     "execution_count": 49,
     "metadata": {},
     "output_type": "execute_result"
    }
   ],
   "source": [
    "feat = \"device_id\"\n",
    "print(imp_info(feat,df))\n",
    "print(\"Top 5 features impression by percentage:\")\n",
    "imp_p(feat,df)[0:5]"
   ]
  },
  {
   "cell_type": "markdown",
   "id": "62ec38ac-3f16-42d8-919d-3f84bcb2bf93",
   "metadata": {
    "tags": []
   },
   "source": [
    "#### device_ip:"
   ]
  },
  {
   "cell_type": "code",
   "execution_count": 50,
   "id": "d08eef09-023a-47e8-a565-349b0f5c4695",
   "metadata": {},
   "outputs": [
    {
     "name": "stdout",
     "output_type": "stream",
     "text": [
      "The total number of device_ip features is 1031270.\n",
      "The max percentage impression of an individual feature is 0.51%.\n",
      "Top 5 features impression by percentage:\n"
     ]
    },
    {
     "data": {
      "text/plain": [
       "56672657    0.513682\n",
       "27021711    0.334364\n",
       "43055436    0.219227\n",
       "22084914    0.217955\n",
       "91657272    0.214318\n",
       "Name: device_ip, dtype: float64"
      ]
     },
     "execution_count": 50,
     "metadata": {},
     "output_type": "execute_result"
    }
   ],
   "source": [
    "feat = \"device_ip\"\n",
    "print(imp_info(feat,df))\n",
    "print(\"Top 5 features impression by percentage:\")\n",
    "imp_p(feat,df)[0:5]"
   ]
  },
  {
   "cell_type": "markdown",
   "id": "a8ac0bcf-c74a-4554-8d12-10c0f37cd5ba",
   "metadata": {
    "tags": []
   },
   "source": [
    "#### device_model:"
   ]
  },
  {
   "cell_type": "code",
   "execution_count": 51,
   "id": "1cc1ae85-3e32-435d-a399-f6fc68db5fb4",
   "metadata": {},
   "outputs": [
    {
     "name": "stdout",
     "output_type": "stream",
     "text": [
      "The total number of device_model features is 5855.\n",
      "The max percentage impression of an individual feature is 6.06%.\n",
      "Top 5 features impression by percentage:\n"
     ]
    },
    {
     "data": {
      "text/plain": [
       "71405640    6.060045\n",
       "18363807    3.516136\n",
       "39340179    3.459682\n",
       "58278248    1.910591\n",
       "33949426    1.831000\n",
       "Name: device_model, dtype: float64"
      ]
     },
     "execution_count": 51,
     "metadata": {},
     "output_type": "execute_result"
    },
    {
     "data": {
      "image/png": "[encoded data removed]",
      "text/plain": [
       "<Figure size 720x360 with 1 Axes>"
      ]
     },
     "metadata": {
      "needs_background": "light"
     },
     "output_type": "display_data"
    }
   ],
   "source": [
    "feat = \"device_model\"\n",
    "plotCTR(feat,df,(10,5)).locator_params(nbins=20)\n",
    "print(imp_info(feat,df))\n",
    "print(\"Top 5 features impression by percentage:\")\n",
    "imp_p(feat,df)[0:5]"
   ]
  },
  {
   "cell_type": "markdown",
   "id": "bd1f0fec-3496-455a-aeeb-c3b069009f22",
   "metadata": {
    "tags": []
   },
   "source": [
    "#### device_type:"
   ]
  },
  {
   "cell_type": "code",
   "execution_count": 52,
   "id": "f7c44f50-c010-4899-b94d-c20d0a81f61e",
   "metadata": {},
   "outputs": [
    {
     "name": "stdout",
     "output_type": "stream",
     "text": [
      "The total number of device_type features is 5.\n",
      "The max percentage impression of an individual feature is 92.28%.\n",
      "Features impression by percentage:\n"
     ]
    },
    {
     "data": {
      "text/plain": [
       "1    92.275500\n",
       "0     5.499636\n",
       "4     1.912909\n",
       "5     0.311909\n",
       "2     0.000045\n",
       "Name: device_type, dtype: float64"
      ]
     },
     "execution_count": 52,
     "metadata": {},
     "output_type": "execute_result"
    },
    {
     "data": {
      "image/png": "[encoded data removed]",
      "text/plain": [
       "<Figure size 720x360 with 1 Axes>"
      ]
     },
     "metadata": {
      "needs_background": "light"
     },
     "output_type": "display_data"
    }
   ],
   "source": [
    "feat=\"device_type\"\n",
    "plotCTR(feat,df,(10,5))\n",
    "print(imp_info(feat,df))\n",
    "print(\"Features impression by percentage:\")\n",
    "imp_p(feat,df)"
   ]
  },
  {
   "cell_type": "markdown",
   "id": "aa631fbe-4481-4421-bfb3-c7296ac25b1b",
   "metadata": {
    "tags": []
   },
   "source": [
    "#### device_conn_type:"
   ]
  },
  {
   "cell_type": "code",
   "execution_count": 53,
   "id": "7c8ad579-fa9a-41e6-8944-f5206a2ca660",
   "metadata": {},
   "outputs": [
    {
     "name": "stdout",
     "output_type": "stream",
     "text": [
      "The total number of device_conn_type features is 4.\n",
      "The max percentage impression of an individual feature is 86.3%.\n",
      "Features impression by percentage:\n"
     ]
    },
    {
     "data": {
      "text/plain": [
       "0    86.297818\n",
       "2     8.206864\n",
       "3     5.390591\n",
       "5     0.104727\n",
       "Name: device_conn_type, dtype: float64"
      ]
     },
     "execution_count": 53,
     "metadata": {},
     "output_type": "execute_result"
    },
    {
     "data": {
      "image/png": "[encoded data removed]",
      "text/plain": [
       "<Figure size 720x360 with 1 Axes>"
      ]
     },
     "metadata": {
      "needs_background": "light"
     },
     "output_type": "display_data"
    }
   ],
   "source": [
    "feat=\"device_conn_type\"\n",
    "plotCTR(feat,df,(10,5))\n",
    "print(imp_info(feat,df))\n",
    "print(\"Features impression by percentage:\")\n",
    "imp_p(feat,df)"
   ]
  },
  {
   "cell_type": "markdown",
   "id": "c350b8d0-462b-471b-a6c3-f185e616274b",
   "metadata": {
    "jp-MarkdownHeadingCollapsed": true,
    "tags": []
   },
   "source": [
    "## 6. Data sets creation<a id=\"6\"></a>"
   ]
  },
  {
   "cell_type": "markdown",
   "id": "3d10dba4-eb53-4dba-b5da-78a903bd5d24",
   "metadata": {},
   "source": [
    "By analyzing the previous features, we can see that some values do not seem to be very relevant for prediction. \n",
    "\n",
    "For example, the device_ip feature has 962460 unique values. The influence of this parameter can be difficult to understand at first glance and the impression of each value is less than 0.5%.\n",
    "\n",
    "So, to start, we will eliminate some features of the data set to build a simplified random forests model. Then we will build a complete model and compare it with the simplified one.\n",
    "\n",
    "We will drop the \"id\" feature for both models."
   ]
  },
  {
   "cell_type": "markdown",
   "id": "478aa22c-6310-46e2-9186-7ba21c8da3ff",
   "metadata": {},
   "source": [
    "First we shuffle the original dataframe:"
   ]
  },
  {
   "cell_type": "code",
   "execution_count": null,
   "id": "001fedbb-5a45-41c5-b29b-dd94446aa536",
   "metadata": {},
   "outputs": [],
   "source": [
    "df = df.sample(frac=1).reset_index(drop=True)"
   ]
  },
  {
   "cell_type": "markdown",
   "id": "dcc170f3-ed68-4efd-83e1-fc59b93b568d",
   "metadata": {},
   "source": [
    "Then we can extract its simplified version:"
   ]
  },
  {
   "cell_type": "code",
   "execution_count": 55,
   "id": "1cf3f1d6-c637-48f1-b344-5144b5caf526",
   "metadata": {},
   "outputs": [],
   "source": [
    "df_simp = copy.copy(df)"
   ]
  },
  {
   "cell_type": "code",
   "execution_count": 13,
   "id": "ea3d14b8-0885-4fb4-9eee-1a8d2035b735",
   "metadata": {},
   "outputs": [],
   "source": [
    "def drop_feat(df, feat_to_drop=['id','C14','C17','site_id','site_domain','app_id','app_domain','device_id','device_ip','device_model']):\n",
    "    for f in feat_to_drop :\n",
    "        df.drop(f, axis=1, inplace=True)"
   ]
  },
  {
   "cell_type": "code",
   "execution_count": 57,
   "id": "bb863c3c-15f3-4c3c-ac64-6a1d38040d34",
   "metadata": {},
   "outputs": [],
   "source": [
    "drop_feat(df_simp)"
   ]
  },
  {
   "cell_type": "code",
   "execution_count": 58,
   "id": "6dc63eea-ef74-4a5a-a1b2-400969635fd4",
   "metadata": {},
   "outputs": [],
   "source": [
    "drop_feat(df,['id'])"
   ]
  },
  {
   "cell_type": "code",
   "execution_count": 59,
   "id": "2d46e39a-b9cf-43ab-8394-cdb42ffba9d7",
   "metadata": {},
   "outputs": [
    {
     "data": {
      "text/html": [
       "<div>\n",
       "<style scoped>\n",
       "    .dataframe tbody tr th:only-of-type {\n",
       "        vertical-align: middle;\n",
       "    }\n",
       "\n",
       "    .dataframe tbody tr th {\n",
       "        vertical-align: top;\n",
       "    }\n",
       "\n",
       "    .dataframe thead th {\n",
       "        text-align: right;\n",
       "    }\n",
       "</style>\n",
       "<table border=\"1\" class=\"dataframe\">\n",
       "  <thead>\n",
       "    <tr style=\"text-align: right;\">\n",
       "      <th></th>\n",
       "      <th>click</th>\n",
       "      <th>C1</th>\n",
       "      <th>banner_pos</th>\n",
       "      <th>site_id</th>\n",
       "      <th>site_domain</th>\n",
       "      <th>site_category</th>\n",
       "      <th>app_id</th>\n",
       "      <th>app_domain</th>\n",
       "      <th>app_category</th>\n",
       "      <th>device_id</th>\n",
       "      <th>device_ip</th>\n",
       "      <th>device_model</th>\n",
       "      <th>device_type</th>\n",
       "      <th>device_conn_type</th>\n",
       "      <th>C14</th>\n",
       "      <th>C15</th>\n",
       "      <th>C16</th>\n",
       "      <th>C17</th>\n",
       "      <th>C18</th>\n",
       "      <th>C19</th>\n",
       "      <th>C20</th>\n",
       "      <th>C21</th>\n",
       "      <th>actual_hour</th>\n",
       "      <th>weekday</th>\n",
       "    </tr>\n",
       "  </thead>\n",
       "  <tbody>\n",
       "    <tr>\n",
       "      <th>0</th>\n",
       "      <td>0</td>\n",
       "      <td>1005</td>\n",
       "      <td>0</td>\n",
       "      <td>58871977</td>\n",
       "      <td>47101692</td>\n",
       "      <td>34961570</td>\n",
       "      <td>44098617</td>\n",
       "      <td>52117907</td>\n",
       "      <td>77290787</td>\n",
       "      <td>10247907</td>\n",
       "      <td>41134101</td>\n",
       "      <td>58323650</td>\n",
       "      <td>1</td>\n",
       "      <td>0</td>\n",
       "      <td>22738</td>\n",
       "      <td>320</td>\n",
       "      <td>50</td>\n",
       "      <td>2636</td>\n",
       "      <td>0</td>\n",
       "      <td>47</td>\n",
       "      <td>100111</td>\n",
       "      <td>70</td>\n",
       "      <td>6</td>\n",
       "      <td>2</td>\n",
       "    </tr>\n",
       "    <tr>\n",
       "      <th>1</th>\n",
       "      <td>1</td>\n",
       "      <td>1005</td>\n",
       "      <td>1</td>\n",
       "      <td>69663027</td>\n",
       "      <td>92132807</td>\n",
       "      <td>38489621</td>\n",
       "      <td>21296553</td>\n",
       "      <td>19803410</td>\n",
       "      <td>54082361</td>\n",
       "      <td>10247907</td>\n",
       "      <td>22205911</td>\n",
       "      <td>78412339</td>\n",
       "      <td>1</td>\n",
       "      <td>0</td>\n",
       "      <td>17262</td>\n",
       "      <td>320</td>\n",
       "      <td>50</td>\n",
       "      <td>1872</td>\n",
       "      <td>3</td>\n",
       "      <td>39</td>\n",
       "      <td>-1</td>\n",
       "      <td>23</td>\n",
       "      <td>4</td>\n",
       "      <td>3</td>\n",
       "    </tr>\n",
       "    <tr>\n",
       "      <th>2</th>\n",
       "      <td>0</td>\n",
       "      <td>1002</td>\n",
       "      <td>0</td>\n",
       "      <td>73488799</td>\n",
       "      <td>98389258</td>\n",
       "      <td>34961570</td>\n",
       "      <td>21296553</td>\n",
       "      <td>19803410</td>\n",
       "      <td>54082361</td>\n",
       "      <td>56715572</td>\n",
       "      <td>13779635</td>\n",
       "      <td>44433699</td>\n",
       "      <td>0</td>\n",
       "      <td>0</td>\n",
       "      <td>21789</td>\n",
       "      <td>320</td>\n",
       "      <td>50</td>\n",
       "      <td>2512</td>\n",
       "      <td>2</td>\n",
       "      <td>291</td>\n",
       "      <td>-1</td>\n",
       "      <td>52</td>\n",
       "      <td>14</td>\n",
       "      <td>2</td>\n",
       "    </tr>\n",
       "    <tr>\n",
       "      <th>3</th>\n",
       "      <td>0</td>\n",
       "      <td>1005</td>\n",
       "      <td>0</td>\n",
       "      <td>58871977</td>\n",
       "      <td>47101692</td>\n",
       "      <td>34961570</td>\n",
       "      <td>82414098</td>\n",
       "      <td>35249761</td>\n",
       "      <td>77290787</td>\n",
       "      <td>10247907</td>\n",
       "      <td>73360954</td>\n",
       "      <td>28309763</td>\n",
       "      <td>1</td>\n",
       "      <td>0</td>\n",
       "      <td>23625</td>\n",
       "      <td>320</td>\n",
       "      <td>50</td>\n",
       "      <td>2706</td>\n",
       "      <td>3</td>\n",
       "      <td>937</td>\n",
       "      <td>100155</td>\n",
       "      <td>61</td>\n",
       "      <td>23</td>\n",
       "      <td>2</td>\n",
       "    </tr>\n",
       "    <tr>\n",
       "      <th>4</th>\n",
       "      <td>0</td>\n",
       "      <td>1005</td>\n",
       "      <td>0</td>\n",
       "      <td>58871977</td>\n",
       "      <td>47101692</td>\n",
       "      <td>34961570</td>\n",
       "      <td>48052539</td>\n",
       "      <td>52117907</td>\n",
       "      <td>559247</td>\n",
       "      <td>37555679</td>\n",
       "      <td>70575167</td>\n",
       "      <td>93924659</td>\n",
       "      <td>1</td>\n",
       "      <td>0</td>\n",
       "      <td>23143</td>\n",
       "      <td>320</td>\n",
       "      <td>50</td>\n",
       "      <td>2665</td>\n",
       "      <td>0</td>\n",
       "      <td>35</td>\n",
       "      <td>-1</td>\n",
       "      <td>221</td>\n",
       "      <td>1</td>\n",
       "      <td>2</td>\n",
       "    </tr>\n",
       "  </tbody>\n",
       "</table>\n",
       "</div>"
      ],
      "text/plain": [
       "   click    C1  banner_pos   site_id  site_domain  site_category    app_id  \\\n",
       "0      0  1005           0  58871977     47101692       34961570  44098617   \n",
       "1      1  1005           1  69663027     92132807       38489621  21296553   \n",
       "2      0  1002           0  73488799     98389258       34961570  21296553   \n",
       "3      0  1005           0  58871977     47101692       34961570  82414098   \n",
       "4      0  1005           0  58871977     47101692       34961570  48052539   \n",
       "\n",
       "   app_domain  app_category  device_id  device_ip  device_model  device_type  \\\n",
       "0    52117907      77290787   10247907   41134101      58323650            1   \n",
       "1    19803410      54082361   10247907   22205911      78412339            1   \n",
       "2    19803410      54082361   56715572   13779635      44433699            0   \n",
       "3    35249761      77290787   10247907   73360954      28309763            1   \n",
       "4    52117907        559247   37555679   70575167      93924659            1   \n",
       "\n",
       "   device_conn_type    C14  C15  C16   C17  C18  C19     C20  C21  \\\n",
       "0                 0  22738  320   50  2636    0   47  100111   70   \n",
       "1                 0  17262  320   50  1872    3   39      -1   23   \n",
       "2                 0  21789  320   50  2512    2  291      -1   52   \n",
       "3                 0  23625  320   50  2706    3  937  100155   61   \n",
       "4                 0  23143  320   50  2665    0   35      -1  221   \n",
       "\n",
       "   actual_hour  weekday  \n",
       "0            6        2  \n",
       "1            4        3  \n",
       "2           14        2  \n",
       "3           23        2  \n",
       "4            1        2  "
      ]
     },
     "execution_count": 59,
     "metadata": {},
     "output_type": "execute_result"
    }
   ],
   "source": [
    "df.head()"
   ]
  },
  {
   "cell_type": "code",
   "execution_count": 60,
   "id": "43edc960-d9b3-4174-ba0c-f3f711014cf2",
   "metadata": {},
   "outputs": [
    {
     "data": {
      "text/html": [
       "<div>\n",
       "<style scoped>\n",
       "    .dataframe tbody tr th:only-of-type {\n",
       "        vertical-align: middle;\n",
       "    }\n",
       "\n",
       "    .dataframe tbody tr th {\n",
       "        vertical-align: top;\n",
       "    }\n",
       "\n",
       "    .dataframe thead th {\n",
       "        text-align: right;\n",
       "    }\n",
       "</style>\n",
       "<table border=\"1\" class=\"dataframe\">\n",
       "  <thead>\n",
       "    <tr style=\"text-align: right;\">\n",
       "      <th></th>\n",
       "      <th>click</th>\n",
       "      <th>C1</th>\n",
       "      <th>banner_pos</th>\n",
       "      <th>site_category</th>\n",
       "      <th>app_category</th>\n",
       "      <th>device_type</th>\n",
       "      <th>device_conn_type</th>\n",
       "      <th>C15</th>\n",
       "      <th>C16</th>\n",
       "      <th>C18</th>\n",
       "      <th>C19</th>\n",
       "      <th>C20</th>\n",
       "      <th>C21</th>\n",
       "      <th>actual_hour</th>\n",
       "      <th>weekday</th>\n",
       "    </tr>\n",
       "  </thead>\n",
       "  <tbody>\n",
       "    <tr>\n",
       "      <th>0</th>\n",
       "      <td>0</td>\n",
       "      <td>1005</td>\n",
       "      <td>0</td>\n",
       "      <td>34961570</td>\n",
       "      <td>77290787</td>\n",
       "      <td>1</td>\n",
       "      <td>0</td>\n",
       "      <td>320</td>\n",
       "      <td>50</td>\n",
       "      <td>0</td>\n",
       "      <td>47</td>\n",
       "      <td>100111</td>\n",
       "      <td>70</td>\n",
       "      <td>6</td>\n",
       "      <td>2</td>\n",
       "    </tr>\n",
       "    <tr>\n",
       "      <th>1</th>\n",
       "      <td>1</td>\n",
       "      <td>1005</td>\n",
       "      <td>1</td>\n",
       "      <td>38489621</td>\n",
       "      <td>54082361</td>\n",
       "      <td>1</td>\n",
       "      <td>0</td>\n",
       "      <td>320</td>\n",
       "      <td>50</td>\n",
       "      <td>3</td>\n",
       "      <td>39</td>\n",
       "      <td>-1</td>\n",
       "      <td>23</td>\n",
       "      <td>4</td>\n",
       "      <td>3</td>\n",
       "    </tr>\n",
       "    <tr>\n",
       "      <th>2</th>\n",
       "      <td>0</td>\n",
       "      <td>1002</td>\n",
       "      <td>0</td>\n",
       "      <td>34961570</td>\n",
       "      <td>54082361</td>\n",
       "      <td>0</td>\n",
       "      <td>0</td>\n",
       "      <td>320</td>\n",
       "      <td>50</td>\n",
       "      <td>2</td>\n",
       "      <td>291</td>\n",
       "      <td>-1</td>\n",
       "      <td>52</td>\n",
       "      <td>14</td>\n",
       "      <td>2</td>\n",
       "    </tr>\n",
       "    <tr>\n",
       "      <th>3</th>\n",
       "      <td>0</td>\n",
       "      <td>1005</td>\n",
       "      <td>0</td>\n",
       "      <td>34961570</td>\n",
       "      <td>77290787</td>\n",
       "      <td>1</td>\n",
       "      <td>0</td>\n",
       "      <td>320</td>\n",
       "      <td>50</td>\n",
       "      <td>3</td>\n",
       "      <td>937</td>\n",
       "      <td>100155</td>\n",
       "      <td>61</td>\n",
       "      <td>23</td>\n",
       "      <td>2</td>\n",
       "    </tr>\n",
       "    <tr>\n",
       "      <th>4</th>\n",
       "      <td>0</td>\n",
       "      <td>1005</td>\n",
       "      <td>0</td>\n",
       "      <td>34961570</td>\n",
       "      <td>559247</td>\n",
       "      <td>1</td>\n",
       "      <td>0</td>\n",
       "      <td>320</td>\n",
       "      <td>50</td>\n",
       "      <td>0</td>\n",
       "      <td>35</td>\n",
       "      <td>-1</td>\n",
       "      <td>221</td>\n",
       "      <td>1</td>\n",
       "      <td>2</td>\n",
       "    </tr>\n",
       "  </tbody>\n",
       "</table>\n",
       "</div>"
      ],
      "text/plain": [
       "   click    C1  banner_pos  site_category  app_category  device_type  \\\n",
       "0      0  1005           0       34961570      77290787            1   \n",
       "1      1  1005           1       38489621      54082361            1   \n",
       "2      0  1002           0       34961570      54082361            0   \n",
       "3      0  1005           0       34961570      77290787            1   \n",
       "4      0  1005           0       34961570        559247            1   \n",
       "\n",
       "   device_conn_type  C15  C16  C18  C19     C20  C21  actual_hour  weekday  \n",
       "0                 0  320   50    0   47  100111   70            6        2  \n",
       "1                 0  320   50    3   39      -1   23            4        3  \n",
       "2                 0  320   50    2  291      -1   52           14        2  \n",
       "3                 0  320   50    3  937  100155   61           23        2  \n",
       "4                 0  320   50    0   35      -1  221            1        2  "
      ]
     },
     "execution_count": 60,
     "metadata": {},
     "output_type": "execute_result"
    }
   ],
   "source": [
    "df_simp.head()"
   ]
  },
  {
   "cell_type": "markdown",
   "id": "2c5dfcf2-4059-44c8-b767-ad2dd395ea07",
   "metadata": {},
   "source": [
    "Dividing the dataframe into train and cv dataframes:"
   ]
  },
  {
   "cell_type": "code",
   "execution_count": 61,
   "id": "daaa7926-d6be-43ca-b991-39067bcadec3",
   "metadata": {},
   "outputs": [],
   "source": [
    "train_simp=df_simp.loc[0:1999999]\n",
    "cv_simp=df_simp.loc[2000000:]"
   ]
  },
  {
   "cell_type": "code",
   "execution_count": 62,
   "id": "9b7ddc3f-26dd-4217-a567-df4686838e92",
   "metadata": {},
   "outputs": [],
   "source": [
    "train=df.loc[0:1999999]\n",
    "cv=df.loc[2000000:]"
   ]
  },
  {
   "cell_type": "code",
   "execution_count": 63,
   "id": "745e9d93-c57b-4d40-b9df-c684671393b6",
   "metadata": {},
   "outputs": [
    {
     "data": {
      "text/plain": [
       "((2000000, 15), (2000000, 24))"
      ]
     },
     "execution_count": 63,
     "metadata": {},
     "output_type": "execute_result"
    }
   ],
   "source": [
    "train_simp.shape, train.shape"
   ]
  },
  {
   "cell_type": "code",
   "execution_count": 64,
   "id": "57c9e0ed-b56e-4282-8ab2-46f8cc5c6a78",
   "metadata": {},
   "outputs": [
    {
     "data": {
      "text/plain": [
       "((200000, 15), (200000, 24))"
      ]
     },
     "execution_count": 64,
     "metadata": {},
     "output_type": "execute_result"
    }
   ],
   "source": [
    "cv_simp.shape, cv.shape"
   ]
  },
  {
   "cell_type": "markdown",
   "id": "20411ede-4e2d-47a3-b13d-bfbf3e027009",
   "metadata": {},
   "source": [
    "Saving all dataframes to a .csv file (if needed):"
   ]
  },
  {
   "cell_type": "code",
   "execution_count": 67,
   "id": "8dee30f1-2002-474f-b1c9-7d8980e340a9",
   "metadata": {},
   "outputs": [],
   "source": [
    "df.to_csv(\"df.csv\", index = False)\n",
    "\n",
    "train.to_csv(\"train_all.csv\", index = False)\n",
    "cv.to_csv(\"cv_all.csv\", index = False)\n",
    "\n",
    "train_simp.to_csv(\"train_simp.csv\", index = False)\n",
    "cv_simp.to_csv(\"cv_simp.csv\", index = False)"
   ]
  },
  {
   "cell_type": "markdown",
   "id": "e2569a02-ef31-4528-82ed-18aa6a17b865",
   "metadata": {
    "jp-MarkdownHeadingCollapsed": true,
    "tags": []
   },
   "source": [
    "## 7. Simple model<a id=\"7\"></a>"
   ]
  },
  {
   "cell_type": "markdown",
   "id": "ace5ffbb-599a-4a88-aed5-2eba48a65a95",
   "metadata": {
    "jp-MarkdownHeadingCollapsed": true,
    "tags": []
   },
   "source": [
    "### 7.1. Decision forests model with default settings"
   ]
  },
  {
   "cell_type": "markdown",
   "id": "afad791d-aeb3-4d9e-be1d-f4d2b4e7cf74",
   "metadata": {},
   "source": [
    "Loading the data set (if needed):"
   ]
  },
  {
   "cell_type": "code",
   "execution_count": 66,
   "id": "43272b4d-9dfa-4c32-b510-747ebda9ad70",
   "metadata": {},
   "outputs": [],
   "source": [
    "train_simp=pd.read_csv('train_simp.csv')\n",
    "cv_simp=pd.read_csv('cv_simp.csv')"
   ]
  },
  {
   "cell_type": "markdown",
   "id": "26795399-3bfa-45ce-97bd-caaf21c71f27",
   "metadata": {},
   "source": [
    "Converting the data frames to tensorflow datasets:"
   ]
  },
  {
   "cell_type": "code",
   "execution_count": null,
   "id": "48cafb71-ded8-4d68-9723-c848abbcb638",
   "metadata": {},
   "outputs": [],
   "source": [
    "cv_simp_tf = tfdf.keras.pd_dataframe_to_tf_dataset(cv_simp, label=\"click\")"
   ]
  },
  {
   "cell_type": "code",
   "execution_count": null,
   "id": "fb82bd21-4270-47e6-b171-3ffb04f29e90",
   "metadata": {},
   "outputs": [],
   "source": [
    "train_simp_tf = tfdf.keras.pd_dataframe_to_tf_dataset(train_simp, label=\"click\")"
   ]
  },
  {
   "cell_type": "markdown",
   "id": "01c5a85b-40c3-47fb-bccb-e0eeaeed6360",
   "metadata": {},
   "source": [
    "Training the model with default settings:"
   ]
  },
  {
   "cell_type": "code",
   "execution_count": 8,
   "id": "96ac87e8-64dd-4c84-9985-799f230fca20",
   "metadata": {},
   "outputs": [
    {
     "name": "stdout",
     "output_type": "stream",
     "text": [
      "Use /tmp/tmpmbx52cs8 as temporary training directory\n"
     ]
    }
   ],
   "source": [
    "model = tfdf.keras.RandomForestModel()"
   ]
  },
  {
   "cell_type": "code",
   "execution_count": 9,
   "id": "6762de89-9d9d-4ab1-97c0-38cb492bac21",
   "metadata": {},
   "outputs": [
    {
     "name": "stdout",
     "output_type": "stream",
     "text": [
      "Starting reading the dataset\n",
      "1992/2000 [============================>.] - ETA: 0s\n",
      "Dataset read in 0:00:09.571145\n",
      "Training model\n",
      "Model trained in 0:04:34.253242\n",
      "Compiling model\n"
     ]
    },
    {
     "name": "stderr",
     "output_type": "stream",
     "text": [
      "[INFO kernel.cc:1153] Loading model from path\n",
      "[INFO abstract_model.cc:1063] Engine \"RandomForestOptPred\" built\n",
      "[INFO kernel.cc:1001] Use fast generic engine\n"
     ]
    },
    {
     "name": "stdout",
     "output_type": "stream",
     "text": [
      "2000/2000 [==============================] - 290s 144ms/step\n",
      "WARNING:tensorflow:AutoGraph could not transform <function simple_ml_inference_op_with_handle at 0x7fcfa5de88b0> and will run it as-is.\n",
      "Please report this to the TensorFlow team. When filing the bug, set the verbosity to 10 (on Linux, `export AUTOGRAPH_VERBOSITY=10`) and attach the full output.\n",
      "Cause: could not get source code\n",
      "To silence this warning, decorate the function with @tf.autograph.experimental.do_not_convert\n"
     ]
    },
    {
     "name": "stderr",
     "output_type": "stream",
     "text": [
      "WARNING:tensorflow:AutoGraph could not transform <function simple_ml_inference_op_with_handle at 0x7fcfa5de88b0> and will run it as-is.\n",
      "Please report this to the TensorFlow team. When filing the bug, set the verbosity to 10 (on Linux, `export AUTOGRAPH_VERBOSITY=10`) and attach the full output.\n",
      "Cause: could not get source code\n",
      "To silence this warning, decorate the function with @tf.autograph.experimental.do_not_convert\n"
     ]
    },
    {
     "name": "stdout",
     "output_type": "stream",
     "text": [
      "WARNING: AutoGraph could not transform <function simple_ml_inference_op_with_handle at 0x7fcfa5de88b0> and will run it as-is.\n",
      "Please report this to the TensorFlow team. When filing the bug, set the verbosity to 10 (on Linux, `export AUTOGRAPH_VERBOSITY=10`) and attach the full output.\n",
      "Cause: could not get source code\n",
      "To silence this warning, decorate the function with @tf.autograph.experimental.do_not_convert\n"
     ]
    },
    {
     "data": {
      "text/plain": [
       "<keras.callbacks.History at 0x7fcfa28a6c70>"
      ]
     },
     "execution_count": 9,
     "metadata": {},
     "output_type": "execute_result"
    }
   ],
   "source": [
    "model.fit(train_simp_tf)"
   ]
  },
  {
   "cell_type": "markdown",
   "id": "01425506-63f0-427d-bd6a-813298eced7e",
   "metadata": {},
   "source": [
    "Evaluating the model with the cv set:"
   ]
  },
  {
   "cell_type": "code",
   "execution_count": 8,
   "id": "6a4c96d7-eb28-49a8-82d3-9465c8a9e773",
   "metadata": {},
   "outputs": [
    {
     "name": "stdout",
     "output_type": "stream",
     "text": [
      "200/200 [==============================] - 6s 29ms/step - loss: 0.0000e+00 - accuracy: 0.8328\n",
      "[0.0, 0.8327950239181519]\n"
     ]
    }
   ],
   "source": [
    "model.compile(metrics=[\"accuracy\"])\n",
    "print(model.evaluate(cv_simp_tf))"
   ]
  },
  {
   "cell_type": "markdown",
   "id": "4ca3c713-430e-478e-9f46-d92e1073daa5",
   "metadata": {},
   "source": [
    "Visualizing one of the threes from the decision forest:"
   ]
  },
  {
   "cell_type": "code",
   "execution_count": 11,
   "id": "7bc7fa93-10ae-482c-8668-cc9c698b9da6",
   "metadata": {},
   "outputs": [
    {
     "data": {
      "text/html": [
       "\n",
       "<script src=\"https://d3js.org/d3.v6.min.js\"></script>\n",
       "<div id=\"tree_plot_9c752fcecb6544bda49038f986b7cf5c\"></div>\n",
       "<script>\n",
       "/*\n",
       " * Copyright 2021 Google LLC.\n",
       " * Licensed under the Apache License, Version 2.0 (the \"License\");\n",
       " * you may not use this file except in compliance with the License.\n",
       " * You may obtain a copy of the License at\n",
       " *\n",
       " *     https://www.apache.org/licenses/LICENSE-2.0\n",
       " *\n",
       " * Unless required by applicable law or agreed to in writing, software\n",
       " * distributed under the License is distributed on an \"AS IS\" BASIS,\n",
       " * WITHOUT WARRANTIES OR CONDITIONS OF ANY KIND, either express or implied.\n",
       " * See the License for the specific language governing permissions and\n",
       " * limitations under the License.\n",
       " */\n",
       "\n",
       "/**\n",
       " *  Plotting of decision trees generated by TF-DF.\n",
       " *\n",
       " *  A tree is a recursive structure of node objects.\n",
       " *  A node contains one or more of the following components:\n",
       " *\n",
       " *    - A value: Representing the output of the node. If the node is not a leaf,\n",
       " *      the value is only present for analysis i.e. it is not used for\n",
       " *      predictions.\n",
       " *\n",
       " *    - A condition : For non-leaf nodes, the condition (also known as split)\n",
       " *      defines a binary test to branch to the positive or negative child.\n",
       " *\n",
       " *    - An explanation: Generally a plot showing the relation between the label\n",
       " *      and the condition to give insights about the effect of the condition.\n",
       " *\n",
       " *    - Two children : For non-leaf nodes, the children nodes. The first\n",
       " *      children (i.e. \"node.children[0]\") is the negative children (drawn in\n",
       " *      red). The second children is the positive one (drawn in green).\n",
       " *\n",
       " */\n",
       "\n",
       "/**\n",
       " * Plots a single decision tree into a DOM element.\n",
       " * @param {!options} options Dictionary of configurations.\n",
       " * @param {!tree} raw_tree Recursive tree structure.\n",
       " * @param {string} canvas_id Id of the output dom element.\n",
       " */\n",
       "function display_tree(options, raw_tree, canvas_id) {\n",
       "  console.log(options);\n",
       "\n",
       "  // Determine the node placement.\n",
       "  const tree_struct = d3.tree().nodeSize(\n",
       "      [options.node_y_offset, options.node_x_offset])(d3.hierarchy(raw_tree));\n",
       "\n",
       "  // Boundaries of the node placement.\n",
       "  let x_min = Infinity;\n",
       "  let x_max = -x_min;\n",
       "  let y_min = Infinity;\n",
       "  let y_max = -x_min;\n",
       "\n",
       "  tree_struct.each(d => {\n",
       "    if (d.x > x_max) x_max = d.x;\n",
       "    if (d.x < x_min) x_min = d.x;\n",
       "    if (d.y > y_max) y_max = d.y;\n",
       "    if (d.y < y_min) y_min = d.y;\n",
       "  });\n",
       "\n",
       "  // Size of the plot.\n",
       "  const width = y_max - y_min + options.node_x_size + options.margin * 2;\n",
       "  const height = x_max - x_min + options.node_y_size + options.margin * 2 +\n",
       "      options.node_y_offset - options.node_y_size;\n",
       "\n",
       "  const plot = d3.select(canvas_id);\n",
       "\n",
       "  // Tool tip\n",
       "  options.tooltip = plot.append('div')\n",
       "                        .attr('width', 100)\n",
       "                        .attr('height', 100)\n",
       "                        .style('padding', '4px')\n",
       "                        .style('background', '#fff')\n",
       "                        .style('box-shadow', '4px 4px 0px rgba(0,0,0,0.1)')\n",
       "                        .style('border', '1px solid black')\n",
       "                        .style('font-family', 'sans-serif')\n",
       "                        .style('font-size', options.font_size)\n",
       "                        .style('position', 'absolute')\n",
       "                        .style('z-index', '10')\n",
       "                        .attr('pointer-events', 'none')\n",
       "                        .style('display', 'none');\n",
       "\n",
       "  // Create canvas\n",
       "  const svg = plot.append('svg').attr('width', width).attr('height', height);\n",
       "  const graph =\n",
       "      svg.style('overflow', 'visible')\n",
       "          .append('g')\n",
       "          .attr('font-family', 'sans-serif')\n",
       "          .attr('font-size', options.font_size)\n",
       "          .attr(\n",
       "              'transform',\n",
       "              () => `translate(${options.margin},${\n",
       "                  - x_min + options.node_y_offset / 2 + options.margin})`);\n",
       "\n",
       "  // Plot bounding box.\n",
       "  if (options.show_plot_bounding_box) {\n",
       "    svg.append('rect')\n",
       "        .attr('width', width)\n",
       "        .attr('height', height)\n",
       "        .attr('fill', 'none')\n",
       "        .attr('stroke-width', 1.0)\n",
       "        .attr('stroke', 'black');\n",
       "  }\n",
       "\n",
       "  // Draw the edges.\n",
       "  display_edges(options, graph, tree_struct);\n",
       "\n",
       "  // Draw the nodes.\n",
       "  display_nodes(options, graph, tree_struct);\n",
       "}\n",
       "\n",
       "/**\n",
       " * Draw the nodes of the tree.\n",
       " * @param {!options} options Dictionary of configurations.\n",
       " * @param {!graph} graph D3 search handle containing the graph.\n",
       " * @param {!tree_struct} tree_struct Structure of the tree (node placement,\n",
       " *     data, etc.).\n",
       " */\n",
       "function display_nodes(options, graph, tree_struct) {\n",
       "  const nodes = graph.append('g')\n",
       "                    .selectAll('g')\n",
       "                    .data(tree_struct.descendants())\n",
       "                    .join('g')\n",
       "                    .attr('transform', d => `translate(${d.y},${d.x})`);\n",
       "\n",
       "  nodes.append('rect')\n",
       "      .attr('x', 0.5)\n",
       "      .attr('y', 0.5)\n",
       "      .attr('width', options.node_x_size)\n",
       "      .attr('height', options.node_y_size)\n",
       "      .attr('stroke', 'lightgrey')\n",
       "      .attr('stroke-width', 1)\n",
       "      .attr('fill', 'white')\n",
       "      .attr('y', -options.node_y_size / 2);\n",
       "\n",
       "  // Brackets on the right of condition nodes without children.\n",
       "  non_leaf_node_without_children =\n",
       "      nodes.filter(node => node.data.condition != null && node.children == null)\n",
       "          .append('g')\n",
       "          .attr('transform', `translate(${options.node_x_size},0)`);\n",
       "\n",
       "  non_leaf_node_without_children.append('path')\n",
       "      .attr('d', 'M0,0 C 10,0 0,10 10,10')\n",
       "      .attr('fill', 'none')\n",
       "      .attr('stroke-width', 1.0)\n",
       "      .attr('stroke', '#F00');\n",
       "\n",
       "  non_leaf_node_without_children.append('path')\n",
       "      .attr('d', 'M0,0 C 10,0 0,-10 10,-10')\n",
       "      .attr('fill', 'none')\n",
       "      .attr('stroke-width', 1.0)\n",
       "      .attr('stroke', '#0F0');\n",
       "\n",
       "  const node_content = nodes.append('g').attr(\n",
       "      'transform',\n",
       "      `translate(0,${options.node_padding - options.node_y_size / 2})`);\n",
       "\n",
       "  node_content.append(node => create_node_element(options, node));\n",
       "}\n",
       "\n",
       "/**\n",
       " * Creates the D3 content for a single node.\n",
       " * @param {!options} options Dictionary of configurations.\n",
       " * @param {!node} node Node to draw.\n",
       " * @return {!d3} D3 content.\n",
       " */\n",
       "function create_node_element(options, node) {\n",
       "  // Output accumulator.\n",
       "  let output = {\n",
       "    // Content to draw.\n",
       "    content: d3.create('svg:g'),\n",
       "    // Vertical offset to the next element to draw.\n",
       "    vertical_offset: 0\n",
       "  };\n",
       "\n",
       "  // Conditions.\n",
       "  if (node.data.condition != null) {\n",
       "    display_condition(options, node.data.condition, output);\n",
       "  }\n",
       "\n",
       "  // Values.\n",
       "  if (node.data.value != null) {\n",
       "    display_value(options, node.data.value, output);\n",
       "  }\n",
       "\n",
       "  // Explanations.\n",
       "  if (node.data.explanation != null) {\n",
       "    display_explanation(options, node.data.explanation, output);\n",
       "  }\n",
       "\n",
       "  return output.content.node();\n",
       "}\n",
       "\n",
       "\n",
       "/**\n",
       " * Adds a single line of text inside of a node.\n",
       " * @param {!options} options Dictionary of configurations.\n",
       " * @param {string} text Text to display.\n",
       " * @param {!output} output Output display accumulator.\n",
       " */\n",
       "function display_node_text(options, text, output) {\n",
       "  output.content.append('text')\n",
       "      .attr('x', options.node_padding)\n",
       "      .attr('y', output.vertical_offset)\n",
       "      .attr('alignment-baseline', 'hanging')\n",
       "      .text(text);\n",
       "  output.vertical_offset += 10;\n",
       "}\n",
       "\n",
       "/**\n",
       " * Adds a single line of text inside of a node with a tooltip.\n",
       " * @param {!options} options Dictionary of configurations.\n",
       " * @param {string} text Text to display.\n",
       " * @param {string} tooltip Text in the Tooltip.\n",
       " * @param {!output} output Output display accumulator.\n",
       " */\n",
       "function display_node_text_with_tooltip(options, text, tooltip, output) {\n",
       "  const item = output.content.append('text')\n",
       "                   .attr('x', options.node_padding)\n",
       "                   .attr('alignment-baseline', 'hanging')\n",
       "                   .text(text);\n",
       "\n",
       "  add_tooltip(options, item, () => tooltip);\n",
       "  output.vertical_offset += 10;\n",
       "}\n",
       "\n",
       "/**\n",
       " * Adds a tooltip to a dom element.\n",
       " * @param {!options} options Dictionary of configurations.\n",
       " * @param {!dom} target Dom element to equip with a tooltip.\n",
       " * @param {!func} get_content Generates the html content of the tooltip.\n",
       " */\n",
       "function add_tooltip(options, target, get_content) {\n",
       "  function show(d) {\n",
       "    options.tooltip.style('display', 'block');\n",
       "    options.tooltip.html(get_content());\n",
       "  }\n",
       "\n",
       "  function hide(d) {\n",
       "    options.tooltip.style('display', 'none');\n",
       "  }\n",
       "\n",
       "  function move(d) {\n",
       "    options.tooltip.style('display', 'block');\n",
       "    options.tooltip.style('left', (d.pageX + 5) + 'px');\n",
       "    options.tooltip.style('top', d.pageY + 'px');\n",
       "  }\n",
       "\n",
       "  target.on('mouseover', show);\n",
       "  target.on('mouseout', hide);\n",
       "  target.on('mousemove', move);\n",
       "}\n",
       "\n",
       "/**\n",
       " * Adds a condition inside of a node.\n",
       " * @param {!options} options Dictionary of configurations.\n",
       " * @param {!condition} condition Condition to display.\n",
       " * @param {!output} output Output display accumulator.\n",
       " */\n",
       "function display_condition(options, condition, output) {\n",
       "  threshold_format = d3.format('r');\n",
       "\n",
       "  if (condition.type === 'IS_MISSING') {\n",
       "    display_node_text(options, `${condition.attribute} is missing`, output);\n",
       "    return;\n",
       "  }\n",
       "\n",
       "  if (condition.type === 'IS_TRUE') {\n",
       "    display_node_text(options, `${condition.attribute} is true`, output);\n",
       "    return;\n",
       "  }\n",
       "\n",
       "  if (condition.type === 'NUMERICAL_IS_HIGHER_THAN') {\n",
       "    format = d3.format('r');\n",
       "    display_node_text(\n",
       "        options,\n",
       "        `${condition.attribute} >= ${threshold_format(condition.threshold)}`,\n",
       "        output);\n",
       "    return;\n",
       "  }\n",
       "\n",
       "  if (condition.type === 'CATEGORICAL_IS_IN') {\n",
       "    display_node_text_with_tooltip(\n",
       "        options, `${condition.attribute} in [...]`,\n",
       "        `${condition.attribute} in [${condition.mask}]`, output);\n",
       "    return;\n",
       "  }\n",
       "\n",
       "  if (condition.type === 'CATEGORICAL_SET_CONTAINS') {\n",
       "    display_node_text_with_tooltip(\n",
       "        options, `${condition.attribute} intersect [...]`,\n",
       "        `${condition.attribute} intersect [${condition.mask}]`, output);\n",
       "    return;\n",
       "  }\n",
       "\n",
       "  if (condition.type === 'NUMERICAL_SPARSE_OBLIQUE') {\n",
       "    display_node_text_with_tooltip(\n",
       "        options, `Sparse oblique split...`,\n",
       "        `[${condition.attributes}]*[${condition.weights}]>=${\n",
       "            threshold_format(condition.threshold)}`,\n",
       "        output);\n",
       "    return;\n",
       "  }\n",
       "\n",
       "  display_node_text(\n",
       "      options, `Non supported condition ${condition.type}`, output);\n",
       "}\n",
       "\n",
       "/**\n",
       " * Adds a value inside of a node.\n",
       " * @param {!options} options Dictionary of configurations.\n",
       " * @param {!value} value Value to display.\n",
       " * @param {!output} output Output display accumulator.\n",
       " */\n",
       "function display_value(options, value, output) {\n",
       "  if (value.type === 'PROBABILITY') {\n",
       "    const left_margin = 0;\n",
       "    const right_margin = 50;\n",
       "    const plot_width = options.node_x_size - options.node_padding * 2 -\n",
       "        left_margin - right_margin;\n",
       "\n",
       "    let cusum = Array.from(d3.cumsum(value.distribution));\n",
       "    cusum.unshift(0);\n",
       "    const distribution_plot = output.content.append('g').attr(\n",
       "        'transform', `translate(0,${output.vertical_offset + 0.5})`);\n",
       "\n",
       "    distribution_plot.selectAll('rect')\n",
       "        .data(value.distribution)\n",
       "        .join('rect')\n",
       "        .attr('height', 10)\n",
       "        .attr(\n",
       "            'x',\n",
       "            (d, i) =>\n",
       "                (cusum[i] * plot_width + left_margin + options.node_padding))\n",
       "        .attr('width', (d, i) => d * plot_width)\n",
       "        .style('fill', (d, i) => d3.schemeSet1[i]);\n",
       "\n",
       "    const num_examples =\n",
       "        output.content.append('g')\n",
       "            .attr('transform', `translate(0,${output.vertical_offset})`)\n",
       "            .append('text')\n",
       "            .attr('x', options.node_x_size - options.node_padding)\n",
       "            .attr('alignment-baseline', 'hanging')\n",
       "            .attr('text-anchor', 'end')\n",
       "            .text(`(${value.num_examples})`);\n",
       "\n",
       "    const distribution_details = d3.create('ul');\n",
       "    distribution_details.selectAll('li')\n",
       "        .data(value.distribution)\n",
       "        .join('li')\n",
       "        .append('span')\n",
       "        .text(\n",
       "            (d, i) =>\n",
       "                'class ' + i + ': ' + d3.format('.3%')(value.distribution[i]));\n",
       "\n",
       "    add_tooltip(options, distribution_plot, () => distribution_details.html());\n",
       "    add_tooltip(options, num_examples, () => 'Number of examples');\n",
       "\n",
       "    output.vertical_offset += 10;\n",
       "    return;\n",
       "  }\n",
       "\n",
       "  if (value.type === 'REGRESSION') {\n",
       "    display_node_text(\n",
       "        options,\n",
       "        'value: ' + d3.format('r')(value.value) + ` (` +\n",
       "            d3.format('.6')(value.num_examples) + `)`,\n",
       "        output);\n",
       "    return;\n",
       "  }\n",
       "\n",
       "  display_node_text(options, `Non supported value ${value.type}`, output);\n",
       "}\n",
       "\n",
       "/**\n",
       " * Adds an explanation inside of a node.\n",
       " * @param {!options} options Dictionary of configurations.\n",
       " * @param {!explanation} explanation Explanation to display.\n",
       " * @param {!output} output Output display accumulator.\n",
       " */\n",
       "function display_explanation(options, explanation, output) {\n",
       "  // Margin before the explanation.\n",
       "  output.vertical_offset += 10;\n",
       "\n",
       "  display_node_text(\n",
       "      options, `Non supported explanation ${explanation.type}`, output);\n",
       "}\n",
       "\n",
       "\n",
       "/**\n",
       " * Draw the edges of the tree.\n",
       " * @param {!options} options Dictionary of configurations.\n",
       " * @param {!graph} graph D3 search handle containing the graph.\n",
       " * @param {!tree_struct} tree_struct Structure of the tree (node placement,\n",
       " *     data, etc.).\n",
       " */\n",
       "function display_edges(options, graph, tree_struct) {\n",
       "  // Draw an edge between a parent and a child node with a bezier.\n",
       "  function draw_single_edge(d) {\n",
       "    return 'M' + (d.source.y + options.node_x_size) + ',' + d.source.x + ' C' +\n",
       "        (d.source.y + options.node_x_size + options.edge_rounding) + ',' +\n",
       "        d.source.x + ' ' + (d.target.y - options.edge_rounding) + ',' +\n",
       "        d.target.x + ' ' + d.target.y + ',' + d.target.x;\n",
       "  }\n",
       "\n",
       "  graph.append('g')\n",
       "      .attr('fill', 'none')\n",
       "      .attr('stroke-width', 1.2)\n",
       "      .selectAll('path')\n",
       "      .data(tree_struct.links())\n",
       "      .join('path')\n",
       "      .attr('d', draw_single_edge)\n",
       "      .attr(\n",
       "          'stroke', d => (d.target === d.source.children[0]) ? '#0F0' : '#F00');\n",
       "}\n",
       "\n",
       "display_tree({\"margin\": 10, \"node_x_size\": 160, \"node_y_size\": 28, \"node_x_offset\": 180, \"node_y_offset\": 33, \"font_size\": 10, \"edge_rounding\": 20, \"node_padding\": 2, \"show_plot_bounding_box\": false}, {\"value\": {\"type\": \"PROBABILITY\", \"distribution\": [0.830842, 0.169158], \"num_examples\": 2000000.0}, \"condition\": {\"type\": \"NUMERICAL_IS_HIGHER_THAN\", \"attribute\": \"C16\", \"threshold\": 170.0}, \"children\": [{\"value\": {\"type\": \"PROBABILITY\", \"distribution\": [0.5908564936567714, 0.4091435063432286], \"num_examples\": 95062.0}, \"condition\": {\"type\": \"NUMERICAL_IS_HIGHER_THAN\", \"attribute\": \"C16\", \"threshold\": 285.0}, \"children\": [{\"value\": {\"type\": \"PROBABILITY\", \"distribution\": [0.7892119357306809, 0.21078806426931906], \"num_examples\": 5228.0}, \"condition\": {\"type\": \"NUMERICAL_IS_HIGHER_THAN\", \"attribute\": \"C20\", \"threshold\": 100153.5}, \"children\": [{\"value\": {\"type\": \"PROBABILITY\", \"distribution\": [0.971976401179941, 0.028023598820058997], \"num_examples\": 1356.0}, \"condition\": {\"type\": \"NUMERICAL_IS_HIGHER_THAN\", \"attribute\": \"banner_pos\", \"threshold\": 3.5}}, {\"value\": {\"type\": \"PROBABILITY\", \"distribution\": [0.7252066115702479, 0.27479338842975204], \"num_examples\": 3872.0}, \"condition\": {\"type\": \"NUMERICAL_IS_HIGHER_THAN\", \"attribute\": \"app_category\", \"threshold\": 14528466.0}}]}, {\"value\": {\"type\": \"PROBABILITY\", \"distribution\": [0.5793129550058997, 0.42068704499410026], \"num_examples\": 89834.0}, \"condition\": {\"type\": \"NUMERICAL_IS_HIGHER_THAN\", \"attribute\": \"site_category\", \"threshold\": 29887776.0}, \"children\": [{\"value\": {\"type\": \"PROBABILITY\", \"distribution\": [0.5969208736126029, 0.40307912638739707], \"num_examples\": 83790.0}, \"condition\": {\"type\": \"NUMERICAL_IS_HIGHER_THAN\", \"attribute\": \"C19\", \"threshold\": 42.0}}, {\"value\": {\"type\": \"PROBABILITY\", \"distribution\": [0.33520847121111846, 0.6647915287888815], \"num_examples\": 6044.0}, \"condition\": {\"type\": \"NUMERICAL_IS_HIGHER_THAN\", \"attribute\": \"C21\", \"threshold\": 44.0}}]}]}, {\"value\": {\"type\": \"PROBABILITY\", \"distribution\": [0.8428179814776124, 0.1571820185223876], \"num_examples\": 1904938.0}, \"condition\": {\"type\": \"NUMERICAL_IS_HIGHER_THAN\", \"attribute\": \"app_category\", \"threshold\": 12158218.0}, \"children\": [{\"value\": {\"type\": \"PROBABILITY\", \"distribution\": [0.8864513410629704, 0.11354865893702962], \"num_examples\": 688260.0}, \"condition\": {\"type\": \"NUMERICAL_IS_HIGHER_THAN\", \"attribute\": \"device_conn_type\", \"threshold\": 2.5}, \"children\": [{\"value\": {\"type\": \"PROBABILITY\", \"distribution\": [0.9605419782018376, 0.03945802179816241], \"num_examples\": 107532.0}, \"condition\": {\"type\": \"NUMERICAL_IS_HIGHER_THAN\", \"attribute\": \"C20\", \"threshold\": 100188.5}}, {\"value\": {\"type\": \"PROBABILITY\", \"distribution\": [0.8727321568789519, 0.12726784312104805], \"num_examples\": 580728.0}, \"condition\": {\"type\": \"NUMERICAL_IS_HIGHER_THAN\", \"attribute\": \"C20\", \"threshold\": 49999.5}}]}, {\"value\": {\"type\": \"PROBABILITY\", \"distribution\": [0.8181351187413597, 0.18186488125864034], \"num_examples\": 1216678.0}, \"condition\": {\"type\": \"NUMERICAL_IS_HIGHER_THAN\", \"attribute\": \"C21\", \"threshold\": 38.5}, \"children\": [{\"value\": {\"type\": \"PROBABILITY\", \"distribution\": [0.8350061592979028, 0.1649938407020972], \"num_examples\": 796357.0}, \"condition\": {\"type\": \"NUMERICAL_IS_HIGHER_THAN\", \"attribute\": \"C18\", \"threshold\": 2.5}}, {\"value\": {\"type\": \"PROBABILITY\", \"distribution\": [0.7861705696360639, 0.21382943036393615], \"num_examples\": 420321.0}, \"condition\": {\"type\": \"NUMERICAL_IS_HIGHER_THAN\", \"attribute\": \"banner_pos\", \"threshold\": 0.5}}]}]}]}, \"#tree_plot_9c752fcecb6544bda49038f986b7cf5c\")\n",
       "</script>\n"
      ],
      "text/plain": [
       "<IPython.core.display.HTML object>"
      ]
     },
     "execution_count": 11,
     "metadata": {},
     "output_type": "execute_result"
    }
   ],
   "source": [
    "tfdf.model_plotter.plot_model_in_colab(model, tree_idx=0)"
   ]
  },
  {
   "cell_type": "markdown",
   "id": "d2e33c1f-1da4-49ed-a59e-13ef574a8757",
   "metadata": {},
   "source": [
    "Some details about the actual model:"
   ]
  },
  {
   "cell_type": "code",
   "execution_count": 13,
   "id": "12742de8-5abb-4bf7-92c4-767bd7700aa4",
   "metadata": {},
   "outputs": [
    {
     "name": "stdout",
     "output_type": "stream",
     "text": [
      "Model: \"random_forest_model\"\n",
      "_________________________________________________________________\n",
      " Layer (type)                Output Shape              Param #   \n",
      "=================================================================\n",
      "=================================================================\n",
      "Total params: 1\n",
      "Trainable params: 0\n",
      "Non-trainable params: 1\n",
      "_________________________________________________________________\n",
      "Type: \"RANDOM_FOREST\"\n",
      "Task: CLASSIFICATION\n",
      "Label: \"__LABEL\"\n",
      "\n",
      "Input Features (14):\n",
      "\tC1\n",
      "\tC15\n",
      "\tC16\n",
      "\tC18\n",
      "\tC19\n",
      "\tC20\n",
      "\tC21\n",
      "\tactual_hour\n",
      "\tapp_category\n",
      "\tbanner_pos\n",
      "\tdevice_conn_type\n",
      "\tdevice_type\n",
      "\tsite_category\n",
      "\tweekday\n",
      "\n",
      "No weights\n",
      "\n",
      "Variable Importance: MEAN_MIN_DEPTH:\n",
      "    1.          \"__LABEL\" 14.086540 ################\n",
      "    2.      \"device_type\" 12.379652 #############\n",
      "    3.               \"C1\" 12.360483 #############\n",
      "    4.              \"C15\" 11.002553 ###########\n",
      "    5.       \"banner_pos\" 10.475877 ##########\n",
      "    6.          \"weekday\" 10.369408 ##########\n",
      "    7.      \"actual_hour\"  9.338531 #########\n",
      "    8. \"device_conn_type\"  9.021443 ########\n",
      "    9.    \"site_category\"  8.111001 #######\n",
      "   10.              \"C18\"  7.268362 ######\n",
      "   11.              \"C19\"  6.619494 #####\n",
      "   12.     \"app_category\"  6.318258 ####\n",
      "   13.              \"C20\"  6.305388 ####\n",
      "   14.              \"C16\"  5.801108 ####\n",
      "   15.              \"C21\"  2.902422 \n",
      "\n",
      "Variable Importance: NUM_AS_ROOT:\n",
      "    1.              \"C16\" 111.000000 ################\n",
      "    2.              \"C21\" 73.000000 ##########\n",
      "    3.     \"app_category\" 54.000000 #######\n",
      "    4.              \"C15\" 30.000000 ####\n",
      "    5. \"device_conn_type\" 17.000000 ##\n",
      "    6.              \"C18\"  6.000000 \n",
      "    7.              \"C20\"  4.000000 \n",
      "    8.    \"site_category\"  4.000000 \n",
      "    9.              \"C19\"  1.000000 \n",
      "\n",
      "Variable Importance: NUM_NODES:\n",
      "    1.      \"actual_hour\" 777309.000000 ################\n",
      "    2.              \"C20\" 362267.000000 #######\n",
      "    3.          \"weekday\" 309413.000000 ######\n",
      "    4.              \"C19\" 116392.000000 ##\n",
      "    5. \"device_conn_type\" 87882.000000 #\n",
      "    6.              \"C21\" 77968.000000 #\n",
      "    7.     \"app_category\" 65961.000000 #\n",
      "    8.    \"site_category\" 64768.000000 #\n",
      "    9.              \"C18\" 30530.000000 \n",
      "   10.       \"banner_pos\" 23494.000000 \n",
      "   11.              \"C15\" 16543.000000 \n",
      "   12.               \"C1\" 14864.000000 \n",
      "   13.      \"device_type\" 13908.000000 \n",
      "   14.              \"C16\" 11486.000000 \n",
      "\n",
      "Variable Importance: SUM_SCORE:\n",
      "    1.              \"C21\" 5228596.841192 ################\n",
      "    2.              \"C20\" 3278675.723924 #########\n",
      "    3.              \"C16\" 3207673.061567 #########\n",
      "    4.     \"app_category\" 3150983.997245 #########\n",
      "    5.              \"C19\" 3091260.966952 ########\n",
      "    6.    \"site_category\" 2897994.325760 ########\n",
      "    7.      \"actual_hour\" 2623745.674643 #######\n",
      "    8.              \"C18\" 2171357.600159 #####\n",
      "    9.          \"weekday\" 1386150.606720 ###\n",
      "   10. \"device_conn_type\" 1374525.606895 ###\n",
      "   11.       \"banner_pos\" 938646.549188 #\n",
      "   12.              \"C15\" 900533.695316 #\n",
      "   13.               \"C1\" 556615.334875 \n",
      "   14.      \"device_type\" 429806.853487 \n",
      "\n",
      "\n",
      "\n",
      "Winner take all: true\n",
      "Out-of-bag evaluation: accuracy:0.834328 logloss:5.03165\n",
      "Number of trees: 300\n",
      "Total number of nodes: 3945870\n",
      "\n",
      "Number of nodes by tree:\n",
      "Count: 300 Average: 13152.9 StdDev: 1412.9\n",
      "Min: 9899 Max: 16519 Ignored: 0\n",
      "----------------------------------------------\n",
      "[  9899, 10230)  7   2.33%   2.33% ###\n",
      "[ 10230, 10561)  4   1.33%   3.67% #\n",
      "[ 10561, 10892) 10   3.33%   7.00% ####\n",
      "[ 10892, 11223)  8   2.67%   9.67% ###\n",
      "[ 11223, 11554) 13   4.33%  14.00% #####\n",
      "[ 11554, 11885) 18   6.00%  20.00% ######\n",
      "[ 11885, 12216) 17   5.67%  25.67% ######\n",
      "[ 12216, 12547) 26   8.67%  34.33% #########\n",
      "[ 12547, 12878) 28   9.33%  43.67% ##########\n",
      "[ 12878, 13209) 26   8.67%  52.33% #########\n",
      "[ 13209, 13540) 21   7.00%  59.33% ########\n",
      "[ 13540, 13871) 18   6.00%  65.33% ######\n",
      "[ 13871, 14202) 24   8.00%  73.33% #########\n",
      "[ 14202, 14533) 23   7.67%  81.00% ########\n",
      "[ 14533, 14864) 25   8.33%  89.33% #########\n",
      "[ 14864, 15195) 11   3.67%  93.00% ####\n",
      "[ 15195, 15526) 12   4.00%  97.00% ####\n",
      "[ 15526, 15857)  3   1.00%  98.00% #\n",
      "[ 15857, 16188)  5   1.67%  99.67% ##\n",
      "[ 16188, 16519]  1   0.33% 100.00%\n",
      "\n",
      "Depth by leafs:\n",
      "Count: 1973085 Average: 14.0899 StdDev: 1.45382\n",
      "Min: 4 Max: 15 Ignored: 0\n",
      "----------------------------------------------\n",
      "[  4,  5)      25   0.00%   0.00%\n",
      "[  5,  6)     169   0.01%   0.01%\n",
      "[  6,  7)     904   0.05%   0.06%\n",
      "[  7,  8)    3130   0.16%   0.21%\n",
      "[  8,  9)    8305   0.42%   0.64%\n",
      "[  9, 10)   19062   0.97%   1.60%\n",
      "[ 10, 11)   38735   1.96%   3.56%\n",
      "[ 11, 12)   73520   3.73%   7.29% #\n",
      "[ 12, 13)  127162   6.44%  13.74% #\n",
      "[ 13, 14)  204985  10.39%  24.12% ##\n",
      "[ 14, 15)  308844  15.65%  39.78% ###\n",
      "[ 15, 15] 1188244  60.22% 100.00% ##########\n",
      "\n",
      "Number of training obs by leaf:\n",
      "Count: 1973085 Average: 304.092 StdDev: 2271.35\n",
      "Min: 5 Max: 262903 Ignored: 0\n",
      "----------------------------------------------\n",
      "[      5,  13149) 1967045  99.69%  99.69% ##########\n",
      "[  13149,  26294)    3848   0.20%  99.89%\n",
      "[  26294,  39439)    1118   0.06%  99.95%\n",
      "[  39439,  52584)     539   0.03%  99.97%\n",
      "[  52584,  65729)     176   0.01%  99.98%\n",
      "[  65729,  78874)      82   0.00%  99.99%\n",
      "[  78874,  92019)      68   0.00%  99.99%\n",
      "[  92019, 105164)      47   0.00%  99.99%\n",
      "[ 105164, 118309)      32   0.00%  99.99%\n",
      "[ 118309, 131454)      35   0.00% 100.00%\n",
      "[ 131454, 144599)      42   0.00% 100.00%\n",
      "[ 144599, 157744)      11   0.00% 100.00%\n",
      "[ 157744, 170889)      11   0.00% 100.00%\n",
      "[ 170889, 184034)      12   0.00% 100.00%\n",
      "[ 184034, 197179)      10   0.00% 100.00%\n",
      "[ 197179, 210324)       5   0.00% 100.00%\n",
      "[ 210324, 223469)       3   0.00% 100.00%\n",
      "[ 223469, 236614)       0   0.00% 100.00%\n",
      "[ 236614, 249759)       0   0.00% 100.00%\n",
      "[ 249759, 262903]       1   0.00% 100.00%\n",
      "\n",
      "Attribute in nodes:\n",
      "\t777309 : actual_hour [NUMERICAL]\n",
      "\t362267 : C20 [NUMERICAL]\n",
      "\t309413 : weekday [NUMERICAL]\n",
      "\t116392 : C19 [NUMERICAL]\n",
      "\t87882 : device_conn_type [NUMERICAL]\n",
      "\t77968 : C21 [NUMERICAL]\n",
      "\t65961 : app_category [NUMERICAL]\n",
      "\t64768 : site_category [NUMERICAL]\n",
      "\t30530 : C18 [NUMERICAL]\n",
      "\t23494 : banner_pos [NUMERICAL]\n",
      "\t16543 : C15 [NUMERICAL]\n",
      "\t14864 : C1 [NUMERICAL]\n",
      "\t13908 : device_type [NUMERICAL]\n",
      "\t11486 : C16 [NUMERICAL]\n",
      "\n",
      "Attribute in nodes with depth <= 0:\n",
      "\t111 : C16 [NUMERICAL]\n",
      "\t73 : C21 [NUMERICAL]\n",
      "\t54 : app_category [NUMERICAL]\n",
      "\t30 : C15 [NUMERICAL]\n",
      "\t17 : device_conn_type [NUMERICAL]\n",
      "\t6 : C18 [NUMERICAL]\n",
      "\t4 : site_category [NUMERICAL]\n",
      "\t4 : C20 [NUMERICAL]\n",
      "\t1 : C19 [NUMERICAL]\n",
      "\n",
      "Attribute in nodes with depth <= 1:\n",
      "\t202 : C21 [NUMERICAL]\n",
      "\t178 : C16 [NUMERICAL]\n",
      "\t139 : app_category [NUMERICAL]\n",
      "\t73 : site_category [NUMERICAL]\n",
      "\t71 : C19 [NUMERICAL]\n",
      "\t69 : C15 [NUMERICAL]\n",
      "\t63 : device_conn_type [NUMERICAL]\n",
      "\t60 : C20 [NUMERICAL]\n",
      "\t41 : C18 [NUMERICAL]\n",
      "\t3 : banner_pos [NUMERICAL]\n",
      "\t1 : device_type [NUMERICAL]\n",
      "\n",
      "Attribute in nodes with depth <= 2:\n",
      "\t441 : C21 [NUMERICAL]\n",
      "\t247 : app_category [NUMERICAL]\n",
      "\t242 : C16 [NUMERICAL]\n",
      "\t231 : C19 [NUMERICAL]\n",
      "\t229 : C20 [NUMERICAL]\n",
      "\t222 : site_category [NUMERICAL]\n",
      "\t178 : C18 [NUMERICAL]\n",
      "\t130 : device_conn_type [NUMERICAL]\n",
      "\t87 : C15 [NUMERICAL]\n",
      "\t46 : banner_pos [NUMERICAL]\n",
      "\t20 : device_type [NUMERICAL]\n",
      "\t14 : actual_hour [NUMERICAL]\n",
      "\t12 : C1 [NUMERICAL]\n",
      "\t1 : weekday [NUMERICAL]\n",
      "\n",
      "Attribute in nodes with depth <= 3:\n",
      "\t832 : C21 [NUMERICAL]\n",
      "\t538 : C20 [NUMERICAL]\n",
      "\t522 : C19 [NUMERICAL]\n",
      "\t505 : site_category [NUMERICAL]\n",
      "\t496 : C18 [NUMERICAL]\n",
      "\t418 : app_category [NUMERICAL]\n",
      "\t340 : C16 [NUMERICAL]\n",
      "\t237 : device_conn_type [NUMERICAL]\n",
      "\t189 : banner_pos [NUMERICAL]\n",
      "\t118 : C15 [NUMERICAL]\n",
      "\t105 : device_type [NUMERICAL]\n",
      "\t74 : actual_hour [NUMERICAL]\n",
      "\t72 : C1 [NUMERICAL]\n",
      "\t54 : weekday [NUMERICAL]\n",
      "\n",
      "Attribute in nodes with depth <= 5:\n",
      "\t2700 : C21 [NUMERICAL]\n",
      "\t2592 : C19 [NUMERICAL]\n",
      "\t2392 : C20 [NUMERICAL]\n",
      "\t1867 : site_category [NUMERICAL]\n",
      "\t1717 : C18 [NUMERICAL]\n",
      "\t1498 : app_category [NUMERICAL]\n",
      "\t1215 : actual_hour [NUMERICAL]\n",
      "\t959 : weekday [NUMERICAL]\n",
      "\t909 : banner_pos [NUMERICAL]\n",
      "\t852 : device_conn_type [NUMERICAL]\n",
      "\t716 : C16 [NUMERICAL]\n",
      "\t485 : C1 [NUMERICAL]\n",
      "\t429 : device_type [NUMERICAL]\n",
      "\t325 : C15 [NUMERICAL]\n",
      "\n",
      "Condition type in nodes:\n",
      "\t1972785 : HigherCondition\n",
      "Condition type in nodes with depth <= 0:\n",
      "\t300 : HigherCondition\n",
      "Condition type in nodes with depth <= 1:\n",
      "\t900 : HigherCondition\n",
      "Condition type in nodes with depth <= 2:\n",
      "\t2100 : HigherCondition\n",
      "Condition type in nodes with depth <= 3:\n",
      "\t4500 : HigherCondition\n",
      "Condition type in nodes with depth <= 5:\n",
      "\t18656 : HigherCondition\n",
      "Node format: NOT_SET\n",
      "\n",
      "Training OOB:\n",
      "\ttrees: 1, Out-of-bag evaluation: accuracy:0.832744 logloss:6.02852\n",
      "\ttrees: 11, Out-of-bag evaluation: accuracy:0.833822 logloss:5.70613\n",
      "\ttrees: 21, Out-of-bag evaluation: accuracy:0.834141 logloss:5.58291\n",
      "\ttrees: 31, Out-of-bag evaluation: accuracy:0.834186 logloss:5.50949\n",
      "\ttrees: 41, Out-of-bag evaluation: accuracy:0.834216 logloss:5.45035\n",
      "\ttrees: 51, Out-of-bag evaluation: accuracy:0.834228 logloss:5.41282\n",
      "\ttrees: 61, Out-of-bag evaluation: accuracy:0.834256 logloss:5.37198\n",
      "\ttrees: 71, Out-of-bag evaluation: accuracy:0.834292 logloss:5.34497\n",
      "\ttrees: 81, Out-of-bag evaluation: accuracy:0.8343 logloss:5.32005\n",
      "\ttrees: 91, Out-of-bag evaluation: accuracy:0.834284 logloss:5.29458\n",
      "\ttrees: 101, Out-of-bag evaluation: accuracy:0.834265 logloss:5.27686\n",
      "\ttrees: 111, Out-of-bag evaluation: accuracy:0.834283 logloss:5.25287\n",
      "\ttrees: 121, Out-of-bag evaluation: accuracy:0.834285 logloss:5.23582\n",
      "\ttrees: 131, Out-of-bag evaluation: accuracy:0.83428 logloss:5.21323\n",
      "\ttrees: 141, Out-of-bag evaluation: accuracy:0.834284 logloss:5.19727\n",
      "\ttrees: 151, Out-of-bag evaluation: accuracy:0.834302 logloss:5.17938\n",
      "\ttrees: 161, Out-of-bag evaluation: accuracy:0.834285 logloss:5.16466\n",
      "\ttrees: 171, Out-of-bag evaluation: accuracy:0.834299 logloss:5.15312\n",
      "\ttrees: 181, Out-of-bag evaluation: accuracy:0.834288 logloss:5.14204\n",
      "\ttrees: 191, Out-of-bag evaluation: accuracy:0.8343 logloss:5.13195\n",
      "\ttrees: 201, Out-of-bag evaluation: accuracy:0.834299 logloss:5.12026\n",
      "\ttrees: 211, Out-of-bag evaluation: accuracy:0.83431 logloss:5.10907\n",
      "\ttrees: 221, Out-of-bag evaluation: accuracy:0.834319 logloss:5.09779\n",
      "\ttrees: 231, Out-of-bag evaluation: accuracy:0.834313 logloss:5.08721\n",
      "\ttrees: 241, Out-of-bag evaluation: accuracy:0.834312 logloss:5.07712\n",
      "\ttrees: 251, Out-of-bag evaluation: accuracy:0.834337 logloss:5.07011\n",
      "\ttrees: 261, Out-of-bag evaluation: accuracy:0.834327 logloss:5.06276\n",
      "\ttrees: 271, Out-of-bag evaluation: accuracy:0.834315 logloss:5.05593\n",
      "\ttrees: 281, Out-of-bag evaluation: accuracy:0.834326 logloss:5.04777\n",
      "\ttrees: 291, Out-of-bag evaluation: accuracy:0.834314 logloss:5.03894\n",
      "\ttrees: 300, Out-of-bag evaluation: accuracy:0.834328 logloss:5.03165\n",
      "\n"
     ]
    }
   ],
   "source": [
    "model.summary()"
   ]
  },
  {
   "cell_type": "markdown",
   "id": "6b5a306a-9131-42bf-9525-17992fb0a274",
   "metadata": {},
   "source": [
    "To evaluate the quality of the model, we are going to plot the training logs:"
   ]
  },
  {
   "cell_type": "code",
   "execution_count": 13,
   "id": "21ab8772-3bbf-4095-9fee-2e4546f729ac",
   "metadata": {},
   "outputs": [],
   "source": [
    "def trainingLogs(model):\n",
    "    logs = model.make_inspector().training_logs()\n",
    "\n",
    "    plt.figure(figsize=(12, 4))\n",
    "\n",
    "    plt.subplot(1, 2, 1)\n",
    "    plt.plot([log.num_trees for log in logs], [log.evaluation.accuracy for log in logs])\n",
    "    plt.xlabel(\"Number of trees\")\n",
    "    plt.ylabel(\"Accuracy (out-of-bag)\")\n",
    "\n",
    "    plt.subplot(1, 2, 2)\n",
    "    plt.plot([log.num_trees for log in logs], [log.evaluation.loss for log in logs])\n",
    "    plt.xlabel(\"Number of trees\")\n",
    "    plt.ylabel(\"Logloss (out-of-bag)\")\n",
    "\n",
    "    plt.show()"
   ]
  },
  {
   "cell_type": "code",
   "execution_count": 13,
   "id": "b8cb3ecb-44d4-416a-9324-aecfe4ecf16a",
   "metadata": {},
   "outputs": [
    {
     "data": {
      "image/png": "[encoded data removed]",
      "text/plain": [
       "<Figure size 864x288 with 2 Axes>"
      ]
     },
     "metadata": {
      "needs_background": "light"
     },
     "output_type": "display_data"
    }
   ],
   "source": [
    "trainingLogs(model)"
   ]
  },
  {
   "cell_type": "markdown",
   "id": "8b437ce2-c31c-48f3-8e7b-fa366a8f57d3",
   "metadata": {
    "jp-MarkdownHeadingCollapsed": true,
    "tags": []
   },
   "source": [
    "### 7.2. Decision forests model with Hyperparameter Tuning"
   ]
  },
  {
   "cell_type": "markdown",
   "id": "1a63cf9f-8995-49c5-82e8-1221e98f18a1",
   "metadata": {},
   "source": [
    "Now we are going to see if wee can get a better model with some Hyperparameters Tuning."
   ]
  },
  {
   "cell_type": "markdown",
   "id": "925cecd6-f08c-4b05-873d-33d28fe60c8c",
   "metadata": {},
   "source": [
    "To keep simple, we will test the following hyperparameters:"
   ]
  },
  {
   "cell_type": "markdown",
   "id": "b8159594-4482-4860-a71f-33f6f7cef947",
   "metadata": {},
   "source": [
    "* Number of trees:"
   ]
  },
  {
   "cell_type": "code",
   "execution_count": 14,
   "id": "52b7c37d-644f-4d4d-8689-1f1544bc4971",
   "metadata": {},
   "outputs": [
    {
     "name": "stdout",
     "output_type": "stream",
     "text": [
      "Use /tmp/tmpsr5c2mkl as temporary training directory\n"
     ]
    }
   ],
   "source": [
    "model2 = tfdf.keras.RandomForestModel(num_trees=500)"
   ]
  },
  {
   "cell_type": "code",
   "execution_count": 15,
   "id": "b46868dd-c295-4cd0-80ca-a9458948b45b",
   "metadata": {},
   "outputs": [
    {
     "name": "stdout",
     "output_type": "stream",
     "text": [
      "Starting reading the dataset\n",
      "1998/2000 [============================>.] - ETA: 0s\n",
      "Dataset read in 0:00:07.751863\n",
      "Training model\n",
      "Model trained in 0:07:59.101663\n",
      "Compiling model\n"
     ]
    },
    {
     "name": "stderr",
     "output_type": "stream",
     "text": [
      "[INFO kernel.cc:1153] Loading model from path\n",
      "[INFO abstract_model.cc:1063] Engine \"RandomForestOptPred\" built\n",
      "[INFO kernel.cc:1001] Use fast generic engine\n"
     ]
    },
    {
     "name": "stdout",
     "output_type": "stream",
     "text": [
      "2000/2000 [==============================] - 504s 252ms/step\n"
     ]
    },
    {
     "data": {
      "text/plain": [
       "<keras.callbacks.History at 0x7fcfa2225310>"
      ]
     },
     "execution_count": 15,
     "metadata": {},
     "output_type": "execute_result"
    }
   ],
   "source": [
    "model2.fit(train_simp_tf)"
   ]
  },
  {
   "cell_type": "code",
   "execution_count": 19,
   "id": "84c138d8-eb03-4e87-96a9-f901db386e82",
   "metadata": {},
   "outputs": [
    {
     "name": "stdout",
     "output_type": "stream",
     "text": [
      "200/200 [==============================] - 21s 103ms/step - loss: 0.0000e+00 - accuracy: 0.8327\n",
      "[0.0, 0.8327400088310242]\n"
     ]
    }
   ],
   "source": [
    "model2.compile(metrics=[\"accuracy\"])\n",
    "print(model2.evaluate(cv_simp_tf))"
   ]
  },
  {
   "cell_type": "code",
   "execution_count": 18,
   "id": "01f66b93-dc6f-455a-b5ad-329e03f54a6b",
   "metadata": {},
   "outputs": [
    {
     "data": {
      "image/png": "[encoded data removed]",
      "text/plain": [
       "<Figure size 864x288 with 2 Axes>"
      ]
     },
     "metadata": {
      "needs_background": "light"
     },
     "output_type": "display_data"
    }
   ],
   "source": [
    "trainingLogs(model2)"
   ]
  },
  {
   "cell_type": "markdown",
   "id": "f164d7e7-3236-488e-ac7d-f30865b7b6e8",
   "metadata": {},
   "source": [
    "The number of trees doesn't seem to change too much the results."
   ]
  },
  {
   "cell_type": "markdown",
   "id": "bd3e7605-4452-4ddd-b4b1-2adf5f27181a",
   "metadata": {},
   "source": [
    "- Growing strategy"
   ]
  },
  {
   "cell_type": "code",
   "execution_count": 20,
   "id": "7e9339dc-f61b-417e-8f05-acab514dfce4",
   "metadata": {},
   "outputs": [
    {
     "name": "stdout",
     "output_type": "stream",
     "text": [
      "Use /tmp/tmpfbmym51n as temporary training directory\n"
     ]
    }
   ],
   "source": [
    "model3 = tfdf.keras.RandomForestModel(growing_strategy=\"BEST_FIRST_GLOBAL\")"
   ]
  },
  {
   "cell_type": "code",
   "execution_count": 21,
   "id": "b7b7e242-b24d-4686-9eab-86fa4563e1b1",
   "metadata": {},
   "outputs": [
    {
     "name": "stdout",
     "output_type": "stream",
     "text": [
      "Starting reading the dataset\n",
      "1992/2000 [============================>.] - ETA: 0s\n",
      "Dataset read in 0:00:12.790015\n",
      "Training model\n",
      "Model trained in 0:02:00.116437\n",
      "Compiling model\n",
      "2000/2000 [==============================] - 133s 66ms/step\n"
     ]
    },
    {
     "name": "stderr",
     "output_type": "stream",
     "text": [
      "[INFO kernel.cc:1153] Loading model from path\n",
      "[INFO abstract_model.cc:1063] Engine \"RandomForestOptPred\" built\n",
      "[INFO kernel.cc:1001] Use fast generic engine\n"
     ]
    },
    {
     "data": {
      "text/plain": [
       "<keras.callbacks.History at 0x7fcfa241ba60>"
      ]
     },
     "execution_count": 21,
     "metadata": {},
     "output_type": "execute_result"
    }
   ],
   "source": [
    "model3.fit(train_simp_tf)"
   ]
  },
  {
   "cell_type": "code",
   "execution_count": 22,
   "id": "323655d2-3171-4eef-90df-c459dad5d157",
   "metadata": {},
   "outputs": [
    {
     "name": "stdout",
     "output_type": "stream",
     "text": [
      "200/200 [==============================] - 4s 18ms/step - loss: 0.0000e+00 - accuracy: 0.8306\n",
      "[0.0, 0.8306149840354919]\n"
     ]
    }
   ],
   "source": [
    "model3.compile(metrics=[\"accuracy\"])\n",
    "print(model3.evaluate(cv_simp_tf))"
   ]
  },
  {
   "cell_type": "code",
   "execution_count": 24,
   "id": "f34c6c4e-2402-42a9-ac7b-4872b53612d5",
   "metadata": {},
   "outputs": [
    {
     "data": {
      "image/png": "[encoded data removed]",
      "text/plain": [
       "<Figure size 864x288 with 2 Axes>"
      ]
     },
     "metadata": {
      "needs_background": "light"
     },
     "output_type": "display_data"
    }
   ],
   "source": [
    "trainingLogs(model3)"
   ]
  },
  {
   "cell_type": "markdown",
   "id": "a01d9c33-2379-4da2-a991-68978ebf355b",
   "metadata": {},
   "source": [
    "This time we had a much quicker convergence. But a worst result."
   ]
  },
  {
   "cell_type": "markdown",
   "id": "016ac499-09ce-41a5-b934-53b9442e21d1",
   "metadata": {},
   "source": [
    "- Combining both parameters:"
   ]
  },
  {
   "cell_type": "code",
   "execution_count": 30,
   "id": "86192d1e-e7f3-4f18-825d-543610e24a7d",
   "metadata": {},
   "outputs": [
    {
     "name": "stdout",
     "output_type": "stream",
     "text": [
      "Use /tmp/tmp3tewkxq_ as temporary training directory\n"
     ]
    }
   ],
   "source": [
    "model4 = tfdf.keras.RandomForestModel(num_trees=500,growing_strategy=\"BEST_FIRST_GLOBAL\")"
   ]
  },
  {
   "cell_type": "code",
   "execution_count": 31,
   "id": "89369e8b-20b6-49c8-a68f-ef24cdfad11c",
   "metadata": {},
   "outputs": [
    {
     "name": "stdout",
     "output_type": "stream",
     "text": [
      "Starting reading the dataset\n",
      "1998/2000 [============================>.] - ETA: 0s\n",
      "Dataset read in 0:00:12.937223\n",
      "Training model\n",
      "Model trained in 0:03:22.853127\n",
      "Compiling model\n",
      "2000/2000 [==============================] - 216s 108ms/step\n"
     ]
    },
    {
     "name": "stderr",
     "output_type": "stream",
     "text": [
      "[INFO kernel.cc:1153] Loading model from path\n",
      "[INFO abstract_model.cc:1063] Engine \"RandomForestOptPred\" built\n",
      "[INFO kernel.cc:1001] Use fast generic engine\n"
     ]
    },
    {
     "data": {
      "text/plain": [
       "<keras.callbacks.History at 0x7f004c7d2a30>"
      ]
     },
     "execution_count": 31,
     "metadata": {},
     "output_type": "execute_result"
    }
   ],
   "source": [
    "model4.fit(train_simp_tf)"
   ]
  },
  {
   "cell_type": "code",
   "execution_count": 32,
   "id": "a3f5cc98-ba8f-49e9-bf82-915d4f8a8c66",
   "metadata": {},
   "outputs": [
    {
     "name": "stdout",
     "output_type": "stream",
     "text": [
      "200/200 [==============================] - 6s 29ms/step - loss: 0.0000e+00 - accuracy: 0.8306\n",
      "[0.0, 0.8306149840354919]\n"
     ]
    }
   ],
   "source": [
    "model4.compile(metrics=[\"accuracy\"])\n",
    "print(model4.evaluate(cv_simp_tf))"
   ]
  },
  {
   "cell_type": "code",
   "execution_count": 34,
   "id": "bd9ec665-579d-4b6d-97c4-d06975b4e555",
   "metadata": {},
   "outputs": [
    {
     "data": {
      "image/png": "[encoded data removed]",
      "text/plain": [
       "<Figure size 864x288 with 2 Axes>"
      ]
     },
     "metadata": {
      "needs_background": "light"
     },
     "output_type": "display_data"
    }
   ],
   "source": [
    "trainingLogs(model4)"
   ]
  },
  {
   "cell_type": "markdown",
   "id": "5018cb36-5d5c-434f-ac0f-2a47704fb53b",
   "metadata": {},
   "source": [
    "Combining both parameters does not seem to be helpful."
   ]
  },
  {
   "cell_type": "markdown",
   "id": "a30beca4-fdd6-40ed-8461-14b0c52aece2",
   "metadata": {
    "jp-MarkdownHeadingCollapsed": true,
    "tags": []
   },
   "source": [
    "### 7.3. Gradient Boosted trees model"
   ]
  },
  {
   "cell_type": "markdown",
   "id": "17f3fd06-d8c1-489e-abaf-bbd2cdeb9308",
   "metadata": {},
   "source": [
    "We will now see if it is possible to optimize the model by using a different algorithm.\n",
    "\n",
    "To do so, we will use the Gradient Boosted Trees model (GBT model). According to the tensorflow documentation, a GBT model \"is a set of shallow decision trees trained sequentially. Each tree is trained to predict and then \"correct\" for the errors of the previously trained trees (more precisely each tree predict the gradient of the loss relative to the model output)\"."
   ]
  },
  {
   "cell_type": "code",
   "execution_count": 5,
   "id": "40aabd3d-be0d-4e1d-ba53-dca8998f93de",
   "metadata": {},
   "outputs": [
    {
     "name": "stdout",
     "output_type": "stream",
     "text": [
      "Use /tmp/tmprifck8uq as temporary training directory\n"
     ]
    }
   ],
   "source": [
    "model_gbt1 = tfdf.keras.GradientBoostedTreesModel()"
   ]
  },
  {
   "cell_type": "code",
   "execution_count": 6,
   "id": "8ad6ebcf-5650-49c3-8dcc-c73fefd952f0",
   "metadata": {},
   "outputs": [
    {
     "name": "stdout",
     "output_type": "stream",
     "text": [
      "Starting reading the dataset\n",
      "1998/2000 [============================>.] - ETA: 0s\n",
      "Dataset read in 0:00:15.297293\n",
      "Training model\n",
      "Model trained in 0:07:57.690340\n",
      "Compiling model\n",
      "2000/2000 [==============================] - 493s 245ms/step\n"
     ]
    },
    {
     "name": "stderr",
     "output_type": "stream",
     "text": [
      "[INFO kernel.cc:1153] Loading model from path\n",
      "[INFO abstract_model.cc:1063] Engine \"GradientBoostedTreesQuickScorerExtended\" built\n",
      "[INFO kernel.cc:1001] Use fast generic engine\n"
     ]
    },
    {
     "name": "stdout",
     "output_type": "stream",
     "text": [
      "WARNING:tensorflow:AutoGraph could not transform <function simple_ml_inference_op_with_handle at 0x7f159ef5b8b0> and will run it as-is.\n",
      "Please report this to the TensorFlow team. When filing the bug, set the verbosity to 10 (on Linux, `export AUTOGRAPH_VERBOSITY=10`) and attach the full output.\n",
      "Cause: could not get source code\n",
      "To silence this warning, decorate the function with @tf.autograph.experimental.do_not_convert\n"
     ]
    },
    {
     "name": "stderr",
     "output_type": "stream",
     "text": [
      "WARNING:tensorflow:AutoGraph could not transform <function simple_ml_inference_op_with_handle at 0x7f159ef5b8b0> and will run it as-is.\n",
      "Please report this to the TensorFlow team. When filing the bug, set the verbosity to 10 (on Linux, `export AUTOGRAPH_VERBOSITY=10`) and attach the full output.\n",
      "Cause: could not get source code\n",
      "To silence this warning, decorate the function with @tf.autograph.experimental.do_not_convert\n"
     ]
    },
    {
     "name": "stdout",
     "output_type": "stream",
     "text": [
      "WARNING: AutoGraph could not transform <function simple_ml_inference_op_with_handle at 0x7f159ef5b8b0> and will run it as-is.\n",
      "Please report this to the TensorFlow team. When filing the bug, set the verbosity to 10 (on Linux, `export AUTOGRAPH_VERBOSITY=10`) and attach the full output.\n",
      "Cause: could not get source code\n",
      "To silence this warning, decorate the function with @tf.autograph.experimental.do_not_convert\n"
     ]
    },
    {
     "data": {
      "text/plain": [
       "<keras.callbacks.History at 0x7f159f10cd00>"
      ]
     },
     "execution_count": 6,
     "metadata": {},
     "output_type": "execute_result"
    }
   ],
   "source": [
    "model_gbt1.fit(train_simp_tf)"
   ]
  },
  {
   "cell_type": "code",
   "execution_count": 7,
   "id": "f926b7ec-51e3-4343-b67f-9f655eec2f7d",
   "metadata": {},
   "outputs": [
    {
     "name": "stdout",
     "output_type": "stream",
     "text": [
      "200/200 [==============================] - 2s 7ms/step - loss: 0.0000e+00 - accuracy: 0.8325\n",
      "[0.0, 0.8324949741363525]\n"
     ]
    }
   ],
   "source": [
    "model_gbt1.compile(metrics=[\"accuracy\"])\n",
    "print(model_gbt1.evaluate(cv_simp_tf))"
   ]
  },
  {
   "cell_type": "code",
   "execution_count": 16,
   "id": "7ee14287-f388-4ee5-99c2-df007a1ad788",
   "metadata": {},
   "outputs": [
    {
     "data": {
      "image/png": "[encoded data removed]",
      "text/plain": [
       "<Figure size 864x288 with 2 Axes>"
      ]
     },
     "metadata": {
      "needs_background": "light"
     },
     "output_type": "display_data"
    }
   ],
   "source": [
    "trainingLogs(model_gbt1)"
   ]
  },
  {
   "cell_type": "markdown",
   "id": "ed4e4b9a-ba78-492b-b28b-d838c15813bc",
   "metadata": {},
   "source": [
    "Our logloss has stabilized at about 0.83! This is a much better result than the previous one."
   ]
  },
  {
   "cell_type": "markdown",
   "id": "3c42de88-4701-404d-8225-e3bdde8cb325",
   "metadata": {},
   "source": [
    "- Now with hyperparameter tuning:"
   ]
  },
  {
   "cell_type": "code",
   "execution_count": 9,
   "id": "9d09ec0b-f925-4029-bc83-71202eb918b4",
   "metadata": {},
   "outputs": [
    {
     "name": "stdout",
     "output_type": "stream",
     "text": [
      "Use /tmp/tmps062enmi as temporary training directory\n"
     ]
    }
   ],
   "source": [
    "model_gbt2 = tfdf.keras.GradientBoostedTreesModel(num_trees=500,growing_strategy=\"BEST_FIRST_GLOBAL\")"
   ]
  },
  {
   "cell_type": "code",
   "execution_count": 10,
   "id": "1857356a-e840-4331-9d34-d681a6d09126",
   "metadata": {},
   "outputs": [
    {
     "name": "stdout",
     "output_type": "stream",
     "text": [
      "Starting reading the dataset\n",
      "1995/2000 [============================>.] - ETA: 0s\n",
      "Dataset read in 0:00:13.020286\n",
      "Training model\n",
      "Model trained in 0:10:48.146676\n",
      "Compiling model\n",
      "2000/2000 [==============================] - 661s 331ms/step\n"
     ]
    },
    {
     "name": "stderr",
     "output_type": "stream",
     "text": [
      "[INFO kernel.cc:1153] Loading model from path\n",
      "[INFO abstract_model.cc:1063] Engine \"GradientBoostedTreesQuickScorerExtended\" built\n",
      "[INFO kernel.cc:1001] Use fast generic engine\n"
     ]
    },
    {
     "data": {
      "text/plain": [
       "<keras.callbacks.History at 0x7f159c17fb20>"
      ]
     },
     "execution_count": 10,
     "metadata": {},
     "output_type": "execute_result"
    }
   ],
   "source": [
    "model_gbt2.fit(train_simp_tf)"
   ]
  },
  {
   "cell_type": "code",
   "execution_count": 11,
   "id": "685e6321-c893-4c3e-8c0c-e0af74c4132d",
   "metadata": {},
   "outputs": [
    {
     "name": "stdout",
     "output_type": "stream",
     "text": [
      "200/200 [==============================] - 1s 5ms/step - loss: 0.0000e+00 - accuracy: 0.8325\n",
      "[0.0, 0.8324949741363525]\n"
     ]
    }
   ],
   "source": [
    "model_gbt2.compile(metrics=[\"accuracy\"])\n",
    "print(model_gbt1.evaluate(cv_simp_tf))"
   ]
  },
  {
   "cell_type": "code",
   "execution_count": 18,
   "id": "b6f98b63-4bce-4f98-88a4-718e183cf352",
   "metadata": {},
   "outputs": [
    {
     "data": {
      "image/png": "[encoded data removed]",
      "text/plain": [
       "<Figure size 864x288 with 2 Axes>"
      ]
     },
     "metadata": {
      "needs_background": "light"
     },
     "output_type": "display_data"
    }
   ],
   "source": [
    "trainingLogs(model_gbt2)"
   ]
  },
  {
   "cell_type": "markdown",
   "id": "8d3405f4-5a5f-4134-9cf1-d7d84efa2a47",
   "metadata": {},
   "source": [
    "Tuning the parameters for this model does not seem to help too much the results neither."
   ]
  },
  {
   "cell_type": "markdown",
   "id": "42ffa8ea-d099-455c-9e0b-b1e2dda24ed1",
   "metadata": {
    "jp-MarkdownHeadingCollapsed": true,
    "tags": []
   },
   "source": [
    "## 8. Complete model<a id=\"8\"></a>"
   ]
  },
  {
   "cell_type": "markdown",
   "id": "79eb98c3-8219-434c-8903-bcf2392da80a",
   "metadata": {},
   "source": [
    "Now we are going to build the model with all parameters to see if our loss gets any better."
   ]
  },
  {
   "cell_type": "code",
   "execution_count": 7,
   "id": "3b19d5c0-e0f4-477d-a5c1-f05f1c15cb96",
   "metadata": {},
   "outputs": [],
   "source": [
    "train=pd.read_csv('train_all.csv')\n",
    "cv=pd.read_csv('cv_all.csv')"
   ]
  },
  {
   "cell_type": "code",
   "execution_count": null,
   "id": "8b32837b-1656-4746-b01c-ee80db25d054",
   "metadata": {},
   "outputs": [],
   "source": [
    "cv_tf = tfdf.keras.pd_dataframe_to_tf_dataset(cv, label=\"click\")\n",
    "train_tf = tfdf.keras.pd_dataframe_to_tf_dataset(train, label=\"click\")"
   ]
  },
  {
   "cell_type": "code",
   "execution_count": 24,
   "id": "585969c2-d622-4296-bb72-0d372ed8955f",
   "metadata": {},
   "outputs": [
    {
     "name": "stdout",
     "output_type": "stream",
     "text": [
      "Use /tmp/tmp79zzfscg as temporary training directory\n"
     ]
    }
   ],
   "source": [
    "model5 = tfdf.keras.RandomForestModel()"
   ]
  },
  {
   "cell_type": "code",
   "execution_count": 25,
   "id": "01314b3b-118e-451a-a5bb-19bbfc5729de",
   "metadata": {},
   "outputs": [
    {
     "name": "stdout",
     "output_type": "stream",
     "text": [
      "Starting reading the dataset\n",
      "1997/2000 [============================>.] - ETA: 0s\n",
      "Dataset read in 0:00:20.823138\n",
      "Training model\n",
      "Model trained in 0:07:39.938770\n",
      "Compiling model\n"
     ]
    },
    {
     "name": "stderr",
     "output_type": "stream",
     "text": [
      "[INFO kernel.cc:1153] Loading model from path\n",
      "[INFO abstract_model.cc:1063] Engine \"RandomForestOptPred\" built\n",
      "[INFO kernel.cc:1001] Use fast generic engine\n"
     ]
    },
    {
     "name": "stdout",
     "output_type": "stream",
     "text": [
      "2000/2000 [==============================] - 490s 244ms/step\n",
      "WARNING:tensorflow:AutoGraph could not transform <function simple_ml_inference_op_with_handle at 0x7f00508c68b0> and will run it as-is.\n",
      "Please report this to the TensorFlow team. When filing the bug, set the verbosity to 10 (on Linux, `export AUTOGRAPH_VERBOSITY=10`) and attach the full output.\n",
      "Cause: could not get source code\n",
      "To silence this warning, decorate the function with @tf.autograph.experimental.do_not_convert\n"
     ]
    },
    {
     "name": "stderr",
     "output_type": "stream",
     "text": [
      "WARNING:tensorflow:AutoGraph could not transform <function simple_ml_inference_op_with_handle at 0x7f00508c68b0> and will run it as-is.\n",
      "Please report this to the TensorFlow team. When filing the bug, set the verbosity to 10 (on Linux, `export AUTOGRAPH_VERBOSITY=10`) and attach the full output.\n",
      "Cause: could not get source code\n",
      "To silence this warning, decorate the function with @tf.autograph.experimental.do_not_convert\n"
     ]
    },
    {
     "name": "stdout",
     "output_type": "stream",
     "text": [
      "WARNING: AutoGraph could not transform <function simple_ml_inference_op_with_handle at 0x7f00508c68b0> and will run it as-is.\n",
      "Please report this to the TensorFlow team. When filing the bug, set the verbosity to 10 (on Linux, `export AUTOGRAPH_VERBOSITY=10`) and attach the full output.\n",
      "Cause: could not get source code\n",
      "To silence this warning, decorate the function with @tf.autograph.experimental.do_not_convert\n"
     ]
    },
    {
     "data": {
      "text/plain": [
       "<keras.callbacks.History at 0x7f0011f01d30>"
      ]
     },
     "execution_count": 25,
     "metadata": {},
     "output_type": "execute_result"
    }
   ],
   "source": [
    "model5.fit(train_tf)"
   ]
  },
  {
   "cell_type": "code",
   "execution_count": 27,
   "id": "ff464859-d14a-4dd5-acdc-bfa23d37b886",
   "metadata": {},
   "outputs": [
    {
     "name": "stdout",
     "output_type": "stream",
     "text": [
      "200/200 [==============================] - 12s 57ms/step - loss: 0.0000e+00 - accuracy: 0.8341\n",
      "[0.0, 0.8341100215911865]\n"
     ]
    }
   ],
   "source": [
    "model5.compile(metrics=[\"accuracy\"])\n",
    "print(model5.evaluate(cv_tf))"
   ]
  },
  {
   "cell_type": "code",
   "execution_count": 29,
   "id": "31974bd9-d983-4be0-aefd-3524c8c4b558",
   "metadata": {},
   "outputs": [
    {
     "data": {
      "image/png": "[encoded data removed]",
      "text/plain": [
       "<Figure size 864x288 with 2 Axes>"
      ]
     },
     "metadata": {
      "needs_background": "light"
     },
     "output_type": "display_data"
    }
   ],
   "source": [
    "trainingLogs(model5)"
   ]
  },
  {
   "cell_type": "markdown",
   "id": "f82f00c7-860d-4677-bf70-78a11a21d487",
   "metadata": {},
   "source": [
    "Adding all parameters seems to be a better choice than simplifying the model."
   ]
  },
  {
   "cell_type": "markdown",
   "id": "b4ee58da-17fb-4e4c-9bf5-2f5b4c923650",
   "metadata": {},
   "source": [
    "Since for the simplified version of the model we got better results for the GBT model, we should normally get better results for the full model as well.\n",
    "\n",
    "So let's try to train the full dataset with the GBT model to see if we get even better results:"
   ]
  },
  {
   "cell_type": "code",
   "execution_count": 10,
   "id": "bbb806d8-b7b5-4899-be7f-ebb89060962f",
   "metadata": {},
   "outputs": [
    {
     "name": "stdout",
     "output_type": "stream",
     "text": [
      "Use /tmp/tmp2fr90xjc as temporary training directory\n"
     ]
    }
   ],
   "source": [
    "model_gbt3 = tfdf.keras.GradientBoostedTreesModel()"
   ]
  },
  {
   "cell_type": "code",
   "execution_count": 11,
   "id": "504e82f6-dc35-46a7-9c05-6d5fab094cdf",
   "metadata": {},
   "outputs": [
    {
     "name": "stdout",
     "output_type": "stream",
     "text": [
      "Starting reading the dataset\n",
      "1998/2000 [============================>.] - ETA: 0s\n",
      "Dataset read in 0:00:13.743258\n",
      "Training model\n",
      "Model trained in 0:11:05.645783\n",
      "Compiling model\n",
      "2000/2000 [==============================] - 679s 339ms/step\n"
     ]
    },
    {
     "name": "stderr",
     "output_type": "stream",
     "text": [
      "[INFO kernel.cc:1153] Loading model from path\n",
      "[INFO abstract_model.cc:1063] Engine \"GradientBoostedTreesQuickScorerExtended\" built\n",
      "[INFO kernel.cc:1001] Use fast generic engine\n"
     ]
    },
    {
     "name": "stdout",
     "output_type": "stream",
     "text": [
      "WARNING:tensorflow:AutoGraph could not transform <function simple_ml_inference_op_with_handle at 0x7f93e39908b0> and will run it as-is.\n",
      "Please report this to the TensorFlow team. When filing the bug, set the verbosity to 10 (on Linux, `export AUTOGRAPH_VERBOSITY=10`) and attach the full output.\n",
      "Cause: could not get source code\n",
      "To silence this warning, decorate the function with @tf.autograph.experimental.do_not_convert\n"
     ]
    },
    {
     "name": "stderr",
     "output_type": "stream",
     "text": [
      "WARNING:tensorflow:AutoGraph could not transform <function simple_ml_inference_op_with_handle at 0x7f93e39908b0> and will run it as-is.\n",
      "Please report this to the TensorFlow team. When filing the bug, set the verbosity to 10 (on Linux, `export AUTOGRAPH_VERBOSITY=10`) and attach the full output.\n",
      "Cause: could not get source code\n",
      "To silence this warning, decorate the function with @tf.autograph.experimental.do_not_convert\n"
     ]
    },
    {
     "name": "stdout",
     "output_type": "stream",
     "text": [
      "WARNING: AutoGraph could not transform <function simple_ml_inference_op_with_handle at 0x7f93e39908b0> and will run it as-is.\n",
      "Please report this to the TensorFlow team. When filing the bug, set the verbosity to 10 (on Linux, `export AUTOGRAPH_VERBOSITY=10`) and attach the full output.\n",
      "Cause: could not get source code\n",
      "To silence this warning, decorate the function with @tf.autograph.experimental.do_not_convert\n"
     ]
    },
    {
     "data": {
      "text/plain": [
       "<keras.callbacks.History at 0x7f93e2b17f10>"
      ]
     },
     "execution_count": 11,
     "metadata": {},
     "output_type": "execute_result"
    }
   ],
   "source": [
    "model_gbt3.fit(train_tf)"
   ]
  },
  {
   "cell_type": "code",
   "execution_count": 6,
   "id": "577d171e-342c-4a13-bacd-ac111ea79e85",
   "metadata": {},
   "outputs": [
    {
     "name": "stdout",
     "output_type": "stream",
     "text": [
      "200/200 [==============================] - 1s 6ms/step - loss: 0.0000e+00 - accuracy: 0.8348\n",
      "[0.0, 0.8347650170326233]\n"
     ]
    }
   ],
   "source": [
    "model_gbt3.compile(metrics=[\"accuracy\"])\n",
    "print(model_gbt3.evaluate(cv_tf))"
   ]
  },
  {
   "cell_type": "code",
   "execution_count": 14,
   "id": "58568579-4b8a-4345-bd04-846e560d5459",
   "metadata": {},
   "outputs": [
    {
     "data": {
      "image/png": "[encoded data removed]",
      "text/plain": [
       "<Figure size 864x288 with 2 Axes>"
      ]
     },
     "metadata": {
      "needs_background": "light"
     },
     "output_type": "display_data"
    }
   ],
   "source": [
    "trainingLogs(model_gbt3)"
   ]
  },
  {
   "cell_type": "markdown",
   "id": "c9c34e22-8e42-4dfd-89f5-f3c0df2fb9d2",
   "metadata": {},
   "source": [
    "The performance of this model is slightly better than the best model of the the simplified dataset."
   ]
  },
  {
   "cell_type": "code",
   "execution_count": 16,
   "id": "51bd6fc2-62b5-4642-9886-ffb63e85e6a2",
   "metadata": {},
   "outputs": [
    {
     "name": "stderr",
     "output_type": "stream",
     "text": [
      "WARNING:absl:Function `_wrapped_model` contains input name(s) C1, C14, C15, C16, C17, C18, C19, C20, C21 with unsupported characters which will be renamed to c1, c14, c15, c16, c17, c18, c19, c20, c21 in the SavedModel.\n",
      "WARNING:absl:Found untraced functions such as call_get_leaves while saving (showing 1 of 1). These functions will not be directly callable after loading.\n"
     ]
    },
    {
     "name": "stdout",
     "output_type": "stream",
     "text": [
      "INFO:tensorflow:Assets written to: project/ctr_gbt3_simp_model/assets\n"
     ]
    },
    {
     "name": "stderr",
     "output_type": "stream",
     "text": [
      "INFO:tensorflow:Assets written to: project/ctr_gbt3_simp_model/assets\n"
     ]
    }
   ],
   "source": [
    "model_gbt3.save(\"project/ctr_gbt3_simp_model\")"
   ]
  },
  {
   "cell_type": "markdown",
   "id": "b5dac134-3a23-469c-9e7a-1532d47763a5",
   "metadata": {
    "jp-MarkdownHeadingCollapsed": true,
    "tags": []
   },
   "source": [
    "## 9. Predictions on test dataset<a id=\"9\"></a>"
   ]
  },
  {
   "cell_type": "markdown",
   "id": "09c19c98-6d43-424f-97af-c35fe5bcc446",
   "metadata": {},
   "source": [
    "This part is optional because we can only submit the dataset and we cannot compare with the actual results of the test dataset (the \"click\" column does not exist on this dataset)."
   ]
  },
  {
   "cell_type": "markdown",
   "id": "4d48eba7-f711-4a05-8011-609b4d75cdfa",
   "metadata": {},
   "source": [
    "Loading the test dataframe:"
   ]
  },
  {
   "cell_type": "code",
   "execution_count": 43,
   "id": "ac6f1b07-f877-40e0-bd2b-4d84d29fe03c",
   "metadata": {},
   "outputs": [],
   "source": [
    "dtypes_converter = {\n",
    "    'id': np.dtype(str),\n",
    "    'hour': str,\n",
    "    'C1': np.dtype(int),\n",
    "    'banner_pos': np.dtype(int),\n",
    "    'site_id': np.dtype(str),\n",
    "    'site_domain': np.dtype(str), \n",
    "    'site_category': np.dtype(str),\n",
    "    'app_id': np.dtype(str),\n",
    "    'app_domain': np.dtype(str),\n",
    "    'app_category': np.dtype(str),\n",
    "    'device_id': np.dtype(str),\n",
    "    'device_ip': np.dtype(str),\n",
    "    'device_model': np.dtype(str),\n",
    "    'device_type': np.dtype(int),\n",
    "    'device_conn_type': np.dtype(int),\n",
    "    'C14': np.dtype(int),\n",
    "    'C15': np.dtype(int),\n",
    "    'C16': np.dtype(int),\n",
    "    'C17': np.dtype(int),\n",
    "    'C18': np.dtype(int),\n",
    "    'C19': np.dtype(int),\n",
    "    'C20': np.dtype(int),\n",
    "    'C21': np.dtype(int)\n",
    "}"
   ]
  },
  {
   "cell_type": "code",
   "execution_count": 44,
   "id": "0dbf9e8d-592c-4c63-8982-f97c44fb1864",
   "metadata": {},
   "outputs": [],
   "source": [
    "dparser = lambda val : pd.datetime.strptime(val, '%y%m%d%H')"
   ]
  },
  {
   "cell_type": "code",
   "execution_count": 45,
   "id": "ab18fb2f-e974-4684-90ab-37931a3d7c2c",
   "metadata": {},
   "outputs": [
    {
     "name": "stderr",
     "output_type": "stream",
     "text": [
      "/tmp/ipykernel_26258/468534682.py:1: FutureWarning: The pandas.datetime class is deprecated and will be removed from pandas in a future version. Import from datetime module instead.\n",
      "  dparser = lambda val : pd.datetime.strptime(val, '%y%m%d%H')\n"
     ]
    }
   ],
   "source": [
    "with gzip.open('test.gz') as f:\n",
    "    test = pd.read_csv(f, parse_dates=[\"hour\"], date_parser=dparser, dtype=dtypes_converter)"
   ]
  },
  {
   "cell_type": "code",
   "execution_count": 46,
   "id": "c9be9742-5baf-4402-8234-4c00125e981e",
   "metadata": {},
   "outputs": [],
   "source": [
    "test_id=test[['id']]"
   ]
  },
  {
   "cell_type": "code",
   "execution_count": 47,
   "id": "dc6f99d3-9e04-49bf-b0a6-678be5e98ea8",
   "metadata": {},
   "outputs": [
    {
     "data": {
      "text/plain": [
       "id    object\n",
       "dtype: object"
      ]
     },
     "execution_count": 47,
     "metadata": {},
     "output_type": "execute_result"
    }
   ],
   "source": [
    "test_id.dtypes"
   ]
  },
  {
   "cell_type": "code",
   "execution_count": 48,
   "id": "a8d190c4-fbf9-4fde-a597-c940379fb44f",
   "metadata": {},
   "outputs": [],
   "source": [
    "drop_feat(test,['id'])"
   ]
  },
  {
   "cell_type": "code",
   "execution_count": 49,
   "id": "03aa3f09-ee47-45de-b6f9-a570cec89b75",
   "metadata": {},
   "outputs": [],
   "source": [
    "split_hour_week(test)"
   ]
  },
  {
   "cell_type": "code",
   "execution_count": 50,
   "id": "d78b5e70-ab55-46ca-87c2-25bec5aead62",
   "metadata": {},
   "outputs": [],
   "source": [
    "hash_converter(test)"
   ]
  },
  {
   "cell_type": "code",
   "execution_count": 51,
   "id": "178d3fca-b47b-453c-9858-736eaa2da5f6",
   "metadata": {},
   "outputs": [
    {
     "data": {
      "text/html": [
       "<div>\n",
       "<style scoped>\n",
       "    .dataframe tbody tr th:only-of-type {\n",
       "        vertical-align: middle;\n",
       "    }\n",
       "\n",
       "    .dataframe tbody tr th {\n",
       "        vertical-align: top;\n",
       "    }\n",
       "\n",
       "    .dataframe thead th {\n",
       "        text-align: right;\n",
       "    }\n",
       "</style>\n",
       "<table border=\"1\" class=\"dataframe\">\n",
       "  <thead>\n",
       "    <tr style=\"text-align: right;\">\n",
       "      <th></th>\n",
       "      <th>C1</th>\n",
       "      <th>banner_pos</th>\n",
       "      <th>site_id</th>\n",
       "      <th>site_domain</th>\n",
       "      <th>site_category</th>\n",
       "      <th>app_id</th>\n",
       "      <th>app_domain</th>\n",
       "      <th>app_category</th>\n",
       "      <th>device_id</th>\n",
       "      <th>device_ip</th>\n",
       "      <th>device_model</th>\n",
       "      <th>device_type</th>\n",
       "      <th>device_conn_type</th>\n",
       "      <th>C14</th>\n",
       "      <th>C15</th>\n",
       "      <th>C16</th>\n",
       "      <th>C17</th>\n",
       "      <th>C18</th>\n",
       "      <th>C19</th>\n",
       "      <th>C20</th>\n",
       "      <th>C21</th>\n",
       "      <th>actual_hour</th>\n",
       "      <th>weekday</th>\n",
       "    </tr>\n",
       "  </thead>\n",
       "  <tbody>\n",
       "    <tr>\n",
       "      <th>0</th>\n",
       "      <td>1005</td>\n",
       "      <td>0</td>\n",
       "      <td>22307138</td>\n",
       "      <td>80559710</td>\n",
       "      <td>40734557</td>\n",
       "      <td>37182048</td>\n",
       "      <td>89821421</td>\n",
       "      <td>35582241</td>\n",
       "      <td>59130274</td>\n",
       "      <td>84093956</td>\n",
       "      <td>88663018</td>\n",
       "      <td>1</td>\n",
       "      <td>0</td>\n",
       "      <td>8330</td>\n",
       "      <td>320</td>\n",
       "      <td>50</td>\n",
       "      <td>761</td>\n",
       "      <td>3</td>\n",
       "      <td>175</td>\n",
       "      <td>100075</td>\n",
       "      <td>23</td>\n",
       "      <td>0</td>\n",
       "      <td>4</td>\n",
       "    </tr>\n",
       "    <tr>\n",
       "      <th>1</th>\n",
       "      <td>1005</td>\n",
       "      <td>0</td>\n",
       "      <td>30088808</td>\n",
       "      <td>87978715</td>\n",
       "      <td>33432265</td>\n",
       "      <td>37182048</td>\n",
       "      <td>89821421</td>\n",
       "      <td>35582241</td>\n",
       "      <td>59130274</td>\n",
       "      <td>13498033</td>\n",
       "      <td>62729153</td>\n",
       "      <td>1</td>\n",
       "      <td>0</td>\n",
       "      <td>22676</td>\n",
       "      <td>320</td>\n",
       "      <td>50</td>\n",
       "      <td>2616</td>\n",
       "      <td>0</td>\n",
       "      <td>35</td>\n",
       "      <td>100083</td>\n",
       "      <td>51</td>\n",
       "      <td>0</td>\n",
       "      <td>4</td>\n",
       "    </tr>\n",
       "    <tr>\n",
       "      <th>2</th>\n",
       "      <td>1005</td>\n",
       "      <td>0</td>\n",
       "      <td>30088808</td>\n",
       "      <td>87978715</td>\n",
       "      <td>33432265</td>\n",
       "      <td>37182048</td>\n",
       "      <td>89821421</td>\n",
       "      <td>35582241</td>\n",
       "      <td>59130274</td>\n",
       "      <td>44641628</td>\n",
       "      <td>3770975</td>\n",
       "      <td>1</td>\n",
       "      <td>0</td>\n",
       "      <td>22676</td>\n",
       "      <td>320</td>\n",
       "      <td>50</td>\n",
       "      <td>2616</td>\n",
       "      <td>0</td>\n",
       "      <td>35</td>\n",
       "      <td>100083</td>\n",
       "      <td>51</td>\n",
       "      <td>0</td>\n",
       "      <td>4</td>\n",
       "    </tr>\n",
       "    <tr>\n",
       "      <th>3</th>\n",
       "      <td>1005</td>\n",
       "      <td>0</td>\n",
       "      <td>64750755</td>\n",
       "      <td>50673893</td>\n",
       "      <td>23282419</td>\n",
       "      <td>19616185</td>\n",
       "      <td>42234095</td>\n",
       "      <td>40003476</td>\n",
       "      <td>59130274</td>\n",
       "      <td>83120233</td>\n",
       "      <td>74814805</td>\n",
       "      <td>1</td>\n",
       "      <td>0</td>\n",
       "      <td>18648</td>\n",
       "      <td>320</td>\n",
       "      <td>50</td>\n",
       "      <td>1092</td>\n",
       "      <td>3</td>\n",
       "      <td>809</td>\n",
       "      <td>100156</td>\n",
       "      <td>61</td>\n",
       "      <td>0</td>\n",
       "      <td>4</td>\n",
       "    </tr>\n",
       "    <tr>\n",
       "      <th>4</th>\n",
       "      <td>1005</td>\n",
       "      <td>0</td>\n",
       "      <td>64750755</td>\n",
       "      <td>50673893</td>\n",
       "      <td>23282419</td>\n",
       "      <td>4735826</td>\n",
       "      <td>23029164</td>\n",
       "      <td>4489524</td>\n",
       "      <td>59130274</td>\n",
       "      <td>68424788</td>\n",
       "      <td>3770975</td>\n",
       "      <td>1</td>\n",
       "      <td>0</td>\n",
       "      <td>23160</td>\n",
       "      <td>320</td>\n",
       "      <td>50</td>\n",
       "      <td>2667</td>\n",
       "      <td>0</td>\n",
       "      <td>47</td>\n",
       "      <td>-1</td>\n",
       "      <td>221</td>\n",
       "      <td>0</td>\n",
       "      <td>4</td>\n",
       "    </tr>\n",
       "  </tbody>\n",
       "</table>\n",
       "</div>"
      ],
      "text/plain": [
       "     C1  banner_pos   site_id  site_domain  site_category    app_id  \\\n",
       "0  1005           0  22307138     80559710       40734557  37182048   \n",
       "1  1005           0  30088808     87978715       33432265  37182048   \n",
       "2  1005           0  30088808     87978715       33432265  37182048   \n",
       "3  1005           0  64750755     50673893       23282419  19616185   \n",
       "4  1005           0  64750755     50673893       23282419   4735826   \n",
       "\n",
       "   app_domain  app_category  device_id  device_ip  device_model  device_type  \\\n",
       "0    89821421      35582241   59130274   84093956      88663018            1   \n",
       "1    89821421      35582241   59130274   13498033      62729153            1   \n",
       "2    89821421      35582241   59130274   44641628       3770975            1   \n",
       "3    42234095      40003476   59130274   83120233      74814805            1   \n",
       "4    23029164       4489524   59130274   68424788       3770975            1   \n",
       "\n",
       "   device_conn_type    C14  C15  C16   C17  C18  C19     C20  C21  \\\n",
       "0                 0   8330  320   50   761    3  175  100075   23   \n",
       "1                 0  22676  320   50  2616    0   35  100083   51   \n",
       "2                 0  22676  320   50  2616    0   35  100083   51   \n",
       "3                 0  18648  320   50  1092    3  809  100156   61   \n",
       "4                 0  23160  320   50  2667    0   47      -1  221   \n",
       "\n",
       "   actual_hour  weekday  \n",
       "0            0        4  \n",
       "1            0        4  \n",
       "2            0        4  \n",
       "3            0        4  \n",
       "4            0        4  "
      ]
     },
     "execution_count": 51,
     "metadata": {},
     "output_type": "execute_result"
    }
   ],
   "source": [
    "test.head()"
   ]
  },
  {
   "cell_type": "code",
   "execution_count": 52,
   "id": "f06945cb-6657-4eee-b5dd-64343ff6b4d9",
   "metadata": {},
   "outputs": [
    {
     "data": {
      "text/html": [
       "<div>\n",
       "<style scoped>\n",
       "    .dataframe tbody tr th:only-of-type {\n",
       "        vertical-align: middle;\n",
       "    }\n",
       "\n",
       "    .dataframe tbody tr th {\n",
       "        vertical-align: top;\n",
       "    }\n",
       "\n",
       "    .dataframe thead th {\n",
       "        text-align: right;\n",
       "    }\n",
       "</style>\n",
       "<table border=\"1\" class=\"dataframe\">\n",
       "  <thead>\n",
       "    <tr style=\"text-align: right;\">\n",
       "      <th></th>\n",
       "      <th>id</th>\n",
       "    </tr>\n",
       "  </thead>\n",
       "  <tbody>\n",
       "    <tr>\n",
       "      <th>0</th>\n",
       "      <td>10000174058809263569</td>\n",
       "    </tr>\n",
       "    <tr>\n",
       "      <th>1</th>\n",
       "      <td>10000182526920855428</td>\n",
       "    </tr>\n",
       "    <tr>\n",
       "      <th>2</th>\n",
       "      <td>10000554139829213984</td>\n",
       "    </tr>\n",
       "    <tr>\n",
       "      <th>3</th>\n",
       "      <td>10001094637809798845</td>\n",
       "    </tr>\n",
       "    <tr>\n",
       "      <th>4</th>\n",
       "      <td>10001377041558670745</td>\n",
       "    </tr>\n",
       "  </tbody>\n",
       "</table>\n",
       "</div>"
      ],
      "text/plain": [
       "                     id\n",
       "0  10000174058809263569\n",
       "1  10000182526920855428\n",
       "2  10000554139829213984\n",
       "3  10001094637809798845\n",
       "4  10001377041558670745"
      ]
     },
     "execution_count": 52,
     "metadata": {},
     "output_type": "execute_result"
    }
   ],
   "source": [
    "test_id.head()"
   ]
  },
  {
   "cell_type": "markdown",
   "id": "6901d10a-c855-400d-b043-0517961b32cc",
   "metadata": {},
   "source": [
    "Save to a .csv file (if needed):"
   ]
  },
  {
   "cell_type": "code",
   "execution_count": 53,
   "id": "0ab3b598-dcd4-4388-8e33-2871c94dc407",
   "metadata": {},
   "outputs": [],
   "source": [
    "test.to_csv(\"test_kaggle.csv\", index = False)\n",
    "test_id.to_csv(\"test_id_kaggle.csv\", index = False)"
   ]
  },
  {
   "cell_type": "markdown",
   "id": "50bcdf71-934f-4561-af31-d6dbb47532a4",
   "metadata": {},
   "source": [
    "Read the .csv file (if necessary):"
   ]
  },
  {
   "cell_type": "code",
   "execution_count": 55,
   "id": "ff724c48-bbe6-4204-81d0-6fdeeff62637",
   "metadata": {},
   "outputs": [],
   "source": [
    "test=pd.read_csv('test_kaggle.csv')\n",
    "test_id=pd.read_csv('test_id_kaggle.csv')"
   ]
  },
  {
   "cell_type": "markdown",
   "id": "171c151c-d281-4c7e-aa9d-00bfca1ef507",
   "metadata": {},
   "source": [
    "Convert to a tensorflow dataset:"
   ]
  },
  {
   "cell_type": "code",
   "execution_count": 23,
   "id": "8829a7c4-9a5c-45ef-ac83-bfb7a769cb5d",
   "metadata": {},
   "outputs": [],
   "source": [
    "test_tf = tfdf.keras.pd_dataframe_to_tf_dataset(test)"
   ]
  },
  {
   "cell_type": "markdown",
   "id": "ebb04b90-9028-4ce8-a37f-85544170043f",
   "metadata": {},
   "source": [
    "Using the most accurate model to make the predictions:"
   ]
  },
  {
   "cell_type": "code",
   "execution_count": 24,
   "id": "df389fe2-a34d-49b7-9e09-c90b48012ad0",
   "metadata": {},
   "outputs": [],
   "source": [
    "predictions = model_gbt3.predict(test_tf)"
   ]
  },
  {
   "cell_type": "markdown",
   "id": "7255b0f6-625c-4d1c-b03b-2493a0e36e23",
   "metadata": {},
   "source": [
    "Creating the predictions dataset with the id column:"
   ]
  },
  {
   "cell_type": "code",
   "execution_count": 57,
   "id": "6a2f6eb1-b23d-46f9-9a28-8394327415ac",
   "metadata": {},
   "outputs": [],
   "source": [
    "test_predictions = test_id"
   ]
  },
  {
   "cell_type": "code",
   "execution_count": 26,
   "id": "f6a8b88c-1a09-40fa-8faa-0f0b92038ada",
   "metadata": {},
   "outputs": [],
   "source": [
    "test_predictions['click']=predictions"
   ]
  },
  {
   "cell_type": "code",
   "execution_count": 3,
   "id": "0512a7d2-d920-4c6a-b9f8-973d3a32baec",
   "metadata": {},
   "outputs": [
    {
     "data": {
      "text/plain": [
       "(4577464, 2)"
      ]
     },
     "execution_count": 3,
     "metadata": {},
     "output_type": "execute_result"
    }
   ],
   "source": [
    "test_predictions.shape"
   ]
  },
  {
   "cell_type": "code",
   "execution_count": 68,
   "id": "73063634-68b0-46df-acfe-5ccc4a187914",
   "metadata": {},
   "outputs": [
    {
     "data": {
      "text/html": [
       "<div>\n",
       "<style scoped>\n",
       "    .dataframe tbody tr th:only-of-type {\n",
       "        vertical-align: middle;\n",
       "    }\n",
       "\n",
       "    .dataframe tbody tr th {\n",
       "        vertical-align: top;\n",
       "    }\n",
       "\n",
       "    .dataframe thead th {\n",
       "        text-align: right;\n",
       "    }\n",
       "</style>\n",
       "<table border=\"1\" class=\"dataframe\">\n",
       "  <thead>\n",
       "    <tr style=\"text-align: right;\">\n",
       "      <th></th>\n",
       "      <th>id</th>\n",
       "      <th>click</th>\n",
       "    </tr>\n",
       "  </thead>\n",
       "  <tbody>\n",
       "    <tr>\n",
       "      <th>0</th>\n",
       "      <td>10000174058809263569</td>\n",
       "      <td>0.068576</td>\n",
       "    </tr>\n",
       "    <tr>\n",
       "      <th>1</th>\n",
       "      <td>10000182526920855428</td>\n",
       "      <td>0.064176</td>\n",
       "    </tr>\n",
       "    <tr>\n",
       "      <th>2</th>\n",
       "      <td>10000554139829213984</td>\n",
       "      <td>0.049946</td>\n",
       "    </tr>\n",
       "    <tr>\n",
       "      <th>3</th>\n",
       "      <td>10001094637809798845</td>\n",
       "      <td>0.039663</td>\n",
       "    </tr>\n",
       "    <tr>\n",
       "      <th>4</th>\n",
       "      <td>10001377041558670745</td>\n",
       "      <td>0.019619</td>\n",
       "    </tr>\n",
       "  </tbody>\n",
       "</table>\n",
       "</div>"
      ],
      "text/plain": [
       "                     id     click\n",
       "0  10000174058809263569  0.068576\n",
       "1  10000182526920855428  0.064176\n",
       "2  10000554139829213984  0.049946\n",
       "3  10001094637809798845  0.039663\n",
       "4  10001377041558670745  0.019619"
      ]
     },
     "execution_count": 68,
     "metadata": {},
     "output_type": "execute_result"
    }
   ],
   "source": [
    "test_predictions.head()"
   ]
  },
  {
   "cell_type": "markdown",
   "id": "f8f24f6f-f6b1-4b24-abf8-0097f0060086",
   "metadata": {},
   "source": [
    "Save to a .csv file (if needed):"
   ]
  },
  {
   "cell_type": "code",
   "execution_count": 65,
   "id": "0bb3d5ad-7917-4a14-aefc-9cc71014d23c",
   "metadata": {},
   "outputs": [],
   "source": [
    "test_predictions.to_csv(\"test_predictions_kaggle.csv\", index = False)"
   ]
  },
  {
   "cell_type": "markdown",
   "id": "f0e77f13-b17d-48dc-9d3d-c94742758014",
   "metadata": {},
   "source": [
    "Read the .csv file (if necessary):"
   ]
  },
  {
   "cell_type": "code",
   "execution_count": 58,
   "id": "f541b0b6-f726-47ce-a191-545b90d398d8",
   "metadata": {},
   "outputs": [],
   "source": [
    "test_predictions=pd.read_csv('test_predictions_kaggle.csv')"
   ]
  },
  {
   "cell_type": "markdown",
   "id": "8905e516-28d5-434a-b42c-4005a30d364d",
   "metadata": {},
   "source": [
    "Submit the results to kaggle website:"
   ]
  },
  {
   "cell_type": "code",
   "execution_count": 64,
   "id": "63a82935-83d8-4fe7-b39d-01758e8ad5df",
   "metadata": {},
   "outputs": [
    {
     "name": "stdout",
     "output_type": "stream",
     "text": [
      "Warning: Your Kaggle API key is readable by other users on this system! To fix this, you can run 'chmod 600 /home/ian/.kaggle/kaggle.json'\n",
      "100%|████████████████████████████████████████| 139M/139M [00:26<00:00, 5.42MB/s]\n",
      "Successfully submitted to Click-Through Rate Prediction"
     ]
    }
   ],
   "source": [
    "!kaggle competitions submit -c avazu-ctr-prediction -f test_predictions_kaggle.csv -m \"my submision\""
   ]
  },
  {
   "cell_type": "markdown",
   "id": "22b0f245-fcaf-486d-b230-2355a14e4701",
   "metadata": {
    "jp-MarkdownHeadingCollapsed": true,
    "tags": []
   },
   "source": [
    "## 10. Conclusions<a id=\"10\"></a>"
   ]
  },
  {
   "cell_type": "markdown",
   "id": "fc9904bd-7b3e-46ed-9f02-6405bcdd5556",
   "metadata": {},
   "source": [
    "With this project we were able to create several models of decion trees with the help of tensorflow random forests algorithms.\n",
    "\n",
    "We tried multiple approaches and evaluated their performance on a cross-validation set before testing on the test dataset.\n",
    "\n",
    "The Gradient Boosted Trees learning algorithm appeared to perform better than the Random Forest learning algorithm. In addition, the hyperparameter used to tune the model did not appear to improve too much the models.\n",
    "\n",
    "Similarly, the \"complete dataset\" (with 24 features) seemed to obtain better models than the \"simple\" one with (14 features), but with the BGT algorithm, the performance of both models was very close.\n",
    "\n",
    "For future improvements, I suggest working on the simplified version of the model and trying other hyperparameters combined with the existing ones and trying to improve the GBT model (or trying a new tensorflow-decision-forests model).\n",
    "\n",
    "Some other models available on tfdf are:"
   ]
  },
  {
   "cell_type": "code",
   "execution_count": 84,
   "id": "aef21f43-1b10-4229-8205-ec4a790ad8d5",
   "metadata": {},
   "outputs": [
    {
     "data": {
      "text/plain": [
       "[tensorflow_decision_forests.keras.RandomForestModel,\n",
       " tensorflow_decision_forests.keras.GradientBoostedTreesModel,\n",
       " tensorflow_decision_forests.keras.CartModel,\n",
       " tensorflow_decision_forests.keras.DistributedGradientBoostedTreesModel]"
      ]
     },
     "execution_count": 84,
     "metadata": {},
     "output_type": "execute_result"
    }
   ],
   "source": [
    "tfdf.keras.get_all_models()"
   ]
  },
  {
   "cell_type": "markdown",
   "id": "03b14142-12a6-4856-a464-305a5c4e9459",
   "metadata": {},
   "source": [
    "Another option is to get a larger dataset by extracting small epochs based on the 40milion dataset, and then iterating on these to get even more decision trees. The problem is that this option can be very time consuming, but can be solved by taking the right epoch size and the right number of epochs."
   ]
  }
 ],
 "metadata": {
  "kernelspec": {
   "display_name": "Python 3 (ipykernel)",
   "language": "python",
   "name": "python3"
  },
  "language_info": {
   "codemirror_mode": {
    "name": "ipython",
    "version": 3
   },
   "file_extension": ".py",
   "mimetype": "text/x-python",
   "name": "python",
   "nbconvert_exporter": "python",
   "pygments_lexer": "ipython3",
   "version": "3.8.10"
  }
 },
 "nbformat": 4,
 "nbformat_minor": 5
}
